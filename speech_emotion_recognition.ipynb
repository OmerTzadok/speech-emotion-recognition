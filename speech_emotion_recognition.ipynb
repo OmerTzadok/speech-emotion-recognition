{
 "cells": [
  {
   "cell_type": "markdown",
   "id": "fe9d62f9-500f-42a4-be40-481e2b1bfcd0",
   "metadata": {
    "tags": []
   },
   "source": [
    "# 1. Imports"
   ]
  },
  {
   "cell_type": "code",
   "execution_count": 1,
   "id": "d16245d3-8a8a-4d97-b1e4-7845ac5a789f",
   "metadata": {
    "tags": []
   },
   "outputs": [],
   "source": [
    "import os\n",
    "import io\n",
    "import glob\n",
    "import shutil\n",
    "from shutil import copyfile\n",
    "from shutil import move\n",
    "\n",
    "import pandas as pd\n",
    "import numpy as np\n",
    "import matplotlib.pyplot as plt\n",
    "import seaborn as sns\n",
    "\n",
    "import librosa\n",
    "import librosa.display\n",
    "import IPython.display as ipd  # To play sound in the notebook\n",
    "import soundfile as sf\n",
    "import random\n",
    "\n",
    "from sklearn.model_selection import train_test_split\n",
    "from sklearn.preprocessing import StandardScaler\n",
    "from sklearn.preprocessing import LabelEncoder\n",
    "from sklearn.metrics import confusion_matrix, classification_report\n",
    "\n",
    "from keras.models import Sequential, Model\n",
    "from keras.layers import Input, Dense, Dropout, Flatten, BatchNormalization\n",
    "from keras.layers import Conv2D, MaxPooling2D, GlobalAveragePooling2D\n",
    "from keras.layers import Flatten\n",
    "from keras.utils import to_categorical\n",
    "from keras.callbacks import EarlyStopping, ReduceLROnPlateau, ModelCheckpoint\n",
    "from keras.optimizers import Adam\n",
    "\n",
    "import tensorflow \n",
    "from keras.applications import MobileNetV2, MobileNetV3Small\n",
    "from keras.preprocessing.image import ImageDataGenerator\n",
    "\n",
    "sns.set_style(\"whitegrid\")\n",
    "%matplotlib inline\n",
    "\n",
    "import warnings\n",
    "warnings.filterwarnings('ignore')"
   ]
  },
  {
   "cell_type": "markdown",
   "id": "ae651683-fc37-4077-8fed-f076fa8cdcda",
   "metadata": {},
   "source": [
    "# 2. Data Collection"
   ]
  },
  {
   "cell_type": "code",
   "execution_count": 2,
   "id": "7782d9d5-b4d1-4460-a716-1ddda02e5b3c",
   "metadata": {
    "tags": []
   },
   "outputs": [],
   "source": [
    "RAVDESS = \"./data/ravdess-emotional-speech-audio/\"\n",
    "CREMA = \"./data/cremad/\"\n",
    "TESS = \"./data/toronto-emotional-speech-set-tess/\"\n",
    "SAVEE = \"./data/surrey-audiovisual-expressed-emotion-savee/\""
   ]
  },
  {
   "cell_type": "markdown",
   "id": "68c58262",
   "metadata": {},
   "source": [
    "## 2.1. Ravdess dataframe"
   ]
  },
  {
   "cell_type": "code",
   "execution_count": 3,
   "id": "1e3ddabe",
   "metadata": {
    "tags": []
   },
   "outputs": [
    {
     "ename": "KeyboardInterrupt",
     "evalue": "",
     "output_type": "error",
     "traceback": [
      "\u001b[1;31m---------------------------------------------------------------------------\u001b[0m",
      "\u001b[1;31mKeyboardInterrupt\u001b[0m                         Traceback (most recent call last)",
      "Cell \u001b[1;32mIn[3], line 9\u001b[0m\n\u001b[0;32m      6\u001b[0m durations \u001b[39m=\u001b[39m []\n\u001b[0;32m      8\u001b[0m \u001b[39mfor\u001b[39;00m file \u001b[39min\u001b[39;00m ravdess_actors_list:\n\u001b[1;32m----> 9\u001b[0m     actor \u001b[39m=\u001b[39m os\u001b[39m.\u001b[39mlistdir(os\u001b[39m.\u001b[39mpath\u001b[39m.\u001b[39mjoin(RAVDESS,file))\n\u001b[0;32m     10\u001b[0m     \u001b[39mfor\u001b[39;00m audio \u001b[39min\u001b[39;00m actor:\n\u001b[0;32m     11\u001b[0m         list_audio \u001b[39m=\u001b[39m audio\u001b[39m.\u001b[39msplit(\u001b[39m'\u001b[39m\u001b[39m.\u001b[39m\u001b[39m'\u001b[39m)[\u001b[39m0\u001b[39m] \u001b[39m# splitting by the '.' into '**-**-**' . 'wav' and grab the first element\u001b[39;00m\n",
      "\u001b[1;31mKeyboardInterrupt\u001b[0m: "
     ]
    }
   ],
   "source": [
    "ravdess_actors_list = os.listdir(RAVDESS)\n",
    "audio_emotion = []\n",
    "audio_path = []\n",
    "audio_gender = []\n",
    "audio_intensity = []\n",
    "durations = []\n",
    "\n",
    "for file in ravdess_actors_list:\n",
    "    actor = os.listdir(os.path.join(RAVDESS,file))\n",
    "    for audio in actor:\n",
    "        list_audio = audio.split('.')[0] # splitting by the '.' into '**-**-**' . 'wav' and grab the first element\n",
    "        list_audio = list_audio.split('-') # splitting by the dash\n",
    "        gender_code = int(list_audio[6])\n",
    "        \n",
    "        audio_emotion.append(int(list_audio[2])) # the third element describes the emotion class\n",
    "        audio_gender.append('female' if gender_code & 1 == 0 else 'male') # the sixth element describes the voice gender \n",
    "        audio_intensity.append('normal' if int(list_audio[3]) == 1 else 'high')\n",
    "        audio_path.append(os.path.join(RAVDESS,file,audio))\n",
    "        \n",
    "        audio, sr = librosa.load(os.path.join(RAVDESS,file,audio))\n",
    "        durations.append(librosa.get_duration(y=audio, sr=sr))\n",
    "\n",
    "ravdess_df = pd.DataFrame({'emotions': audio_emotion, 'genders': audio_gender, 'audio_intensity': audio_intensity, 'audio_path': audio_path, 'duration':durations})\n",
    "\n",
    "# Mapping the values to emotions\n",
    "emotion_dict = {\n",
    "    1: 'neutral',\n",
    "    2: 'neutral', # originally - - > 'calm'\n",
    "    3: 'happy',\n",
    "    4: 'sad',\n",
    "    5: 'angry',\n",
    "    6: 'fear',\n",
    "    7: 'disgust',\n",
    "    8: 'surprised',\n",
    "}\n",
    "\n",
    "# Replace the values in the column with emotions\n",
    "ravdess_df['emotions'] = ravdess_df['emotions'] .replace(emotion_dict)\n",
    "ravdess_df['dataset'] = 'ravdess'\n",
    "ravdess_df.head()"
   ]
  },
  {
   "cell_type": "markdown",
   "id": "41fdd96c",
   "metadata": {},
   "source": [
    "## 2.2. Crema dataframe"
   ]
  },
  {
   "cell_type": "code",
   "execution_count": null,
   "id": "bd16ae41",
   "metadata": {
    "tags": []
   },
   "outputs": [],
   "source": [
    "crema_list = os.listdir(CREMA)\n",
    "audio_emotion = []\n",
    "audio_path = []\n",
    "audio_intensity = []\n",
    "gender_list = []\n",
    "durations = []\n",
    "\n",
    "female_id_list = [\n",
    "    '1002', '1003', '1004', '1006', '1007', '1008', '1009', '1010', '1012', '1013', '1018', \n",
    "    '1020', '1021', '1024', '1025', '1028', '1029', '1030', '1037', '1043', '1046', '1047', \n",
    "    '1049', '1052', '1053', '1054', '1055', '1056', '1058', '1060', '1061', '1063', '1072', \n",
    "    '1073', '1074', '1075', '1076', '1078', '1079', '1082', '1084', '1089', '1091',\n",
    "]\n",
    "\n",
    "emotion_dict = {\n",
    "    'HAP' : 'happy',\n",
    "    'NEU' : 'neutral',\n",
    "    'SAD' : 'sad',\n",
    "    'ANG' : 'angry',\n",
    "    'FEA' : 'fear',\n",
    "    'DIS' : 'disgust',\n",
    "}\n",
    "\n",
    "intensity_dict = {\n",
    "    'XX' : 'normal',\n",
    "    'X' : 'normal',\n",
    "    'LO' : 'low',\n",
    "    'MD' : 'normal',\n",
    "    'HI': 'high'\n",
    "}\n",
    "\n",
    "for audio in crema_list:\n",
    "    list_audio = audio.split('.')[0] # splitting by the '.' into '**-**-**' . 'wav' and grab the first element\n",
    "    list_audio = list_audio.split('_') # splitting by the underline\n",
    "    audio_emotion.append(list_audio[2])\n",
    "    audio_intensity.append(list_audio[3])\n",
    "    audio_path.append(os.path.join(CREMA,audio))\n",
    "    gender_list.append('female' if list_audio[0] in female_id_list else 'male')\n",
    "    \n",
    "    audio, sr = librosa.load(os.path.join(CREMA,audio))\n",
    "    durations.append(librosa.get_duration(y=audio, sr=sr))\n",
    "    \n",
    "crema_df = pd.DataFrame({'emotions': audio_emotion, 'genders': gender_list, 'audio_intensity': audio_intensity, 'audio_path': audio_path, 'duration':durations})\n",
    "crema_df['emotions'] = crema_df['emotions'].replace(emotion_dict)\n",
    "crema_df['audio_intensity'] = crema_df['audio_intensity'].replace(intensity_dict)\n",
    "crema_df['dataset'] = 'crema'\n",
    "crema_df.head()"
   ]
  },
  {
   "cell_type": "markdown",
   "id": "42a0a6b1-22a9-40c4-b52d-21afe81c80d9",
   "metadata": {},
   "source": [
    "## 2.3. TESS dataframe"
   ]
  },
  {
   "cell_type": "code",
   "execution_count": null,
   "id": "ef4e2bcb-99e0-4c90-8dbc-aad074ff9882",
   "metadata": {
    "tags": []
   },
   "outputs": [],
   "source": [
    "tess_dir_list = os.listdir(TESS)\n",
    "path_list = []\n",
    "gender_list = []\n",
    "emotion_list = [] \n",
    "audio_intensity = []\n",
    "durations = []\n",
    "\n",
    "emotion_dict = {\n",
    "    'happy'   : 'happy',\n",
    "    'neutral' : 'neutral',\n",
    "    'sad'     : 'sad',\n",
    "    'ps'     : 'surprised',\n",
    "    'angry'   : 'angry',\n",
    "    'fear'    : 'fear',\n",
    "    'disgust'  : 'disgust',\n",
    "}\n",
    "\n",
    "for directory in tess_dir_list:\n",
    "    audio_files = os.listdir(os.path.join(TESS, directory))\n",
    "    for audio_file in audio_files:\n",
    "        part = audio_file.split('.')[0]\n",
    "        path_list.append(os.path.join(TESS,directory,audio_file))\n",
    "        gender_list.append('female') # female only dataset\n",
    "        audio_intensity.append('normal') # normal only dataset\n",
    "        emotion_list.append(part.split('_')[2])\n",
    "        \n",
    "        audio, sr = librosa.load(os.path.join(TESS,directory,audio_file))\n",
    "        durations.append(librosa.get_duration(y=audio, sr=sr))\n",
    "            \n",
    "tess_df = pd.DataFrame({'emotions': emotion_list, 'genders': gender_list, 'audio_intensity': audio_intensity, 'audio_path': path_list, 'duration':durations})\n",
    "tess_df['emotions'] = tess_df['emotions'].replace(emotion_dict)\n",
    "tess_df['dataset'] = 'tess'\n",
    "tess_df.head()"
   ]
  },
  {
   "cell_type": "markdown",
   "id": "ecbc0eef-7e88-48b6-a78a-73c97bcdd82e",
   "metadata": {},
   "source": [
    "## 2.3. SAVEE dataframe"
   ]
  },
  {
   "cell_type": "code",
   "execution_count": null,
   "id": "79812cdc-6f33-496a-a76a-1f5d8687ccaa",
   "metadata": {
    "tags": []
   },
   "outputs": [],
   "source": [
    "savee_dir_list = os.listdir(SAVEE)\n",
    "path_list = []\n",
    "gender_list = []\n",
    "emotion_list = []\n",
    "audio_intensity = []\n",
    "durations = []\n",
    "\n",
    "emotion_dict = {\n",
    "    'h'  : 'happy',\n",
    "    'n'  : 'neutral',\n",
    "    'sa' : 'sad',\n",
    "    'a'  : 'angry',\n",
    "    'f'  : 'fear',\n",
    "    'd'  : 'disgust',\n",
    "    'su' : 'surprised'\n",
    "}\n",
    "\n",
    "for audio_file in savee_dir_list:\n",
    "    part = audio_file.split('_')[1]\n",
    "    path_list.append(os.path.join(SAVEE,audio_file))\n",
    "    gender_list.append('male') # male only dataset\n",
    "    emotion_list.append(part[:-6])\n",
    "    audio_intensity.append('normal') # normal only dataset\n",
    "    \n",
    "    audio, sr = librosa.load(os.path.join(SAVEE,audio_file))\n",
    "    durations.append(librosa.get_duration(y=audio, sr=sr))\n",
    "        \n",
    "savee_df = pd.DataFrame({'emotions': emotion_list, 'genders': gender_list, 'audio_intensity': audio_intensity, 'audio_path': path_list,'duration':durations})\n",
    "savee_df['emotions'] = savee_df['emotions'].replace(emotion_dict)\n",
    "savee_df['dataset'] = 'savee'\n",
    "\n",
    "savee_df.head()"
   ]
  },
  {
   "cell_type": "code",
   "execution_count": null,
   "id": "4d4eea19-f752-4a55-928d-48313195d15c",
   "metadata": {
    "tags": []
   },
   "outputs": [],
   "source": [
    "merged_df = pd.concat([ravdess_df, crema_df, tess_df, savee_df], axis=0)\n",
    "merged_df.reset_index(inplace=True, drop=True)\n",
    "merged_df.to_csv('merged_df.csv',index=False)\n",
    "merged_df"
   ]
  },
  {
   "cell_type": "markdown",
   "id": "04f3bf9c-7f3a-46a3-9bd0-da850193229c",
   "metadata": {},
   "source": [
    "# 3. EDA"
   ]
  },
  {
   "cell_type": "markdown",
   "id": "3fa979fb",
   "metadata": {},
   "source": [
    "## 3.1. Exploring the data"
   ]
  },
  {
   "cell_type": "code",
   "execution_count": null,
   "id": "a3937684",
   "metadata": {},
   "outputs": [],
   "source": [
    "plt.figure(figsize=(10,6))\n",
    "emotion_percent = merged_df['emotions'].value_counts(normalize=True) * 100\n",
    "\n",
    "# Set a threshold for small percentage slices\n",
    "threshold = 5\n",
    "\n",
    "# Identify emotions below the threshold\n",
    "small_emotions = emotion_percent[emotion_percent < threshold]\n",
    "\n",
    "# Create a list of explode values\n",
    "explode = [0.1 if emotion in small_emotions else 0 for emotion in emotion_percent.index]\n",
    "\n",
    "# Set the figure size\n",
    "plt.figure(figsize=(10, 6))\n",
    "\n",
    "# Define a custom color palette\n",
    "color_palette = [\"#0bb4ff\", \"#50e991\", \"#e6d800\", \"#9b19f5\", \"#e60049\"] \n",
    "\n",
    "# Create the pie chart with explode values\n",
    "plt.pie(emotion_percent, labels=emotion_percent.index, autopct='%1.1f%%', colors=color_palette, explode=explode)\n",
    "\n",
    "# Set the title\n",
    "plt.title('Distribution of Emotions', size=16)"
   ]
  },
  {
   "cell_type": "markdown",
   "id": "4724b559",
   "metadata": {},
   "source": [
    "The pie chart represents the distribution of emotion types in the dataset. <br>\n",
    "It is evident that apart from the surprised tone with 5.4% , the other types of tones are around 14-16%. <br>\n",
    "Worth mentioning that the tone 'calm' with its 1.6% distribution in the dataset, was merged with the neutral tone."
   ]
  },
  {
   "cell_type": "code",
   "execution_count": null,
   "id": "2a739197-466f-4398-89bf-72b5f3a47f3e",
   "metadata": {},
   "outputs": [],
   "source": [
    "# Calculate the percentage of each emotion by gender\n",
    "emotions_by_gender = merged_df.groupby('genders')['emotions'].value_counts(normalize=True) * 100\n",
    "\n",
    "# Reset the index to convert the result into a DataFrame\n",
    "emotions_by_gender = emotions_by_gender.reset_index(name='percentage')\n",
    "\n",
    "plt.figure(figsize=(10,6))\n",
    "\n",
    "sns.barplot(emotions_by_gender, x='emotions', y='percentage', hue='genders', palette='Set2')\n",
    "\n",
    "plt.title('Distribution of Emotions by Gender', size=16)\n",
    "plt.xlabel('Emotions', size=12)\n",
    "plt.ylabel('Percent, %', size=12)\n",
    "plt.xticks(fontsize=10)\n",
    "plt.yticks(fontsize=10)\n",
    "sns.despine() # Remove the top and right spines"
   ]
  },
  {
   "cell_type": "markdown",
   "id": "d9601592",
   "metadata": {},
   "source": [
    "The distribution of emotions in the entire dataset by the gender is relatively uniform."
   ]
  },
  {
   "cell_type": "code",
   "execution_count": null,
   "id": "811336b0",
   "metadata": {},
   "outputs": [],
   "source": [
    "# Calculate the percentage of each emotion by gender\n",
    "emotions_by_gender = merged_df.groupby('audio_intensity')['emotions'].value_counts(normalize=True) * 100\n",
    "\n",
    "# Reset the index to convert the result into a DataFrame\n",
    "emotions_by_gender = emotions_by_gender.reset_index(name='percentage')\n",
    "\n",
    "plt.figure(figsize=(10,6))\n",
    "\n",
    "sns.barplot(emotions_by_gender, x='emotions', y='percentage', hue='audio_intensity', hue_order=['high', 'normal', 'low'], palette='Set2')\n",
    "\n",
    "plt.title('Distribution of Emotions by Audio Intensity', size=16)\n",
    "plt.xlabel('Emotions', size=12)\n",
    "plt.ylabel('Percent, %', size=12)\n",
    "plt.xticks(fontsize=10)\n",
    "plt.yticks(fontsize=10)\n",
    "sns.despine() # Remove the top and right spines"
   ]
  },
  {
   "cell_type": "markdown",
   "id": "80bf57ee",
   "metadata": {},
   "source": [
    "The audio intensity distribution is divided by high, normal, and low. Neutral and surprised tones have only two intensities, normal and high. <br>\n",
    "The total distribution is uniform between all the modes of the tone intensity (15%-20%), where only in neutral tone there is a higher percentage of normal intensity. "
   ]
  },
  {
   "cell_type": "code",
   "execution_count": null,
   "id": "97073800-0471-4a2e-b9ed-61a799f223cb",
   "metadata": {
    "tags": []
   },
   "outputs": [],
   "source": [
    "# Create a histogram using seaborn\n",
    "sns.histplot(data=merged_df, x='duration', hue='dataset')\n",
    "\n",
    "# Set labels and title\n",
    "plt.xlabel('Duration')\n",
    "plt.ylabel('Count')\n",
    "plt.title('Histogram of Sound Durations')\n",
    "\n",
    "# Display the histogram\n",
    "plt.show()"
   ]
  },
  {
   "cell_type": "code",
   "execution_count": null,
   "id": "c15d6d7a-73d1-4fba-b4c5-429133ad0feb",
   "metadata": {
    "tags": []
   },
   "outputs": [],
   "source": [
    "print(f\"max input audion duration is {round(merged_df['duration'].max(),2)}\")"
   ]
  },
  {
   "cell_type": "markdown",
   "id": "38409777-9555-46fa-bf1b-b1a62ca8a0ba",
   "metadata": {},
   "source": [
    "The audio duration distribution of each dataset is slightly different, with the SAVEE dataset having the biggest spread.\n",
    "This means that as part of the data preparation for the model, we'll need to pad the audio files with zeroes based on the longest audio files in the dataset."
   ]
  },
  {
   "cell_type": "markdown",
   "id": "d2694ecc",
   "metadata": {},
   "source": [
    "## 3.2. Demonstration of various audio files"
   ]
  },
  {
   "cell_type": "code",
   "execution_count": null,
   "id": "fd954beb",
   "metadata": {},
   "outputs": [],
   "source": [
    "def play_random_audio(dataframe, gender, emotion, intensity, preprocess=False):\n",
    "    # Filter the DataFrame based on the given criteria\n",
    "    filtered_df = dataframe[(dataframe['genders'] == gender) & (dataframe['emotions'] == emotion) & (dataframe['audio_intensity'] == intensity)]\n",
    "    \n",
    "    # Randomly select an audio file path\n",
    "    file_path = random.choice(np.array(filtered_df['audio_path']))\n",
    "    \n",
    "    # Load the audio file using librosa\n",
    "    audio, sr = librosa.load(file_path)\n",
    "\n",
    "    # Applying preprocess\n",
    "    if preprocess:\n",
    "        audio = preprocess_audio(audio)\n",
    "        \n",
    "    # Display the waveform plot\n",
    "    plt.figure(figsize=(12, 4))\n",
    "\n",
    "    # Waveform plot\n",
    "    plt.subplot(1, 2, 1)\n",
    "    librosa.display.waveshow(audio, sr=sr)\n",
    "    plt.title(f'Waveform')\n",
    "    plt.xlabel('Time (s)')\n",
    "    plt.ylabel('Amplitude')\n",
    "\n",
    "    # Spectrogram plot\n",
    "    plt.subplot(1, 2, 2)\n",
    "    spectrogram = librosa.feature.melspectrogram(y=audio, sr=sr)\n",
    "    spectrogram_db = librosa.power_to_db(spectrogram, ref=np.max)\n",
    "    img = librosa.display.specshow(spectrogram_db, sr=sr, x_axis='time', y_axis='mel')\n",
    "    plt.title('Spectrogram')\n",
    "    plt.xlabel('Time (s)')\n",
    "    plt.ylabel('Mel frequency')\n",
    "    plt.colorbar(format='%+2.0f dB')  # A colorbar with dB format\n",
    "\n",
    "    plt.subplots_adjust(wspace=0.4)  #  Horizontal spacing between subplots\n",
    "    plt.suptitle(f'Dataset: {dataframe[dataframe[\"audio_path\"]==file_path][\"dataset\"].values[0]}, Gender: {gender}, Emotion: {emotion}, Intensity: {intensity}', weight='bold', size=16)\n",
    "    plt.tight_layout()\n",
    "\n",
    "    # Play the audio\n",
    "    return ipd.Audio(file_path)"
   ]
  },
  {
   "cell_type": "markdown",
   "id": "9fef2c23",
   "metadata": {},
   "source": [
    "Examples of random audio samples"
   ]
  },
  {
   "cell_type": "code",
   "execution_count": null,
   "id": "29c229d5",
   "metadata": {},
   "outputs": [],
   "source": [
    "play_random_audio(merged_df, gender=\"female\", emotion=\"fear\", intensity=\"high\")"
   ]
  },
  {
   "cell_type": "code",
   "execution_count": null,
   "id": "33c37840",
   "metadata": {},
   "outputs": [],
   "source": [
    "play_random_audio(merged_df, gender=\"female\", emotion=\"happy\", intensity=\"low\")"
   ]
  },
  {
   "cell_type": "code",
   "execution_count": null,
   "id": "c356b6bb",
   "metadata": {},
   "outputs": [],
   "source": [
    "play_random_audio(merged_df, gender=\"male\", emotion=\"angry\", intensity=\"normal\")"
   ]
  },
  {
   "cell_type": "code",
   "execution_count": null,
   "id": "66d7dd34",
   "metadata": {},
   "outputs": [],
   "source": [
    "play_random_audio(merged_df, gender=\"male\", emotion=\"disgust\", intensity=\"high\")"
   ]
  },
  {
   "cell_type": "code",
   "execution_count": null,
   "id": "d5bb70c7",
   "metadata": {},
   "outputs": [],
   "source": [
    "play_random_audio(merged_df, gender=\"female\", emotion=\"surprised\", intensity=\"high\")"
   ]
  },
  {
   "cell_type": "markdown",
   "id": "9df24dba",
   "metadata": {},
   "source": [
    "Each of the imported datasets originated from a different location, i.e., some with background noise, different sentences, gender of speakers, etc... <br>\n",
    "This contributes to the quality of the whole data frame and thereafter to the ability of the model to classify an emotion of an unseen dataset. <br>\n",
    "From the samples above, one can qualitatively distinguish between the various emotions, despite being recorded in different environments (e.g., a studio or with a sort of environmental noise) or if the speaker says a different sentence. <br>"
   ]
  },
  {
   "cell_type": "markdown",
   "id": "9dbb4d46",
   "metadata": {},
   "source": [
    "The Mel-frequency spectrogram is designed to better approximate the perception of sound by humans, especially in terms of the frequency resolution. It captures more details in the lower frequencies where human hearing is more sensitive and provides a more perceptually relevant representation compared to the regular spectrogram with a linear frequency scale.\n",
    "\n",
    "\n",
    "\n",
    "\n",
    "\n",
    "\n"
   ]
  },
  {
   "cell_type": "markdown",
   "id": "6c66dc0d",
   "metadata": {},
   "source": [
    "# 4. Feature Extraction & Preprocessing"
   ]
  },
  {
   "cell_type": "markdown",
   "id": "87e3ac3e-0a72-4638-bfa4-3256e72ff7a0",
   "metadata": {},
   "source": [
    "## 4.1. Data Preprocessing"
   ]
  },
  {
   "cell_type": "code",
   "execution_count": null,
   "id": "0de1dfaf-8643-4250-a32e-da67a80d7aef",
   "metadata": {
    "tags": []
   },
   "outputs": [],
   "source": [
    "def preprocess_audio(audio):\n",
    "    \n",
    "    # waveform final samples length set to 160000 (~7.2 seconds) for SAVEE dataset compatability\n",
    "    samples_count = 160000\n",
    "    \n",
    "    # maximum decibles considered silence to be removed from start and end of audio\n",
    "    silence_db = 25\n",
    "    \n",
    "    trimmed_audio, _ = librosa.effects.trim(audio, top_db=silence_db)\n",
    "    padded_trimmed_audio = np.pad(trimmed_audio, (0, samples_count-len(trimmed_audio)), 'constant')\n",
    "    \n",
    "    return padded_trimmed_audio"
   ]
  },
  {
   "cell_type": "code",
   "execution_count": null,
   "id": "c3bd36d4-215a-44ba-a177-498e4d5c48ff",
   "metadata": {
    "tags": []
   },
   "outputs": [],
   "source": [
    "play_random_audio(merged_df, gender=\"male\", emotion=\"disgust\", intensity=\"high\", preprocess=True)"
   ]
  },
  {
   "cell_type": "markdown",
   "id": "064a7255",
   "metadata": {},
   "source": [
    "# Baseline model"
   ]
  },
  {
   "cell_type": "markdown",
   "id": "799817bf",
   "metadata": {},
   "source": [
    "## 2D Convolution on Mel-spectrum images"
   ]
  },
  {
   "cell_type": "code",
   "execution_count": 2,
   "id": "a8f2631b",
   "metadata": {},
   "outputs": [],
   "source": [
    "class SpectrogramDataCreator:\n",
    "    def __init__(self, num_mels=224):\n",
    "        self.num_mels = num_mels\n",
    "        self.max_length = 0\n",
    "\n",
    "    def create_data(self, df, save_folder):\n",
    "        X_spectrogram = []\n",
    "        y = []\n",
    "        \n",
    "        os.makedirs(save_folder, exist_ok=True)\n",
    "\n",
    "        for i, row in df.iterrows():\n",
    "            audio_path = row['audio_path']\n",
    "            emotion = row['emotions']\n",
    "            dataset = row['dataset']\n",
    "            spectrogram = self._extract_spectrogram(audio_path)\n",
    "            X_spectrogram.append(spectrogram)\n",
    "            y.append(emotion)\n",
    "\n",
    "            # Save the spectrogram as an image\n",
    "            filename = f\"{dataset}_index{i}_{emotion}.png\"\n",
    "            filepath = os.path.join(save_folder, filename)\n",
    "            self._save_spectrogram_image(spectrogram, filepath)\n",
    "\n",
    "            # Update maximum length if needed\n",
    "            if spectrogram.shape[1] > self.max_length:\n",
    "                self.max_length = spectrogram.shape[1]\n",
    "\n",
    "        # Apply padding or truncation with the computed maximum length\n",
    "        for i in range(len(X_spectrogram)):\n",
    "            if X_spectrogram[i].shape[1] < self.max_length:\n",
    "                pad_width = self.max_length - X_spectrogram[i].shape[1]\n",
    "                X_spectrogram[i] = np.pad(X_spectrogram[i], pad_width=((0, 0), (0, pad_width)), mode='constant')\n",
    "            else:\n",
    "                X_spectrogram[i] = X_spectrogram[i][:, :self.max_length]\n",
    "\n",
    "        X_spectrogram = np.array(X_spectrogram)\n",
    "        y = np.array(y)\n",
    "\n",
    "        return X_spectrogram, y, self.max_length\n",
    "\n",
    "    def _extract_spectrogram(self, audio_path):\n",
    "        audio, sr = librosa.load(audio_path)\n",
    "        spectrogram = librosa.feature.melspectrogram(y=audio, sr=sr, n_mels=self.num_mels)\n",
    "        return spectrogram\n",
    "\n",
    "    def _save_spectrogram_image(self, spectrogram, filepath):\n",
    "        plt.figure(figsize=(96 / 100, 64 / 100), dpi=100)  # Set the figure size to 224x224\n",
    "        librosa.display.specshow(librosa.power_to_db(spectrogram, ref=np.max), y_axis='mel', x_axis='time')\n",
    "        plt.axis('off')  # Remove axis ticks and labels\n",
    "        plt.subplots_adjust(left=0, right=1, top=1, bottom=0)  # Remove unnecessary margins\n",
    "        plt.savefig(filepath, bbox_inches='tight', pad_inches=0)  # Save the image without extra padding\n",
    "        plt.close()"
   ]
  },
  {
   "cell_type": "code",
   "execution_count": 9,
   "id": "cab7b494",
   "metadata": {},
   "outputs": [],
   "source": [
    "spectrogram_data_creator = SpectrogramDataCreator()\n",
    "X_spectrogram, y, max_length = spectrogram_data_creator.create_data(final_data, save_folder='spectrogram_images_96x64')"
   ]
  },
  {
   "cell_type": "code",
   "execution_count": 7,
   "id": "0677cac9",
   "metadata": {},
   "outputs": [
    {
     "ename": "KeyboardInterrupt",
     "evalue": "",
     "output_type": "error",
     "traceback": [
      "\u001b[1;31m---------------------------------------------------------------------------\u001b[0m",
      "\u001b[1;31mKeyboardInterrupt\u001b[0m                         Traceback (most recent call last)",
      "Cell \u001b[1;32mIn[7], line 8\u001b[0m\n\u001b[0;32m      6\u001b[0m spectrogram_data_creator \u001b[39m=\u001b[39m SpectrogramDataCreator()\n\u001b[0;32m      7\u001b[0m \u001b[39m# Call the create_data method on the remaining data\u001b[39;00m\n\u001b[1;32m----> 8\u001b[0m X_spectrogram, y, max_length \u001b[39m=\u001b[39m spectrogram_data_creator\u001b[39m.\u001b[39;49mcreate_data(remaining_data, save_folder\u001b[39m=\u001b[39;49m\u001b[39m'\u001b[39;49m\u001b[39mspectrogram_images_96x64\u001b[39;49m\u001b[39m'\u001b[39;49m)\n",
      "Cell \u001b[1;32mIn[2], line 23\u001b[0m, in \u001b[0;36mSpectrogramDataCreator.create_data\u001b[1;34m(self, df, save_folder)\u001b[0m\n\u001b[0;32m     21\u001b[0m filename \u001b[39m=\u001b[39m \u001b[39mf\u001b[39m\u001b[39m\"\u001b[39m\u001b[39m{\u001b[39;00mdataset\u001b[39m}\u001b[39;00m\u001b[39m_index\u001b[39m\u001b[39m{\u001b[39;00mi\u001b[39m}\u001b[39;00m\u001b[39m_\u001b[39m\u001b[39m{\u001b[39;00memotion\u001b[39m}\u001b[39;00m\u001b[39m.png\u001b[39m\u001b[39m\"\u001b[39m\n\u001b[0;32m     22\u001b[0m filepath \u001b[39m=\u001b[39m os\u001b[39m.\u001b[39mpath\u001b[39m.\u001b[39mjoin(save_folder, filename)\n\u001b[1;32m---> 23\u001b[0m \u001b[39mself\u001b[39;49m\u001b[39m.\u001b[39;49m_save_spectrogram_image(spectrogram, filepath)\n\u001b[0;32m     25\u001b[0m \u001b[39m# Update maximum length if needed\u001b[39;00m\n\u001b[0;32m     26\u001b[0m \u001b[39mif\u001b[39;00m spectrogram\u001b[39m.\u001b[39mshape[\u001b[39m1\u001b[39m] \u001b[39m>\u001b[39m \u001b[39mself\u001b[39m\u001b[39m.\u001b[39mmax_length:\n",
      "Cell \u001b[1;32mIn[2], line 52\u001b[0m, in \u001b[0;36mSpectrogramDataCreator._save_spectrogram_image\u001b[1;34m(self, spectrogram, filepath)\u001b[0m\n\u001b[0;32m     50\u001b[0m plt\u001b[39m.\u001b[39maxis(\u001b[39m'\u001b[39m\u001b[39moff\u001b[39m\u001b[39m'\u001b[39m)  \u001b[39m# Remove axis ticks and labels\u001b[39;00m\n\u001b[0;32m     51\u001b[0m plt\u001b[39m.\u001b[39msubplots_adjust(left\u001b[39m=\u001b[39m\u001b[39m0\u001b[39m, right\u001b[39m=\u001b[39m\u001b[39m1\u001b[39m, top\u001b[39m=\u001b[39m\u001b[39m1\u001b[39m, bottom\u001b[39m=\u001b[39m\u001b[39m0\u001b[39m)  \u001b[39m# Remove unnecessary margins\u001b[39;00m\n\u001b[1;32m---> 52\u001b[0m plt\u001b[39m.\u001b[39;49msavefig(filepath, bbox_inches\u001b[39m=\u001b[39;49m\u001b[39m'\u001b[39;49m\u001b[39mtight\u001b[39;49m\u001b[39m'\u001b[39;49m, pad_inches\u001b[39m=\u001b[39;49m\u001b[39m0\u001b[39;49m)  \u001b[39m# Save the image without extra padding\u001b[39;00m\n\u001b[0;32m     53\u001b[0m plt\u001b[39m.\u001b[39mclose()\n",
      "File \u001b[1;32m~\\AppData\\Roaming\\Python\\Python311\\site-packages\\matplotlib\\pyplot.py:996\u001b[0m, in \u001b[0;36msavefig\u001b[1;34m(*args, **kwargs)\u001b[0m\n\u001b[0;32m    993\u001b[0m \u001b[39m@_copy_docstring_and_deprecators\u001b[39m(Figure\u001b[39m.\u001b[39msavefig)\n\u001b[0;32m    994\u001b[0m \u001b[39mdef\u001b[39;00m \u001b[39msavefig\u001b[39m(\u001b[39m*\u001b[39margs, \u001b[39m*\u001b[39m\u001b[39m*\u001b[39mkwargs):\n\u001b[0;32m    995\u001b[0m     fig \u001b[39m=\u001b[39m gcf()\n\u001b[1;32m--> 996\u001b[0m     res \u001b[39m=\u001b[39m fig\u001b[39m.\u001b[39;49msavefig(\u001b[39m*\u001b[39;49margs, \u001b[39m*\u001b[39;49m\u001b[39m*\u001b[39;49mkwargs)\n\u001b[0;32m    997\u001b[0m     fig\u001b[39m.\u001b[39mcanvas\u001b[39m.\u001b[39mdraw_idle()  \u001b[39m# Need this if 'transparent=True', to reset colors.\u001b[39;00m\n\u001b[0;32m    998\u001b[0m     \u001b[39mreturn\u001b[39;00m res\n",
      "File \u001b[1;32m~\\AppData\\Roaming\\Python\\Python311\\site-packages\\matplotlib\\figure.py:3328\u001b[0m, in \u001b[0;36mFigure.savefig\u001b[1;34m(self, fname, transparent, **kwargs)\u001b[0m\n\u001b[0;32m   3324\u001b[0m     \u001b[39mfor\u001b[39;00m ax \u001b[39min\u001b[39;00m \u001b[39mself\u001b[39m\u001b[39m.\u001b[39maxes:\n\u001b[0;32m   3325\u001b[0m         stack\u001b[39m.\u001b[39menter_context(\n\u001b[0;32m   3326\u001b[0m             ax\u001b[39m.\u001b[39mpatch\u001b[39m.\u001b[39m_cm_set(facecolor\u001b[39m=\u001b[39m\u001b[39m'\u001b[39m\u001b[39mnone\u001b[39m\u001b[39m'\u001b[39m, edgecolor\u001b[39m=\u001b[39m\u001b[39m'\u001b[39m\u001b[39mnone\u001b[39m\u001b[39m'\u001b[39m))\n\u001b[1;32m-> 3328\u001b[0m \u001b[39mself\u001b[39;49m\u001b[39m.\u001b[39;49mcanvas\u001b[39m.\u001b[39;49mprint_figure(fname, \u001b[39m*\u001b[39;49m\u001b[39m*\u001b[39;49mkwargs)\n",
      "File \u001b[1;32m~\\AppData\\Roaming\\Python\\Python311\\site-packages\\matplotlib\\backend_bases.py:2338\u001b[0m, in \u001b[0;36mFigureCanvasBase.print_figure\u001b[1;34m(self, filename, dpi, facecolor, edgecolor, orientation, format, bbox_inches, pad_inches, bbox_extra_artists, backend, **kwargs)\u001b[0m\n\u001b[0;32m   2332\u001b[0m     renderer \u001b[39m=\u001b[39m _get_renderer(\n\u001b[0;32m   2333\u001b[0m         \u001b[39mself\u001b[39m\u001b[39m.\u001b[39mfigure,\n\u001b[0;32m   2334\u001b[0m         functools\u001b[39m.\u001b[39mpartial(\n\u001b[0;32m   2335\u001b[0m             print_method, orientation\u001b[39m=\u001b[39morientation)\n\u001b[0;32m   2336\u001b[0m     )\n\u001b[0;32m   2337\u001b[0m     \u001b[39mwith\u001b[39;00m \u001b[39mgetattr\u001b[39m(renderer, \u001b[39m\"\u001b[39m\u001b[39m_draw_disabled\u001b[39m\u001b[39m\"\u001b[39m, nullcontext)():\n\u001b[1;32m-> 2338\u001b[0m         \u001b[39mself\u001b[39;49m\u001b[39m.\u001b[39;49mfigure\u001b[39m.\u001b[39;49mdraw(renderer)\n\u001b[0;32m   2340\u001b[0m \u001b[39mif\u001b[39;00m bbox_inches:\n\u001b[0;32m   2341\u001b[0m     \u001b[39mif\u001b[39;00m bbox_inches \u001b[39m==\u001b[39m \u001b[39m\"\u001b[39m\u001b[39mtight\u001b[39m\u001b[39m\"\u001b[39m:\n",
      "File \u001b[1;32m~\\AppData\\Roaming\\Python\\Python311\\site-packages\\matplotlib\\artist.py:95\u001b[0m, in \u001b[0;36m_finalize_rasterization.<locals>.draw_wrapper\u001b[1;34m(artist, renderer, *args, **kwargs)\u001b[0m\n\u001b[0;32m     93\u001b[0m \u001b[39m@wraps\u001b[39m(draw)\n\u001b[0;32m     94\u001b[0m \u001b[39mdef\u001b[39;00m \u001b[39mdraw_wrapper\u001b[39m(artist, renderer, \u001b[39m*\u001b[39margs, \u001b[39m*\u001b[39m\u001b[39m*\u001b[39mkwargs):\n\u001b[1;32m---> 95\u001b[0m     result \u001b[39m=\u001b[39m draw(artist, renderer, \u001b[39m*\u001b[39;49margs, \u001b[39m*\u001b[39;49m\u001b[39m*\u001b[39;49mkwargs)\n\u001b[0;32m     96\u001b[0m     \u001b[39mif\u001b[39;00m renderer\u001b[39m.\u001b[39m_rasterizing:\n\u001b[0;32m     97\u001b[0m         renderer\u001b[39m.\u001b[39mstop_rasterizing()\n",
      "File \u001b[1;32m~\\AppData\\Roaming\\Python\\Python311\\site-packages\\matplotlib\\artist.py:72\u001b[0m, in \u001b[0;36mallow_rasterization.<locals>.draw_wrapper\u001b[1;34m(artist, renderer)\u001b[0m\n\u001b[0;32m     69\u001b[0m     \u001b[39mif\u001b[39;00m artist\u001b[39m.\u001b[39mget_agg_filter() \u001b[39mis\u001b[39;00m \u001b[39mnot\u001b[39;00m \u001b[39mNone\u001b[39;00m:\n\u001b[0;32m     70\u001b[0m         renderer\u001b[39m.\u001b[39mstart_filter()\n\u001b[1;32m---> 72\u001b[0m     \u001b[39mreturn\u001b[39;00m draw(artist, renderer)\n\u001b[0;32m     73\u001b[0m \u001b[39mfinally\u001b[39;00m:\n\u001b[0;32m     74\u001b[0m     \u001b[39mif\u001b[39;00m artist\u001b[39m.\u001b[39mget_agg_filter() \u001b[39mis\u001b[39;00m \u001b[39mnot\u001b[39;00m \u001b[39mNone\u001b[39;00m:\n",
      "File \u001b[1;32m~\\AppData\\Roaming\\Python\\Python311\\site-packages\\matplotlib\\figure.py:3125\u001b[0m, in \u001b[0;36mFigure.draw\u001b[1;34m(self, renderer)\u001b[0m\n\u001b[0;32m   3122\u001b[0m         \u001b[39m# ValueError can occur when resizing a window.\u001b[39;00m\n\u001b[0;32m   3124\u001b[0m \u001b[39mself\u001b[39m\u001b[39m.\u001b[39mpatch\u001b[39m.\u001b[39mdraw(renderer)\n\u001b[1;32m-> 3125\u001b[0m mimage\u001b[39m.\u001b[39;49m_draw_list_compositing_images(\n\u001b[0;32m   3126\u001b[0m     renderer, \u001b[39mself\u001b[39;49m, artists, \u001b[39mself\u001b[39;49m\u001b[39m.\u001b[39;49msuppressComposite)\n\u001b[0;32m   3128\u001b[0m \u001b[39mfor\u001b[39;00m sfig \u001b[39min\u001b[39;00m \u001b[39mself\u001b[39m\u001b[39m.\u001b[39msubfigs:\n\u001b[0;32m   3129\u001b[0m     sfig\u001b[39m.\u001b[39mdraw(renderer)\n",
      "File \u001b[1;32m~\\AppData\\Roaming\\Python\\Python311\\site-packages\\matplotlib\\image.py:131\u001b[0m, in \u001b[0;36m_draw_list_compositing_images\u001b[1;34m(renderer, parent, artists, suppress_composite)\u001b[0m\n\u001b[0;32m    129\u001b[0m \u001b[39mif\u001b[39;00m not_composite \u001b[39mor\u001b[39;00m \u001b[39mnot\u001b[39;00m has_images:\n\u001b[0;32m    130\u001b[0m     \u001b[39mfor\u001b[39;00m a \u001b[39min\u001b[39;00m artists:\n\u001b[1;32m--> 131\u001b[0m         a\u001b[39m.\u001b[39;49mdraw(renderer)\n\u001b[0;32m    132\u001b[0m \u001b[39melse\u001b[39;00m:\n\u001b[0;32m    133\u001b[0m     \u001b[39m# Composite any adjacent images together\u001b[39;00m\n\u001b[0;32m    134\u001b[0m     image_group \u001b[39m=\u001b[39m []\n",
      "File \u001b[1;32m~\\AppData\\Roaming\\Python\\Python311\\site-packages\\matplotlib\\artist.py:72\u001b[0m, in \u001b[0;36mallow_rasterization.<locals>.draw_wrapper\u001b[1;34m(artist, renderer)\u001b[0m\n\u001b[0;32m     69\u001b[0m     \u001b[39mif\u001b[39;00m artist\u001b[39m.\u001b[39mget_agg_filter() \u001b[39mis\u001b[39;00m \u001b[39mnot\u001b[39;00m \u001b[39mNone\u001b[39;00m:\n\u001b[0;32m     70\u001b[0m         renderer\u001b[39m.\u001b[39mstart_filter()\n\u001b[1;32m---> 72\u001b[0m     \u001b[39mreturn\u001b[39;00m draw(artist, renderer)\n\u001b[0;32m     73\u001b[0m \u001b[39mfinally\u001b[39;00m:\n\u001b[0;32m     74\u001b[0m     \u001b[39mif\u001b[39;00m artist\u001b[39m.\u001b[39mget_agg_filter() \u001b[39mis\u001b[39;00m \u001b[39mnot\u001b[39;00m \u001b[39mNone\u001b[39;00m:\n",
      "File \u001b[1;32m~\\AppData\\Roaming\\Python\\Python311\\site-packages\\matplotlib\\axes\\_base.py:3030\u001b[0m, in \u001b[0;36m_AxesBase.draw\u001b[1;34m(self, renderer)\u001b[0m\n\u001b[0;32m   3027\u001b[0m     \u001b[39mfor\u001b[39;00m spine \u001b[39min\u001b[39;00m \u001b[39mself\u001b[39m\u001b[39m.\u001b[39mspines\u001b[39m.\u001b[39mvalues():\n\u001b[0;32m   3028\u001b[0m         artists\u001b[39m.\u001b[39mremove(spine)\n\u001b[1;32m-> 3030\u001b[0m \u001b[39mself\u001b[39;49m\u001b[39m.\u001b[39;49m_update_title_position(renderer)\n\u001b[0;32m   3032\u001b[0m \u001b[39mif\u001b[39;00m \u001b[39mnot\u001b[39;00m \u001b[39mself\u001b[39m\u001b[39m.\u001b[39maxison:\n\u001b[0;32m   3033\u001b[0m     \u001b[39mfor\u001b[39;00m _axis \u001b[39min\u001b[39;00m \u001b[39mself\u001b[39m\u001b[39m.\u001b[39m_axis_map\u001b[39m.\u001b[39mvalues():\n",
      "File \u001b[1;32m~\\AppData\\Roaming\\Python\\Python311\\site-packages\\matplotlib\\axes\\_base.py:2965\u001b[0m, in \u001b[0;36m_AxesBase._update_title_position\u001b[1;34m(self, renderer)\u001b[0m\n\u001b[0;32m   2962\u001b[0m bb \u001b[39m=\u001b[39m \u001b[39mNone\u001b[39;00m\n\u001b[0;32m   2963\u001b[0m \u001b[39mif\u001b[39;00m (ax\u001b[39m.\u001b[39mxaxis\u001b[39m.\u001b[39mget_ticks_position() \u001b[39min\u001b[39;00m [\u001b[39m'\u001b[39m\u001b[39mtop\u001b[39m\u001b[39m'\u001b[39m, \u001b[39m'\u001b[39m\u001b[39munknown\u001b[39m\u001b[39m'\u001b[39m]\n\u001b[0;32m   2964\u001b[0m         \u001b[39mor\u001b[39;00m ax\u001b[39m.\u001b[39mxaxis\u001b[39m.\u001b[39mget_label_position() \u001b[39m==\u001b[39m \u001b[39m'\u001b[39m\u001b[39mtop\u001b[39m\u001b[39m'\u001b[39m):\n\u001b[1;32m-> 2965\u001b[0m     bb \u001b[39m=\u001b[39m ax\u001b[39m.\u001b[39;49mxaxis\u001b[39m.\u001b[39;49mget_tightbbox(renderer)\n\u001b[0;32m   2966\u001b[0m \u001b[39mif\u001b[39;00m bb \u001b[39mis\u001b[39;00m \u001b[39mNone\u001b[39;00m:\n\u001b[0;32m   2967\u001b[0m     \u001b[39mif\u001b[39;00m \u001b[39m'\u001b[39m\u001b[39moutline\u001b[39m\u001b[39m'\u001b[39m \u001b[39min\u001b[39;00m ax\u001b[39m.\u001b[39mspines:\n\u001b[0;32m   2968\u001b[0m         \u001b[39m# Special case for colorbars:\u001b[39;00m\n",
      "File \u001b[1;32m~\\AppData\\Roaming\\Python\\Python311\\site-packages\\matplotlib\\axis.py:1320\u001b[0m, in \u001b[0;36mAxis.get_tightbbox\u001b[1;34m(self, renderer, for_layout_only)\u001b[0m\n\u001b[0;32m   1317\u001b[0m     renderer \u001b[39m=\u001b[39m \u001b[39mself\u001b[39m\u001b[39m.\u001b[39mfigure\u001b[39m.\u001b[39m_get_renderer()\n\u001b[0;32m   1318\u001b[0m ticks_to_draw \u001b[39m=\u001b[39m \u001b[39mself\u001b[39m\u001b[39m.\u001b[39m_update_ticks()\n\u001b[1;32m-> 1320\u001b[0m \u001b[39mself\u001b[39;49m\u001b[39m.\u001b[39;49m_update_label_position(renderer)\n\u001b[0;32m   1322\u001b[0m \u001b[39m# go back to just this axis's tick labels\u001b[39;00m\n\u001b[0;32m   1323\u001b[0m tlb1, tlb2 \u001b[39m=\u001b[39m \u001b[39mself\u001b[39m\u001b[39m.\u001b[39m_get_ticklabel_bboxes(ticks_to_draw, renderer)\n",
      "File \u001b[1;32m~\\AppData\\Roaming\\Python\\Python311\\site-packages\\matplotlib\\axis.py:2308\u001b[0m, in \u001b[0;36mXAxis._update_label_position\u001b[1;34m(self, renderer)\u001b[0m\n\u001b[0;32m   2304\u001b[0m     \u001b[39mreturn\u001b[39;00m\n\u001b[0;32m   2306\u001b[0m \u001b[39m# get bounding boxes for this axis and any siblings\u001b[39;00m\n\u001b[0;32m   2307\u001b[0m \u001b[39m# that have been set by `fig.align_xlabels()`\u001b[39;00m\n\u001b[1;32m-> 2308\u001b[0m bboxes, bboxes2 \u001b[39m=\u001b[39m \u001b[39mself\u001b[39;49m\u001b[39m.\u001b[39;49m_get_tick_boxes_siblings(renderer\u001b[39m=\u001b[39;49mrenderer)\n\u001b[0;32m   2310\u001b[0m x, y \u001b[39m=\u001b[39m \u001b[39mself\u001b[39m\u001b[39m.\u001b[39mlabel\u001b[39m.\u001b[39mget_position()\n\u001b[0;32m   2311\u001b[0m \u001b[39mif\u001b[39;00m \u001b[39mself\u001b[39m\u001b[39m.\u001b[39mlabel_position \u001b[39m==\u001b[39m \u001b[39m'\u001b[39m\u001b[39mbottom\u001b[39m\u001b[39m'\u001b[39m:\n",
      "File \u001b[1;32m~\\AppData\\Roaming\\Python\\Python311\\site-packages\\matplotlib\\axis.py:2104\u001b[0m, in \u001b[0;36mAxis._get_tick_boxes_siblings\u001b[1;34m(self, renderer)\u001b[0m\n\u001b[0;32m   2102\u001b[0m axis \u001b[39m=\u001b[39m \u001b[39mgetattr\u001b[39m(ax, \u001b[39mf\u001b[39m\u001b[39m\"\u001b[39m\u001b[39m{\u001b[39;00maxis_name\u001b[39m}\u001b[39;00m\u001b[39maxis\u001b[39m\u001b[39m\"\u001b[39m)\n\u001b[0;32m   2103\u001b[0m ticks_to_draw \u001b[39m=\u001b[39m axis\u001b[39m.\u001b[39m_update_ticks()\n\u001b[1;32m-> 2104\u001b[0m tlb, tlb2 \u001b[39m=\u001b[39m axis\u001b[39m.\u001b[39;49m_get_ticklabel_bboxes(ticks_to_draw, renderer)\n\u001b[0;32m   2105\u001b[0m bboxes\u001b[39m.\u001b[39mextend(tlb)\n\u001b[0;32m   2106\u001b[0m bboxes2\u001b[39m.\u001b[39mextend(tlb2)\n",
      "File \u001b[1;32m~\\AppData\\Roaming\\Python\\Python311\\site-packages\\matplotlib\\axis.py:1299\u001b[0m, in \u001b[0;36mAxis._get_ticklabel_bboxes\u001b[1;34m(self, ticks, renderer)\u001b[0m\n\u001b[0;32m   1297\u001b[0m \u001b[39mif\u001b[39;00m renderer \u001b[39mis\u001b[39;00m \u001b[39mNone\u001b[39;00m:\n\u001b[0;32m   1298\u001b[0m     renderer \u001b[39m=\u001b[39m \u001b[39mself\u001b[39m\u001b[39m.\u001b[39mfigure\u001b[39m.\u001b[39m_get_renderer()\n\u001b[1;32m-> 1299\u001b[0m \u001b[39mreturn\u001b[39;00m ([tick\u001b[39m.\u001b[39;49mlabel1\u001b[39m.\u001b[39;49mget_window_extent(renderer)\n\u001b[0;32m   1300\u001b[0m          \u001b[39mfor\u001b[39;49;00m tick \u001b[39min\u001b[39;49;00m ticks \u001b[39mif\u001b[39;49;00m tick\u001b[39m.\u001b[39;49mlabel1\u001b[39m.\u001b[39;49mget_visible()],\n\u001b[0;32m   1301\u001b[0m         [tick\u001b[39m.\u001b[39mlabel2\u001b[39m.\u001b[39mget_window_extent(renderer)\n\u001b[0;32m   1302\u001b[0m          \u001b[39mfor\u001b[39;00m tick \u001b[39min\u001b[39;00m ticks \u001b[39mif\u001b[39;00m tick\u001b[39m.\u001b[39mlabel2\u001b[39m.\u001b[39mget_visible()])\n",
      "File \u001b[1;32m~\\AppData\\Roaming\\Python\\Python311\\site-packages\\matplotlib\\axis.py:1299\u001b[0m, in \u001b[0;36m<listcomp>\u001b[1;34m(.0)\u001b[0m\n\u001b[0;32m   1297\u001b[0m \u001b[39mif\u001b[39;00m renderer \u001b[39mis\u001b[39;00m \u001b[39mNone\u001b[39;00m:\n\u001b[0;32m   1298\u001b[0m     renderer \u001b[39m=\u001b[39m \u001b[39mself\u001b[39m\u001b[39m.\u001b[39mfigure\u001b[39m.\u001b[39m_get_renderer()\n\u001b[1;32m-> 1299\u001b[0m \u001b[39mreturn\u001b[39;00m ([tick\u001b[39m.\u001b[39;49mlabel1\u001b[39m.\u001b[39;49mget_window_extent(renderer)\n\u001b[0;32m   1300\u001b[0m          \u001b[39mfor\u001b[39;00m tick \u001b[39min\u001b[39;00m ticks \u001b[39mif\u001b[39;00m tick\u001b[39m.\u001b[39mlabel1\u001b[39m.\u001b[39mget_visible()],\n\u001b[0;32m   1301\u001b[0m         [tick\u001b[39m.\u001b[39mlabel2\u001b[39m.\u001b[39mget_window_extent(renderer)\n\u001b[0;32m   1302\u001b[0m          \u001b[39mfor\u001b[39;00m tick \u001b[39min\u001b[39;00m ticks \u001b[39mif\u001b[39;00m tick\u001b[39m.\u001b[39mlabel2\u001b[39m.\u001b[39mget_visible()])\n",
      "File \u001b[1;32m~\\AppData\\Roaming\\Python\\Python311\\site-packages\\matplotlib\\text.py:959\u001b[0m, in \u001b[0;36mText.get_window_extent\u001b[1;34m(self, renderer, dpi)\u001b[0m\n\u001b[0;32m    954\u001b[0m     \u001b[39mraise\u001b[39;00m \u001b[39mRuntimeError\u001b[39;00m(\n\u001b[0;32m    955\u001b[0m         \u001b[39m\"\u001b[39m\u001b[39mCannot get window extent of text w/o renderer. You likely \u001b[39m\u001b[39m\"\u001b[39m\n\u001b[0;32m    956\u001b[0m         \u001b[39m\"\u001b[39m\u001b[39mwant to call \u001b[39m\u001b[39m'\u001b[39m\u001b[39mfigure.draw_without_rendering()\u001b[39m\u001b[39m'\u001b[39m\u001b[39m first.\u001b[39m\u001b[39m\"\u001b[39m)\n\u001b[0;32m    958\u001b[0m \u001b[39mwith\u001b[39;00m cbook\u001b[39m.\u001b[39m_setattr_cm(\u001b[39mself\u001b[39m\u001b[39m.\u001b[39mfigure, dpi\u001b[39m=\u001b[39mdpi):\n\u001b[1;32m--> 959\u001b[0m     bbox, info, descent \u001b[39m=\u001b[39m \u001b[39mself\u001b[39;49m\u001b[39m.\u001b[39;49m_get_layout(\u001b[39mself\u001b[39;49m\u001b[39m.\u001b[39;49m_renderer)\n\u001b[0;32m    960\u001b[0m     x, y \u001b[39m=\u001b[39m \u001b[39mself\u001b[39m\u001b[39m.\u001b[39mget_unitless_position()\n\u001b[0;32m    961\u001b[0m     x, y \u001b[39m=\u001b[39m \u001b[39mself\u001b[39m\u001b[39m.\u001b[39mget_transform()\u001b[39m.\u001b[39mtransform((x, y))\n",
      "File \u001b[1;32m~\\AppData\\Roaming\\Python\\Python311\\site-packages\\matplotlib\\text.py:378\u001b[0m, in \u001b[0;36mText._get_layout\u001b[1;34m(self, renderer)\u001b[0m\n\u001b[0;32m    375\u001b[0m ys \u001b[39m=\u001b[39m []\n\u001b[0;32m    377\u001b[0m \u001b[39m# Full vertical extent of font, including ascenders and descenders:\u001b[39;00m\n\u001b[1;32m--> 378\u001b[0m _, lp_h, lp_d \u001b[39m=\u001b[39m _get_text_metrics_with_cache(\n\u001b[0;32m    379\u001b[0m     renderer, \u001b[39m\"\u001b[39;49m\u001b[39mlp\u001b[39;49m\u001b[39m\"\u001b[39;49m, \u001b[39mself\u001b[39;49m\u001b[39m.\u001b[39;49m_fontproperties,\n\u001b[0;32m    380\u001b[0m     ismath\u001b[39m=\u001b[39;49m\u001b[39m\"\u001b[39;49m\u001b[39mTeX\u001b[39;49m\u001b[39m\"\u001b[39;49m \u001b[39mif\u001b[39;49;00m \u001b[39mself\u001b[39;49m\u001b[39m.\u001b[39;49mget_usetex() \u001b[39melse\u001b[39;49;00m \u001b[39mFalse\u001b[39;49;00m, dpi\u001b[39m=\u001b[39;49m\u001b[39mself\u001b[39;49m\u001b[39m.\u001b[39;49mfigure\u001b[39m.\u001b[39;49mdpi)\n\u001b[0;32m    381\u001b[0m min_dy \u001b[39m=\u001b[39m (lp_h \u001b[39m-\u001b[39m lp_d) \u001b[39m*\u001b[39m \u001b[39mself\u001b[39m\u001b[39m.\u001b[39m_linespacing\n\u001b[0;32m    383\u001b[0m \u001b[39mfor\u001b[39;00m i, line \u001b[39min\u001b[39;00m \u001b[39menumerate\u001b[39m(lines):\n",
      "File \u001b[1;32m~\\AppData\\Roaming\\Python\\Python311\\site-packages\\matplotlib\\text.py:97\u001b[0m, in \u001b[0;36m_get_text_metrics_with_cache\u001b[1;34m(renderer, text, fontprop, ismath, dpi)\u001b[0m\n\u001b[0;32m     94\u001b[0m \u001b[39m\u001b[39m\u001b[39m\"\"\"Call ``renderer.get_text_width_height_descent``, caching the results.\"\"\"\u001b[39;00m\n\u001b[0;32m     95\u001b[0m \u001b[39m# Cached based on a copy of fontprop so that later in-place mutations of\u001b[39;00m\n\u001b[0;32m     96\u001b[0m \u001b[39m# the passed-in argument do not mess up the cache.\u001b[39;00m\n\u001b[1;32m---> 97\u001b[0m \u001b[39mreturn\u001b[39;00m _get_text_metrics_with_cache_impl(\n\u001b[0;32m     98\u001b[0m     weakref\u001b[39m.\u001b[39;49mref(renderer), text, fontprop\u001b[39m.\u001b[39;49mcopy(), ismath, dpi)\n",
      "File \u001b[1;32m~\\AppData\\Roaming\\Python\\Python311\\site-packages\\matplotlib\\text.py:105\u001b[0m, in \u001b[0;36m_get_text_metrics_with_cache_impl\u001b[1;34m(renderer_ref, text, fontprop, ismath, dpi)\u001b[0m\n\u001b[0;32m    101\u001b[0m \u001b[39m@functools\u001b[39m\u001b[39m.\u001b[39mlru_cache(\u001b[39m4096\u001b[39m)\n\u001b[0;32m    102\u001b[0m \u001b[39mdef\u001b[39;00m \u001b[39m_get_text_metrics_with_cache_impl\u001b[39m(\n\u001b[0;32m    103\u001b[0m         renderer_ref, text, fontprop, ismath, dpi):\n\u001b[0;32m    104\u001b[0m     \u001b[39m# dpi is unused, but participates in cache invalidation (via the renderer).\u001b[39;00m\n\u001b[1;32m--> 105\u001b[0m     \u001b[39mreturn\u001b[39;00m renderer_ref()\u001b[39m.\u001b[39;49mget_text_width_height_descent(text, fontprop, ismath)\n",
      "File \u001b[1;32m~\\AppData\\Roaming\\Python\\Python311\\site-packages\\matplotlib\\backends\\backend_agg.py:234\u001b[0m, in \u001b[0;36mRendererAgg.get_text_width_height_descent\u001b[1;34m(self, s, prop, ismath)\u001b[0m\n\u001b[0;32m    231\u001b[0m     \u001b[39mreturn\u001b[39;00m width, height, descent\n\u001b[0;32m    233\u001b[0m font \u001b[39m=\u001b[39m \u001b[39mself\u001b[39m\u001b[39m.\u001b[39m_prepare_font(prop)\n\u001b[1;32m--> 234\u001b[0m font\u001b[39m.\u001b[39;49mset_text(s, \u001b[39m0.0\u001b[39;49m, flags\u001b[39m=\u001b[39;49mget_hinting_flag())\n\u001b[0;32m    235\u001b[0m w, h \u001b[39m=\u001b[39m font\u001b[39m.\u001b[39mget_width_height()  \u001b[39m# width and height of unrotated string\u001b[39;00m\n\u001b[0;32m    236\u001b[0m d \u001b[39m=\u001b[39m font\u001b[39m.\u001b[39mget_descent()\n",
      "\u001b[1;31mKeyboardInterrupt\u001b[0m: "
     ]
    },
    {
     "data": {
      "image/png": "[encoded data removed]",
      "text/plain": [
       "<Figure size 96x64 with 1 Axes>"
      ]
     },
     "metadata": {},
     "output_type": "display_data"
    }
   ],
   "source": [
    "# Due to crushed code df is the DataFrame containing data start from the last saved image by index\n",
    "start_index = 1165\n",
    "# Create a new DataFrame starting from the index where it stopped\n",
    "remaining_data = final_data.iloc[start_index:]\n",
    "# Create a new instance of the SpectrogramDataCreator class\n",
    "spectrogram_data_creator = SpectrogramDataCreator()\n",
    "# Call the create_data method on the remaining data\n",
    "X_spectrogram, y, max_length = spectrogram_data_creator.create_data(remaining_data, save_folder='spectrogram_images_96x64')"
   ]
  },
  {
   "cell_type": "code",
   "execution_count": null,
   "id": "1c4d4d22",
   "metadata": {},
   "outputs": [],
   "source": [
    "class MFCCDataCreator:\n",
    "    def __init__(self, num_mfcc=30):\n",
    "        self.num_mfcc = num_mfcc\n",
    "        self.max_length = 0\n",
    "\n",
    "    def create_data(self, df):\n",
    "        X_mfcc = []\n",
    "        X_audio = []\n",
    "        sr_list = []\n",
    "        y = []\n",
    "\n",
    "        for i, row in df.iterrows():\n",
    "            audio_path = row['audio_path']\n",
    "            emotion = row['emotions']\n",
    "            mfcc, audio, sr = self._extract_mfcc(audio_path)\n",
    "            X_mfcc.append(mfcc)\n",
    "            X_audio.append(audio)\n",
    "            sr_list.append(sr)\n",
    "\n",
    "            y.append(emotion)\n",
    "            # Update maximum length if needed\n",
    "            if mfcc.shape[1] > self.max_length:\n",
    "                self.max_length = mfcc.shape[1]\n",
    "\n",
    "        # Apply padding or truncation with the computed maximum length\n",
    "        for i in range(len(X_mfcc)):\n",
    "            if X_mfcc[i].shape[1] < self.max_length:\n",
    "                pad_width = self.max_length - X_mfcc[i].shape[1]\n",
    "                X_mfcc[i] = np.pad(X_mfcc[i], pad_width=((0, 0), (0, pad_width)), mode='constant')\n",
    "            else:\n",
    "                X_mfcc[i] = X_mfcc[i][:, :self.max_length]\n",
    "\n",
    "        X_mfcc = np.array(X_mfcc)\n",
    "        X_audio = np.array(X_audio)\n",
    "        sr_list = np.array(sr_list)\n",
    "        y = np.array(y)\n",
    "\n",
    "        return X_mfcc, X_audio, sr_list, y, self.max_length\n",
    "    \n",
    "    # extract_mfcc function is an internal method\n",
    "    def _extract_mfcc(self, audio_path):\n",
    "        audio, sr = librosa.load(audio_path)\n",
    "        mfcc = librosa.feature.mfcc(y=audio, sr=sr, n_mfcc=self.num_mfcc)\n",
    "        return mfcc, audio, sr"
   ]
  },
  {
   "cell_type": "code",
   "execution_count": 9,
   "id": "a2d34482",
   "metadata": {},
   "outputs": [],
   "source": [
    "def plot_metrics(history, metric):\n",
    "    train_metric = history.history[metric]\n",
    "    val_metric = history.history['val_' + metric]\n",
    "    \n",
    "    plt.plot(train_metric)\n",
    "    plt.plot(val_metric)\n",
    "    plt.title('Model ' + metric)\n",
    "    plt.xlabel('Epoch')\n",
    "    plt.ylabel(metric.capitalize())\n",
    "    plt.legend(['Train', 'Validation'], loc='upper right')\n",
    "    plt.show()"
   ]
  },
  {
   "cell_type": "code",
   "execution_count": 30,
   "id": "53b72f41",
   "metadata": {},
   "outputs": [],
   "source": [
    "def create_early_stopping_callback():\n",
    "    return EarlyStopping(patience=10, monitor=\"val_loss\", mode='min', verbose=1)\n",
    "\n",
    "def create_model_checkpoint_callback(file_name):\n",
    "    return ModelCheckpoint(file_name, save_best_only=True, monitor=\"val_accuracy\")\n",
    "\n",
    "def create_reduce_lr_callback():\n",
    "    return ReduceLROnPlateau(factor=0.1, patience=3, monitor=\"val_accuracy\", min_lr=0.000001)"
   ]
  },
  {
   "cell_type": "code",
   "execution_count": 7,
   "id": "add266c8",
   "metadata": {},
   "outputs": [],
   "source": [
    "class DataPreprocessor:\n",
    "    def __init__(self, X, y, dataframe):\n",
    "        self.X = X\n",
    "        self.y = y\n",
    "        self.dataframe = dataframe\n",
    "        self.num_classes = len(dataframe['emotions'].unique())\n",
    "        self.class_labels = list(dataframe['emotions'].unique())\n",
    "        self.label_encoder = LabelEncoder()\n",
    "    \n",
    "    def split_data(self, test_size=0.2, val_size=0.1, random_state=42):\n",
    "        # This methods splits the arrays after the mfcc extraction\n",
    "        X_train_val, X_test, y_train_val, y_test = train_test_split(\n",
    "            self.X, self.y, test_size=test_size, shuffle=True, random_state=random_state)\n",
    "        X_train, X_val, y_train, y_val = train_test_split(\n",
    "            X_train_val, y_train_val, test_size=val_size, random_state=random_state)\n",
    "        \n",
    "        return X_train, X_val, X_test, y_train, y_val, y_test\n",
    "    \n",
    "    def split_dataframe(self, test_size=0.2, val_size=0.1, random_state=42):\n",
    "        # Splitting the data into train, val, test datasets\n",
    "        train_val, test = train_test_split(self.dataframe, test_size=test_size, shuffle=True, random_state=random_state)\n",
    "        train, val = train_test_split(train_val, test_size=val_size, shuffle=True, random_state=random_state)\n",
    "\n",
    "        train = train.reset_index(drop=True)\n",
    "        val = val.reset_index(drop=True)\n",
    "        test = test.reset_index(drop=True)\n",
    "        return train, val, test\n",
    "    \n",
    "    def normalize_data(self, X_train, X):\n",
    "        mean = np.mean(X_train, axis=0)\n",
    "        std = np.std(X_train, axis=0)\n",
    "        X_scaled = (X - mean) / std\n",
    "        return X_scaled\n",
    "    \n",
    "    def modify_channels(self, X):\n",
    "        X_modified = X[..., np.newaxis]\n",
    "        return X_modified\n",
    "    \n",
    "    def encode_labels(self, y_train, y_val, y_test):\n",
    "        y_train_encoded = self.label_encoder.fit_transform(y_train)\n",
    "        y_val_encoded = self.label_encoder.transform(y_val)\n",
    "        y_test_encoded = self.label_encoder.transform(y_test)\n",
    "        return y_train_encoded, y_val_encoded, y_test_encoded\n",
    "    \n",
    "    def one_hot_encode_labels(self, y_encoded):\n",
    "        y_categorical = to_categorical(y_encoded, self.num_classes, dtype='float32')\n",
    "        return y_categorical\n",
    "    \n",
    "    def preprocess_data(self):\n",
    "        X_train, X_val, X_test, y_train, y_val, y_test = self.split_data()\n",
    "        X_train_scaled = self.normalize_data(X_train, X_train)\n",
    "        X_val_scaled = self.normalize_data(X_train, X_val)\n",
    "        X_test_scaled = self.normalize_data(X_train, X_test)\n",
    "        X_train_modified = self.modify_channels(X_train_scaled)\n",
    "        X_val_modified = self.modify_channels(X_val_scaled)\n",
    "        X_test_modified = self.modify_channels(X_test_scaled)\n",
    "        y_train_encoded, y_val_encoded, y_test_encoded = self.encode_labels(y_train, y_val, y_test)\n",
    "        y_train_categorical = self.one_hot_encode_labels(y_train_encoded)\n",
    "        y_val_categorical = self.one_hot_encode_labels(y_val_encoded)\n",
    "        y_test_categorical = self.one_hot_encode_labels(y_test_encoded)\n",
    "        \n",
    "        return X_train_modified, X_val_modified, X_test_modified, y_train_categorical, y_val_categorical, y_test_categorical, self.num_classes, self.class_labels"
   ]
  },
  {
   "cell_type": "code",
   "execution_count": 6,
   "id": "238ee0b2",
   "metadata": {},
   "outputs": [],
   "source": [
    "class EmotionClassifier:\n",
    "    def __init__(self, model, num_classes, class_labels, dataframe):\n",
    "        self.model = model\n",
    "        self.dataframe = dataframe\n",
    "        self.num_classes = num_classes\n",
    "        self.class_labels = class_labels\n",
    "    \n",
    "    def predict_sample(self, test):\n",
    "\n",
    "        # Randomly choose a sample from X_test_scaled\n",
    "        sample_index  = np.random.choice(self.dataframe.shape[0])\n",
    "        # Get the selected sample\n",
    "        sample = test[sample_index]\n",
    "\n",
    "        prediction = self.model.predict(np.expand_dims(sample, axis=0))\n",
    "        predicted_class = np.argmax(prediction)\n",
    "        predicted_emotion = self.class_labels[predicted_class]\n",
    "        \n",
    "        # Display sample and prediction\n",
    "        print(\"Sample Emotion:\", self.dataframe.iloc[sample_index].emotions)\n",
    "        print(\"Predicted Emotion:\", predicted_emotion)\n",
    "        \n",
    "        # Display sound \n",
    "        audio = ipd.Audio(self.dataframe.iloc[sample_index].audio_path)\n",
    "        display(audio)\n",
    "        \n",
    "    def evaluate(self, X_test, y_test):\n",
    "        loss, accuracy = self.model.evaluate(X_test, y_test)\n",
    "        print(\"Test Loss:\", loss)\n",
    "        print(\"Test Accuracy:\", accuracy)\n",
    "        \n",
    "    def plot_confusion_matrix(self, X_test, y_test, class_labels):\n",
    "        y_pred = self.model.predict(X_test)\n",
    "        y_pred = np.argmax(y_pred, axis=1)\n",
    "\n",
    "        # Convert y_pred from label-encoded to one-hot encoded format\n",
    "        y_pred_onehot = to_categorical(y_pred, self.num_classes)\n",
    "\n",
    "        # Decode y_pred and y_test back to their original class labels\n",
    "        label_encoder = LabelEncoder()\n",
    "        label_encoder.fit(class_labels)\n",
    "        y_pred_labels = label_encoder.inverse_transform(np.argmax(y_pred_onehot, axis=1))\n",
    "        y_test_labels = label_encoder.inverse_transform(np.argmax(y_test, axis=1))\n",
    " \n",
    "        cm = confusion_matrix(y_test_labels, y_pred_labels)\n",
    "        \n",
    "        plt.figure(figsize=(8, 6))\n",
    "        sns.heatmap(cm, annot=True, fmt='d', cmap=\"Blues\", xticklabels=class_labels, yticklabels=class_labels)\n",
    "        plt.xlabel(\"Predicted Emotion\")\n",
    "        plt.ylabel(\"True Emotion\")\n",
    "        plt.title(\"Confusion Matrix\")\n",
    "        plt.show()\n",
    "\n",
    "        # Calculate row sums for percentage calculation\n",
    "        row_sums = cm.sum(axis=1, keepdims=True)\n",
    "\n",
    "        # Calculate confusion matrix in percentage format\n",
    "        cm_percentage = (cm / row_sums) * 100\n",
    "\n",
    "        # Plot the confusion matrix in percentage format\n",
    "        plt.figure(figsize=(8, 6))\n",
    "        sns.heatmap(cm_percentage, annot=True, fmt=\".0f\", cmap=\"Blues\", xticklabels=class_labels, yticklabels=class_labels)\n",
    "        plt.xlabel(\"Predicted Labels\")\n",
    "        plt.ylabel(\"True Labels\")\n",
    "        plt.title(\"Confusion Matrix (Percentage)\")\n",
    "        plt.show()\n",
    "\n",
    "    def plot_metrics(self, history):\n",
    "        plt.figure(figsize=(12, 4))\n",
    "        plt.subplot(1, 2, 1)\n",
    "        plt.plot(history.history['loss'], label='Train Loss')\n",
    "        plt.plot(history.history['val_loss'], label='Val Loss')\n",
    "        plt.xlabel('Epoch')\n",
    "        plt.ylabel('Loss')\n",
    "        plt.title('Training and Validation Loss')\n",
    "        plt.legend()\n",
    "        \n",
    "        plt.subplot(1, 2, 2)\n",
    "        plt.plot(history.history['accuracy'], label='Train Accuracy')\n",
    "        plt.plot(history.history['val_accuracy'], label='Val Accuracy')\n",
    "        plt.xlabel('Epoch')\n",
    "        plt.ylabel('Accuracy')\n",
    "        plt.title('Training and Validation Accuracy')\n",
    "        plt.legend()\n",
    "        \n",
    "        plt.tight_layout()\n",
    "        plt.show()"
   ]
  },
  {
   "cell_type": "code",
   "execution_count": null,
   "id": "c8cfcf84-9a71-44f5-be04-d4f010472cb0",
   "metadata": {},
   "outputs": [],
   "source": [
    "data_creator = MFCCDataCreator(num_mfcc=30)"
   ]
  },
  {
   "cell_type": "code",
   "execution_count": null,
   "id": "c8873401-7492-4074-8c2f-1a31b50bd4f5",
   "metadata": {},
   "outputs": [],
   "source": [
    "X_mfcc, X_audio, sr_list, y, max_length = data_creator.create_data(merged_df)"
   ]
  },
  {
   "cell_type": "code",
   "execution_count": null,
   "id": "9c7dbfd8-daaa-4fff-8ccd-6d71af6f2a5a",
   "metadata": {},
   "outputs": [],
   "source": [
    "preprocessor = DataPreprocessor(X, y, merged_df)\n",
    "X_train_scaled, X_val_scaled, X_test_scaled, y_train_categorical, y_val_categorical, y_test_categorical, num_classes, class_labels = preprocessor.preprocess_data()"
   ]
  },
  {
   "cell_type": "markdown",
   "id": "854448fe-25ac-4906-bc4d-2f4071183fb6",
   "metadata": {},
   "source": [
    "### 3x3 kernel model"
   ]
  },
  {
   "cell_type": "code",
   "execution_count": null,
   "id": "ccf72d68",
   "metadata": {},
   "outputs": [],
   "source": [
    "input_shape = X_train_scaled.shape[1:]\n",
    "\n",
    "# Define the optimizer with an initial learning rate\n",
    "optimizer = Adam(learning_rate=0.001)\n",
    "\n",
    "inputs = Input(shape=input_shape)\n",
    "x = Conv2D(32, kernel_size=(3, 3), activation=\"relu\", padding=\"same\")(inputs)\n",
    "x = BatchNormalization()(x)\n",
    "x = MaxPooling2D(pool_size=(2, 2))(x)\n",
    "x = Dropout(0.3)(x)\n",
    "\n",
    "x = Conv2D(32, kernel_size=(3, 3), activation=\"relu\", padding=\"same\")(x)\n",
    "x = BatchNormalization()(x)\n",
    "x = MaxPooling2D(pool_size=(2, 2))(x)\n",
    "x = Dropout(0.3)(x)\n",
    "\n",
    "x = Conv2D(64, kernel_size=(3, 3), activation=\"relu\", padding=\"same\")(x)\n",
    "x = BatchNormalization()(x)\n",
    "x = MaxPooling2D(pool_size=(2, 2))(x)\n",
    "x = Dropout(0.3)(x)\n",
    "\n",
    "x = Conv2D(64, kernel_size=(3, 3), activation=\"relu\", padding=\"same\")(x)\n",
    "x = BatchNormalization()(x)\n",
    "x = MaxPooling2D(pool_size=(2, 2))(x)\n",
    "x = Dropout(0.3)(x)\n",
    "\n",
    "x = Flatten()(x)\n",
    "x = Dense(128, activation=\"relu\")(x)\n",
    "x = Dropout(0.3)(x)\n",
    "outputs = Dense(num_classes, activation=\"softmax\")(x)\n",
    "\n",
    "model = Model(inputs=inputs, outputs=outputs)\n",
    "model.compile(loss=\"categorical_crossentropy\", optimizer=optimizer, metrics=[\"accuracy\"])\n",
    "model.summary()"
   ]
  },
  {
   "cell_type": "code",
   "execution_count": null,
   "id": "fbd15786",
   "metadata": {},
   "outputs": [],
   "source": [
    "callbacks = [\n",
    "    create_early_stopping_callback(),\n",
    "    create_model_checkpoint_callback(\"best_model_kernel3by3.h5\"),\n",
    "    create_reduce_lr_callback()\n",
    "]\n",
    "\n",
    "history = model.fit(X_train_scaled, \n",
    "                    y_train_categorical, \n",
    "                    batch_size=32, \n",
    "                    epochs=30, \n",
    "                    validation_data=(X_val_scaled, y_val_categorical),\n",
    "                    callbacks=callbacks\n",
    "                    )"
   ]
  },
  {
   "cell_type": "code",
   "execution_count": null,
   "id": "48c24e52",
   "metadata": {},
   "outputs": [],
   "source": [
    "plot_metrics(history, 'accuracy')\n",
    "plot_metrics(history, 'loss')"
   ]
  },
  {
   "cell_type": "markdown",
   "id": "b001931d-ef42-4e39-9334-f503270e3963",
   "metadata": {},
   "source": [
    "### 4x10 kernel model"
   ]
  },
  {
   "cell_type": "markdown",
   "id": "c10df062-7811-4287-b23b-931fdd7ba204",
   "metadata": {},
   "source": [
    "Since the MFCC shape is of a wide rectangle, a rectangular kernel might be more fitted for our model Conv2D"
   ]
  },
  {
   "cell_type": "code",
   "execution_count": null,
   "id": "eefa540c-0d9a-4b5c-9e3e-0acc19e9d9c9",
   "metadata": {},
   "outputs": [],
   "source": [
    "input_shape = X_train_scaled.shape[1:]\n",
    "\n",
    "# Define the optimizer with an initial learning rate\n",
    "optimizer = Adam(learning_rate=0.001)\n",
    "\n",
    "inputs = Input(shape=input_shape)\n",
    "x = Conv2D(32, kernel_size=(4, 10), activation=\"relu\", padding=\"same\")(inputs)\n",
    "x = BatchNormalization()(x)\n",
    "x = MaxPooling2D(pool_size=(2, 2))(x)\n",
    "x = Dropout(0.3)(x)\n",
    "\n",
    "x = Conv2D(32, kernel_size=(4, 10), activation=\"relu\", padding=\"same\")(x)\n",
    "x = BatchNormalization()(x)\n",
    "x = MaxPooling2D(pool_size=(2, 2))(x)\n",
    "x = Dropout(0.3)(x)\n",
    "\n",
    "x = Conv2D(64, kernel_size=(4, 10), activation=\"relu\", padding=\"same\")(x)\n",
    "x = BatchNormalization()(x)\n",
    "x = MaxPooling2D(pool_size=(2, 2))(x)\n",
    "x = Dropout(0.3)(x)\n",
    "\n",
    "x = Conv2D(64, kernel_size=(4, 10), activation=\"relu\", padding=\"same\")(x)\n",
    "x = BatchNormalization()(x)\n",
    "x = MaxPooling2D(pool_size=(2, 2))(x)\n",
    "x = Dropout(0.3)(x)\n",
    "\n",
    "x = Flatten()(x)\n",
    "x = Dense(128, activation=\"relu\")(x)\n",
    "x = Dropout(0.3)(x)\n",
    "outputs = Dense(num_classes, activation=\"softmax\")(x)\n",
    "\n",
    "model = Model(inputs=inputs, outputs=outputs)\n",
    "model.compile(loss=\"categorical_crossentropy\", optimizer=optimizer, metrics=[\"accuracy\"])\n",
    "model.summary()"
   ]
  },
  {
   "cell_type": "code",
   "execution_count": null,
   "id": "8de91bee-b8d3-4fff-82f6-c09abe9db6bc",
   "metadata": {},
   "outputs": [],
   "source": [
    "callbacks = [\n",
    "    create_early_stopping_callback(),\n",
    "    create_model_checkpoint_callback(\"best_model_kernel4by10.h5\"),\n",
    "    create_reduce_lr_callback()\n",
    "]\n",
    "\n",
    "history = model.fit(X_train_scaled, \n",
    "                    y_train_categorical, \n",
    "                    batch_size=32, \n",
    "                    epochs=30, \n",
    "                    validation_data=(X_val_scaled, y_val_categorical),\n",
    "                    callbacks=callbacks\n",
    "                    )"
   ]
  },
  {
   "cell_type": "code",
   "execution_count": null,
   "id": "9e0bce34-de4a-46f7-888c-a7583076d553",
   "metadata": {},
   "outputs": [],
   "source": [
    "plot_metrics(history, 'accuracy')\n",
    "plot_metrics(history, 'loss')"
   ]
  },
  {
   "cell_type": "markdown",
   "id": "2de4d4b1",
   "metadata": {},
   "source": [
    "## Data Augmentation"
   ]
  },
  {
   "cell_type": "code",
   "execution_count": null,
   "id": "9dd71468-9554-4056-92f1-81a4a12b5e41",
   "metadata": {},
   "outputs": [],
   "source": [
    "class DataAugmentation:\n",
    "    def __init__(self) -> None:\n",
    "        pass\n",
    "\n",
    "    def shift_pitch(self, audio, sr, semitones):\n",
    "        shifted_audio = librosa.effects.pitch_shift(audio, n_steps=float(semitones), sr=sr)\n",
    "        return shifted_audio\n",
    "    \n",
    "    def time_shift(self, audio, sr, shift_range=5):\n",
    "        shift_samples = np.random.randint(-shift_range, shift_range)*1000\n",
    "        shifted_audio = np.roll(audio, shift=shift_samples)\n",
    "        return shifted_audio\n",
    "    \n",
    "    def time_stretch(self, audio, rate):\n",
    "        stretched_audio = librosa.effects.time_stretch(audio, rate=rate)\n",
    "        return stretched_audio\n",
    "    \n",
    "    def add_noise(self, audio, noise_factor):\n",
    "        noise = np.random.randn(len(audio))\n",
    "        noise_factor = noise_factor *np.random.uniform() * np.amax(audio)\n",
    "        noisy_audio = audio + noise_factor * noise\n",
    "        return noisy_audio"
   ]
  },
  {
   "cell_type": "code",
   "execution_count": null,
   "id": "e4742c15",
   "metadata": {},
   "outputs": [],
   "source": [
    "augmentor = DataAugmentation()"
   ]
  },
  {
   "cell_type": "code",
   "execution_count": null,
   "id": "be1fcf90",
   "metadata": {},
   "outputs": [],
   "source": [
    "merged_df.head()"
   ]
  },
  {
   "cell_type": "code",
   "execution_count": null,
   "id": "8abe84c7",
   "metadata": {},
   "outputs": [],
   "source": [
    "# Take a random 75% of the data\n",
    "random_merged_df = merged_df.sample(frac=0.75, random_state=42)\n",
    "random_merged_df.reset_index(drop=True, inplace=True)\n",
    "random_merged_df.head()"
   ]
  },
  {
   "cell_type": "code",
   "execution_count": null,
   "id": "8c103157",
   "metadata": {},
   "outputs": [],
   "source": [
    "# Create a new dataframe to store augmented data\n",
    "augmented_df = pd.DataFrame(columns=random_merged_df.columns)"
   ]
  },
  {
   "cell_type": "code",
   "execution_count": null,
   "id": "a7c9db63",
   "metadata": {},
   "outputs": [],
   "source": [
    "# Set output folder to save augmented audio files\n",
    "output_folder = './data/augmented_audio'  "
   ]
  },
  {
   "cell_type": "code",
   "execution_count": null,
   "id": "ad181640",
   "metadata": {},
   "outputs": [],
   "source": [
    "if not os.path.exists(output_folder):\n",
    "    os.makedirs(output_folder)"
   ]
  },
  {
   "cell_type": "code",
   "execution_count": null,
   "id": "a5dd80cb",
   "metadata": {},
   "outputs": [],
   "source": [
    "for idx, row in random_merged_df.iterrows():\n",
    "    audio_path = row['audio_path']\n",
    "    emotion = row['emotions']\n",
    "    \n",
    "    # Load the audio\n",
    "    audio, sr = librosa.load(audio_path, sr=None)\n",
    "    \n",
    "    # Augment the audio using each method in the DataAugmentation class\n",
    "    shifted_audio = augmentor.shift_pitch(audio, sr, semitones=2)\n",
    "    time_shifted_audio = augmentor.time_shift(audio, sr, shift_range=5)\n",
    "    stretched_audio = augmentor.time_stretch(audio, rate=1.2)\n",
    "    noisy_audio = augmentor.add_noise(audio, noise_factor=0.1)\n",
    "    \n",
    "    # Save the augmented audio if needed\n",
    "    output_path = os.path.join(output_folder, f'{emotion}_{idx}.wav')\n",
    "    sf.write(output_path, shifted_audio, sr)\n",
    "    \n",
    "    # Append the augmented data to the augmented_df\n",
    "    augmented_df = pd.concat([augmented_df, \n",
    "                              pd.DataFrame([{\n",
    "                                  'emotions': emotion,\n",
    "                                  'genders': row['genders'],\n",
    "                                  'audio_intensity': row['audio_intensity'],\n",
    "                                  'audio_path': output_path,  # Replace with the actual path if not saving\n",
    "                                  'duration': row['duration'],\n",
    "                                  'dataset': row['dataset']\n",
    "                              }])])\n",
    "\n",
    "augmented_df.to_csv('augmented_df.csv',index=False)"
   ]
  },
  {
   "cell_type": "code",
   "execution_count": 3,
   "id": "2794e1fd-da0c-4a86-955e-fbcd75ac1619",
   "metadata": {},
   "outputs": [],
   "source": [
    "merged_df = pd.read_csv('merged_df.csv')\n",
    "augmented_df = pd.read_csv('augmented_df.csv')"
   ]
  },
  {
   "cell_type": "code",
   "execution_count": 4,
   "id": "4037c64b",
   "metadata": {},
   "outputs": [],
   "source": [
    "final_data = pd.concat([merged_df, augmented_df], axis=0)"
   ]
  },
  {
   "cell_type": "code",
   "execution_count": null,
   "id": "ec055674",
   "metadata": {},
   "outputs": [],
   "source": [
    "final_data.columns"
   ]
  },
  {
   "cell_type": "code",
   "execution_count": 31,
   "id": "d811088e",
   "metadata": {},
   "outputs": [
    {
     "ename": "SystemError",
     "evalue": "tile cannot extend outside image",
     "output_type": "error",
     "traceback": [
      "\u001b[1;31m---------------------------------------------------------------------------\u001b[0m",
      "\u001b[1;31mAttributeError\u001b[0m                            Traceback (most recent call last)",
      "File \u001b[1;32m~\\AppData\\Roaming\\Python\\Python311\\site-packages\\PIL\\ImageFile.py:518\u001b[0m, in \u001b[0;36m_save\u001b[1;34m(im, fp, tile, bufsize)\u001b[0m\n\u001b[0;32m    517\u001b[0m \u001b[39mtry\u001b[39;00m:\n\u001b[1;32m--> 518\u001b[0m     fh \u001b[39m=\u001b[39m fp\u001b[39m.\u001b[39;49mfileno()\n\u001b[0;32m    519\u001b[0m     fp\u001b[39m.\u001b[39mflush()\n",
      "\u001b[1;31mAttributeError\u001b[0m: '_idat' object has no attribute 'fileno'",
      "\nDuring handling of the above exception, another exception occurred:\n",
      "\u001b[1;31mSystemError\u001b[0m                               Traceback (most recent call last)",
      "Cell \u001b[1;32mIn[31], line 2\u001b[0m\n\u001b[0;32m      1\u001b[0m spectrogram_data_creator \u001b[39m=\u001b[39m SpectrogramDataCreator()\n\u001b[1;32m----> 2\u001b[0m X_spectrogram, y, max_length \u001b[39m=\u001b[39m spectrogram_data_creator\u001b[39m.\u001b[39;49mcreate_data(final_data, save_folder\u001b[39m=\u001b[39;49m\u001b[39m'\u001b[39;49m\u001b[39mspectrogram_images\u001b[39;49m\u001b[39m'\u001b[39;49m)\n",
      "Cell \u001b[1;32mIn[30], line 27\u001b[0m, in \u001b[0;36mSpectrogramDataCreator.create_data\u001b[1;34m(self, df, save_folder)\u001b[0m\n\u001b[0;32m     25\u001b[0m plt\u001b[39m.\u001b[39maxis(\u001b[39m'\u001b[39m\u001b[39moff\u001b[39m\u001b[39m'\u001b[39m)  \u001b[39m# Remove axis ticks and labels\u001b[39;00m\n\u001b[0;32m     26\u001b[0m plt\u001b[39m.\u001b[39msubplots_adjust(left\u001b[39m=\u001b[39m\u001b[39m0\u001b[39m, right\u001b[39m=\u001b[39m\u001b[39m1\u001b[39m, top\u001b[39m=\u001b[39m\u001b[39m1\u001b[39m, bottom\u001b[39m=\u001b[39m\u001b[39m0\u001b[39m)  \u001b[39m# Remove unnecessary margins\u001b[39;00m\n\u001b[1;32m---> 27\u001b[0m plt\u001b[39m.\u001b[39;49msavefig(filepath, bbox_inches\u001b[39m=\u001b[39;49m\u001b[39m'\u001b[39;49m\u001b[39mtight\u001b[39;49m\u001b[39m'\u001b[39;49m, pad_inches\u001b[39m=\u001b[39;49m\u001b[39m0\u001b[39;49m)  \u001b[39m# Save the image without extra padding\u001b[39;00m\n\u001b[0;32m     28\u001b[0m plt\u001b[39m.\u001b[39mclose()\n\u001b[0;32m     30\u001b[0m \u001b[39m# Update maximum length if needed\u001b[39;00m\n",
      "File \u001b[1;32m~\\AppData\\Roaming\\Python\\Python311\\site-packages\\matplotlib\\pyplot.py:996\u001b[0m, in \u001b[0;36msavefig\u001b[1;34m(*args, **kwargs)\u001b[0m\n\u001b[0;32m    993\u001b[0m \u001b[39m@_copy_docstring_and_deprecators\u001b[39m(Figure\u001b[39m.\u001b[39msavefig)\n\u001b[0;32m    994\u001b[0m \u001b[39mdef\u001b[39;00m \u001b[39msavefig\u001b[39m(\u001b[39m*\u001b[39margs, \u001b[39m*\u001b[39m\u001b[39m*\u001b[39mkwargs):\n\u001b[0;32m    995\u001b[0m     fig \u001b[39m=\u001b[39m gcf()\n\u001b[1;32m--> 996\u001b[0m     res \u001b[39m=\u001b[39m fig\u001b[39m.\u001b[39;49msavefig(\u001b[39m*\u001b[39;49margs, \u001b[39m*\u001b[39;49m\u001b[39m*\u001b[39;49mkwargs)\n\u001b[0;32m    997\u001b[0m     fig\u001b[39m.\u001b[39mcanvas\u001b[39m.\u001b[39mdraw_idle()  \u001b[39m# Need this if 'transparent=True', to reset colors.\u001b[39;00m\n\u001b[0;32m    998\u001b[0m     \u001b[39mreturn\u001b[39;00m res\n",
      "File \u001b[1;32m~\\AppData\\Roaming\\Python\\Python311\\site-packages\\matplotlib\\figure.py:3328\u001b[0m, in \u001b[0;36mFigure.savefig\u001b[1;34m(self, fname, transparent, **kwargs)\u001b[0m\n\u001b[0;32m   3324\u001b[0m     \u001b[39mfor\u001b[39;00m ax \u001b[39min\u001b[39;00m \u001b[39mself\u001b[39m\u001b[39m.\u001b[39maxes:\n\u001b[0;32m   3325\u001b[0m         stack\u001b[39m.\u001b[39menter_context(\n\u001b[0;32m   3326\u001b[0m             ax\u001b[39m.\u001b[39mpatch\u001b[39m.\u001b[39m_cm_set(facecolor\u001b[39m=\u001b[39m\u001b[39m'\u001b[39m\u001b[39mnone\u001b[39m\u001b[39m'\u001b[39m, edgecolor\u001b[39m=\u001b[39m\u001b[39m'\u001b[39m\u001b[39mnone\u001b[39m\u001b[39m'\u001b[39m))\n\u001b[1;32m-> 3328\u001b[0m \u001b[39mself\u001b[39;49m\u001b[39m.\u001b[39;49mcanvas\u001b[39m.\u001b[39;49mprint_figure(fname, \u001b[39m*\u001b[39;49m\u001b[39m*\u001b[39;49mkwargs)\n",
      "File \u001b[1;32m~\\AppData\\Roaming\\Python\\Python311\\site-packages\\matplotlib\\backend_bases.py:2362\u001b[0m, in \u001b[0;36mFigureCanvasBase.print_figure\u001b[1;34m(self, filename, dpi, facecolor, edgecolor, orientation, format, bbox_inches, pad_inches, bbox_extra_artists, backend, **kwargs)\u001b[0m\n\u001b[0;32m   2358\u001b[0m \u001b[39mtry\u001b[39;00m:\n\u001b[0;32m   2359\u001b[0m     \u001b[39m# _get_renderer may change the figure dpi (as vector formats\u001b[39;00m\n\u001b[0;32m   2360\u001b[0m     \u001b[39m# force the figure dpi to 72), so we need to set it again here.\u001b[39;00m\n\u001b[0;32m   2361\u001b[0m     \u001b[39mwith\u001b[39;00m cbook\u001b[39m.\u001b[39m_setattr_cm(\u001b[39mself\u001b[39m\u001b[39m.\u001b[39mfigure, dpi\u001b[39m=\u001b[39mdpi):\n\u001b[1;32m-> 2362\u001b[0m         result \u001b[39m=\u001b[39m print_method(\n\u001b[0;32m   2363\u001b[0m             filename,\n\u001b[0;32m   2364\u001b[0m             facecolor\u001b[39m=\u001b[39;49mfacecolor,\n\u001b[0;32m   2365\u001b[0m             edgecolor\u001b[39m=\u001b[39;49medgecolor,\n\u001b[0;32m   2366\u001b[0m             orientation\u001b[39m=\u001b[39;49morientation,\n\u001b[0;32m   2367\u001b[0m             bbox_inches_restore\u001b[39m=\u001b[39;49m_bbox_inches_restore,\n\u001b[0;32m   2368\u001b[0m             \u001b[39m*\u001b[39;49m\u001b[39m*\u001b[39;49mkwargs)\n\u001b[0;32m   2369\u001b[0m \u001b[39mfinally\u001b[39;00m:\n\u001b[0;32m   2370\u001b[0m     \u001b[39mif\u001b[39;00m bbox_inches \u001b[39mand\u001b[39;00m restore_bbox:\n",
      "File \u001b[1;32m~\\AppData\\Roaming\\Python\\Python311\\site-packages\\matplotlib\\backend_bases.py:2228\u001b[0m, in \u001b[0;36mFigureCanvasBase._switch_canvas_and_return_print_method.<locals>.<lambda>\u001b[1;34m(*args, **kwargs)\u001b[0m\n\u001b[0;32m   2224\u001b[0m     optional_kws \u001b[39m=\u001b[39m {  \u001b[39m# Passed by print_figure for other renderers.\u001b[39;00m\n\u001b[0;32m   2225\u001b[0m         \u001b[39m\"\u001b[39m\u001b[39mdpi\u001b[39m\u001b[39m\"\u001b[39m, \u001b[39m\"\u001b[39m\u001b[39mfacecolor\u001b[39m\u001b[39m\"\u001b[39m, \u001b[39m\"\u001b[39m\u001b[39medgecolor\u001b[39m\u001b[39m\"\u001b[39m, \u001b[39m\"\u001b[39m\u001b[39morientation\u001b[39m\u001b[39m\"\u001b[39m,\n\u001b[0;32m   2226\u001b[0m         \u001b[39m\"\u001b[39m\u001b[39mbbox_inches_restore\u001b[39m\u001b[39m\"\u001b[39m}\n\u001b[0;32m   2227\u001b[0m     skip \u001b[39m=\u001b[39m optional_kws \u001b[39m-\u001b[39m {\u001b[39m*\u001b[39minspect\u001b[39m.\u001b[39msignature(meth)\u001b[39m.\u001b[39mparameters}\n\u001b[1;32m-> 2228\u001b[0m     print_method \u001b[39m=\u001b[39m functools\u001b[39m.\u001b[39mwraps(meth)(\u001b[39mlambda\u001b[39;00m \u001b[39m*\u001b[39margs, \u001b[39m*\u001b[39m\u001b[39m*\u001b[39mkwargs: meth(\n\u001b[0;32m   2229\u001b[0m         \u001b[39m*\u001b[39;49margs, \u001b[39m*\u001b[39;49m\u001b[39m*\u001b[39;49m{k: v \u001b[39mfor\u001b[39;49;00m k, v \u001b[39min\u001b[39;49;00m kwargs\u001b[39m.\u001b[39;49mitems() \u001b[39mif\u001b[39;49;00m k \u001b[39mnot\u001b[39;49;00m \u001b[39min\u001b[39;49;00m skip}))\n\u001b[0;32m   2230\u001b[0m \u001b[39melse\u001b[39;00m:  \u001b[39m# Let third-parties do as they see fit.\u001b[39;00m\n\u001b[0;32m   2231\u001b[0m     print_method \u001b[39m=\u001b[39m meth\n",
      "File \u001b[1;32m~\\AppData\\Roaming\\Python\\Python311\\site-packages\\matplotlib\\backends\\backend_agg.py:509\u001b[0m, in \u001b[0;36mFigureCanvasAgg.print_png\u001b[1;34m(self, filename_or_obj, metadata, pil_kwargs)\u001b[0m\n\u001b[0;32m    462\u001b[0m \u001b[39mdef\u001b[39;00m \u001b[39mprint_png\u001b[39m(\u001b[39mself\u001b[39m, filename_or_obj, \u001b[39m*\u001b[39m, metadata\u001b[39m=\u001b[39m\u001b[39mNone\u001b[39;00m, pil_kwargs\u001b[39m=\u001b[39m\u001b[39mNone\u001b[39;00m):\n\u001b[0;32m    463\u001b[0m \u001b[39m    \u001b[39m\u001b[39m\"\"\"\u001b[39;00m\n\u001b[0;32m    464\u001b[0m \u001b[39m    Write the figure to a PNG file.\u001b[39;00m\n\u001b[0;32m    465\u001b[0m \n\u001b[1;32m   (...)\u001b[0m\n\u001b[0;32m    507\u001b[0m \u001b[39m        *metadata*, including the default 'Software' key.\u001b[39;00m\n\u001b[0;32m    508\u001b[0m \u001b[39m    \"\"\"\u001b[39;00m\n\u001b[1;32m--> 509\u001b[0m     \u001b[39mself\u001b[39;49m\u001b[39m.\u001b[39;49m_print_pil(filename_or_obj, \u001b[39m\"\u001b[39;49m\u001b[39mpng\u001b[39;49m\u001b[39m\"\u001b[39;49m, pil_kwargs, metadata)\n",
      "File \u001b[1;32m~\\AppData\\Roaming\\Python\\Python311\\site-packages\\matplotlib\\backends\\backend_agg.py:458\u001b[0m, in \u001b[0;36mFigureCanvasAgg._print_pil\u001b[1;34m(self, filename_or_obj, fmt, pil_kwargs, metadata)\u001b[0m\n\u001b[0;32m    453\u001b[0m \u001b[39m\u001b[39m\u001b[39m\"\"\"\u001b[39;00m\n\u001b[0;32m    454\u001b[0m \u001b[39mDraw the canvas, then save it using `.image.imsave` (to which\u001b[39;00m\n\u001b[0;32m    455\u001b[0m \u001b[39m*pil_kwargs* and *metadata* are forwarded).\u001b[39;00m\n\u001b[0;32m    456\u001b[0m \u001b[39m\"\"\"\u001b[39;00m\n\u001b[0;32m    457\u001b[0m FigureCanvasAgg\u001b[39m.\u001b[39mdraw(\u001b[39mself\u001b[39m)\n\u001b[1;32m--> 458\u001b[0m mpl\u001b[39m.\u001b[39;49mimage\u001b[39m.\u001b[39;49mimsave(\n\u001b[0;32m    459\u001b[0m     filename_or_obj, \u001b[39mself\u001b[39;49m\u001b[39m.\u001b[39;49mbuffer_rgba(), \u001b[39mformat\u001b[39;49m\u001b[39m=\u001b[39;49mfmt, origin\u001b[39m=\u001b[39;49m\u001b[39m\"\u001b[39;49m\u001b[39mupper\u001b[39;49m\u001b[39m\"\u001b[39;49m,\n\u001b[0;32m    460\u001b[0m     dpi\u001b[39m=\u001b[39;49m\u001b[39mself\u001b[39;49m\u001b[39m.\u001b[39;49mfigure\u001b[39m.\u001b[39;49mdpi, metadata\u001b[39m=\u001b[39;49mmetadata, pil_kwargs\u001b[39m=\u001b[39;49mpil_kwargs)\n",
      "File \u001b[1;32m~\\AppData\\Roaming\\Python\\Python311\\site-packages\\matplotlib\\image.py:1687\u001b[0m, in \u001b[0;36mimsave\u001b[1;34m(fname, arr, vmin, vmax, cmap, format, origin, dpi, metadata, pil_kwargs)\u001b[0m\n\u001b[0;32m   1685\u001b[0m pil_kwargs\u001b[39m.\u001b[39msetdefault(\u001b[39m\"\u001b[39m\u001b[39mformat\u001b[39m\u001b[39m\"\u001b[39m, \u001b[39mformat\u001b[39m)\n\u001b[0;32m   1686\u001b[0m pil_kwargs\u001b[39m.\u001b[39msetdefault(\u001b[39m\"\u001b[39m\u001b[39mdpi\u001b[39m\u001b[39m\"\u001b[39m, (dpi, dpi))\n\u001b[1;32m-> 1687\u001b[0m image\u001b[39m.\u001b[39;49msave(fname, \u001b[39m*\u001b[39;49m\u001b[39m*\u001b[39;49mpil_kwargs)\n",
      "File \u001b[1;32m~\\AppData\\Roaming\\Python\\Python311\\site-packages\\PIL\\Image.py:2431\u001b[0m, in \u001b[0;36mImage.save\u001b[1;34m(self, fp, format, **params)\u001b[0m\n\u001b[0;32m   2428\u001b[0m         fp \u001b[39m=\u001b[39m builtins\u001b[39m.\u001b[39mopen(filename, \u001b[39m\"\u001b[39m\u001b[39mw+b\u001b[39m\u001b[39m\"\u001b[39m)\n\u001b[0;32m   2430\u001b[0m \u001b[39mtry\u001b[39;00m:\n\u001b[1;32m-> 2431\u001b[0m     save_handler(\u001b[39mself\u001b[39;49m, fp, filename)\n\u001b[0;32m   2432\u001b[0m \u001b[39mexcept\u001b[39;00m \u001b[39mException\u001b[39;00m:\n\u001b[0;32m   2433\u001b[0m     \u001b[39mif\u001b[39;00m open_fp:\n",
      "File \u001b[1;32m~\\AppData\\Roaming\\Python\\Python311\\site-packages\\PIL\\PngImagePlugin.py:1420\u001b[0m, in \u001b[0;36m_save\u001b[1;34m(im, fp, filename, chunk, save_all)\u001b[0m\n\u001b[0;32m   1418\u001b[0m     _write_multiple_frames(im, fp, chunk, rawmode, default_image, append_images)\n\u001b[0;32m   1419\u001b[0m \u001b[39melse\u001b[39;00m:\n\u001b[1;32m-> 1420\u001b[0m     ImageFile\u001b[39m.\u001b[39;49m_save(im, _idat(fp, chunk), [(\u001b[39m\"\u001b[39;49m\u001b[39mzip\u001b[39;49m\u001b[39m\"\u001b[39;49m, (\u001b[39m0\u001b[39;49m, \u001b[39m0\u001b[39;49m) \u001b[39m+\u001b[39;49m im\u001b[39m.\u001b[39;49msize, \u001b[39m0\u001b[39;49m, rawmode)])\n\u001b[0;32m   1422\u001b[0m \u001b[39mif\u001b[39;00m info:\n\u001b[0;32m   1423\u001b[0m     \u001b[39mfor\u001b[39;00m info_chunk \u001b[39min\u001b[39;00m info\u001b[39m.\u001b[39mchunks:\n",
      "File \u001b[1;32m~\\AppData\\Roaming\\Python\\Python311\\site-packages\\PIL\\ImageFile.py:522\u001b[0m, in \u001b[0;36m_save\u001b[1;34m(im, fp, tile, bufsize)\u001b[0m\n\u001b[0;32m    520\u001b[0m     _encode_tile(im, fp, tile, bufsize, fh)\n\u001b[0;32m    521\u001b[0m \u001b[39mexcept\u001b[39;00m (\u001b[39mAttributeError\u001b[39;00m, io\u001b[39m.\u001b[39mUnsupportedOperation) \u001b[39mas\u001b[39;00m exc:\n\u001b[1;32m--> 522\u001b[0m     _encode_tile(im, fp, tile, bufsize, \u001b[39mNone\u001b[39;49;00m, exc)\n\u001b[0;32m    523\u001b[0m \u001b[39mif\u001b[39;00m \u001b[39mhasattr\u001b[39m(fp, \u001b[39m\"\u001b[39m\u001b[39mflush\u001b[39m\u001b[39m\"\u001b[39m):\n\u001b[0;32m    524\u001b[0m     fp\u001b[39m.\u001b[39mflush()\n",
      "File \u001b[1;32m~\\AppData\\Roaming\\Python\\Python311\\site-packages\\PIL\\ImageFile.py:533\u001b[0m, in \u001b[0;36m_encode_tile\u001b[1;34m(im, fp, tile, bufsize, fh, exc)\u001b[0m\n\u001b[0;32m    531\u001b[0m encoder \u001b[39m=\u001b[39m Image\u001b[39m.\u001b[39m_getencoder(im\u001b[39m.\u001b[39mmode, e, a, im\u001b[39m.\u001b[39mencoderconfig)\n\u001b[0;32m    532\u001b[0m \u001b[39mtry\u001b[39;00m:\n\u001b[1;32m--> 533\u001b[0m     encoder\u001b[39m.\u001b[39;49msetimage(im\u001b[39m.\u001b[39;49mim, b)\n\u001b[0;32m    534\u001b[0m     \u001b[39mif\u001b[39;00m encoder\u001b[39m.\u001b[39mpushes_fd:\n\u001b[0;32m    535\u001b[0m         encoder\u001b[39m.\u001b[39msetfd(fp)\n",
      "\u001b[1;31mSystemError\u001b[0m: tile cannot extend outside image"
     ]
    },
    {
     "data": {
      "image/png": "[encoded data removed]",
      "text/plain": [
       "<Figure size 0x224 with 1 Axes>"
      ]
     },
     "metadata": {},
     "output_type": "display_data"
    }
   ],
   "source": [
    "spectrogram_data_creator = SpectrogramDataCreator()\n",
    "X_spectrogram, y, max_length = spectrogram_data_creator.create_data(final_data, save_folder='spectrogram_images')"
   ]
  },
  {
   "cell_type": "code",
   "execution_count": null,
   "id": "7c673d96",
   "metadata": {},
   "outputs": [],
   "source": [
    "final_data.shape"
   ]
  },
  {
   "cell_type": "code",
   "execution_count": null,
   "id": "9349d587",
   "metadata": {},
   "outputs": [],
   "source": [
    "data_creator = MFCCDataCreator(num_mfcc=40)"
   ]
  },
  {
   "cell_type": "code",
   "execution_count": null,
   "id": "f72cbdc7",
   "metadata": {},
   "outputs": [],
   "source": [
    "sns.histplot(data=final_data, x='duration', hue='dataset')"
   ]
  },
  {
   "cell_type": "code",
   "execution_count": null,
   "id": "3b3282c7",
   "metadata": {},
   "outputs": [],
   "source": [
    "final_data.head()"
   ]
  },
  {
   "cell_type": "code",
   "execution_count": null,
   "id": "301971c4",
   "metadata": {},
   "outputs": [],
   "source": [
    "X_mfcc, X_audio, sr_list, y, max_length = data_creator.create_data(final_data)"
   ]
  },
  {
   "cell_type": "code",
   "execution_count": null,
   "id": "f75a93cc",
   "metadata": {},
   "outputs": [],
   "source": [
    "##### Saving the arrays of mfcc, audio wave, sr, y, max length  #####\n",
    "np.save('X_mfcc.npy', X_mfcc)\n",
    "np.save('X_audio.npy', X_audio)\n",
    "np.save('sr_list.npy', sr_list)\n",
    "np.save('y.npy', y)\n",
    "np.save('max_length.npy', max_length)\n",
    "######################################################################"
   ]
  },
  {
   "cell_type": "code",
   "execution_count": 4,
   "id": "b3dbfca8",
   "metadata": {},
   "outputs": [],
   "source": [
    "##### Loading the arrays of mfcc, audio wave, sr, y, max_length #####\n",
    "X_mfcc = np.load('X_mfcc.npy')\n",
    "X_audio = np.load('X_audio.npy', allow_pickle=True)\n",
    "sr_list = np.load('sr_list.npy')\n",
    "y = np.load('y.npy')\n",
    "max_length = np.load('max_length.npy')\n",
    "######################################################################\n",
    "\n"
   ]
  },
  {
   "cell_type": "code",
   "execution_count": null,
   "id": "bfcd8131",
   "metadata": {},
   "outputs": [],
   "source": []
  },
  {
   "cell_type": "code",
   "execution_count": null,
   "id": "ad41f8df",
   "metadata": {},
   "outputs": [],
   "source": []
  },
  {
   "cell_type": "code",
   "execution_count": 12,
   "id": "64eba653",
   "metadata": {},
   "outputs": [],
   "source": [
    "preprocessor = DataPreprocessor(X_mfcc, y, final_data)\n",
    "X_train_scaled, X_val_scaled, X_test_scaled, y_train_categorical, y_val_categorical, y_test_categorical, num_classes, class_labels = preprocessor.preprocess_data()"
   ]
  },
  {
   "cell_type": "code",
   "execution_count": 13,
   "id": "89a08d59",
   "metadata": {},
   "outputs": [],
   "source": [
    "# Splitting the data into train , val, test datasets\n",
    "train, val, test = preprocessor.split_dataframe()"
   ]
  },
  {
   "cell_type": "code",
   "execution_count": null,
   "id": "10ada0bc",
   "metadata": {},
   "outputs": [],
   "source": []
  },
  {
   "cell_type": "code",
   "execution_count": null,
   "id": "475a66c5",
   "metadata": {},
   "outputs": [],
   "source": []
  },
  {
   "cell_type": "code",
   "execution_count": null,
   "id": "15e2cfa6",
   "metadata": {},
   "outputs": [],
   "source": []
  },
  {
   "cell_type": "code",
   "execution_count": null,
   "id": "b02ce1fc",
   "metadata": {},
   "outputs": [],
   "source": [
    "input_shape = X_train_scaled.shape[1:]\n",
    "\n",
    "# Define the optimizer with an initial learning rate\n",
    "optimizer = Adam(learning_rate=0.001)\n",
    "\n",
    "inputs = Input(shape=input_shape)\n",
    "x = Conv2D(32, kernel_size=(3, 3), activation=\"relu\", padding=\"same\")(inputs)\n",
    "x = BatchNormalization()(x)\n",
    "x = MaxPooling2D(pool_size=(2, 2))(x)\n",
    "x = Dropout(0.2)(x)\n",
    "\n",
    "x = Conv2D(32, kernel_size=(3, 3), activation=\"relu\", padding=\"same\")(x)\n",
    "x = BatchNormalization()(x)\n",
    "x = MaxPooling2D(pool_size=(2, 2))(x)\n",
    "x = Dropout(0.2)(x)\n",
    "\n",
    "x = Conv2D(64, kernel_size=(3, 3), activation=\"relu\", padding=\"same\")(x)\n",
    "x = BatchNormalization()(x)\n",
    "x = MaxPooling2D(pool_size=(2, 2))(x)\n",
    "x = Dropout(0.2)(x)\n",
    "\n",
    "x = Conv2D(64, kernel_size=(3, 3), activation=\"relu\", padding=\"same\")(x)\n",
    "x = BatchNormalization()(x)\n",
    "x = MaxPooling2D(pool_size=(2, 2))(x)\n",
    "x = Dropout(0.2)(x)\n",
    "\n",
    "x = Flatten()(x)\n",
    "x = Dense(128, activation=\"relu\")(x)\n",
    "x = Dropout(0.2)(x)\n",
    "outputs = Dense(num_classes, activation=\"softmax\")(x)\n",
    "\n",
    "model = Model(inputs=inputs, outputs=outputs)\n",
    "model.compile(loss=\"categorical_crossentropy\", optimizer=optimizer, metrics=[\"accuracy\"])\n",
    "model.summary()"
   ]
  },
  {
   "cell_type": "code",
   "execution_count": null,
   "id": "a148de75",
   "metadata": {},
   "outputs": [],
   "source": [
    "callbacks = [\n",
    "    create_early_stopping_callback(),\n",
    "    create_model_checkpoint_callback(\"best_model_kernel3by3_augmentation.h5\"),\n",
    "    create_reduce_lr_callback()\n",
    "]"
   ]
  },
  {
   "cell_type": "code",
   "execution_count": null,
   "id": "853b5153",
   "metadata": {},
   "outputs": [],
   "source": [
    "history = model.fit(X_train_scaled, \n",
    "                    y_train_categorical, \n",
    "                    batch_size=32, \n",
    "                    epochs=50, \n",
    "                    validation_data=(X_val_scaled, y_val_categorical),\n",
    "                    callbacks=callbacks\n",
    "                    )"
   ]
  },
  {
   "cell_type": "code",
   "execution_count": null,
   "id": "aa3d4f1a",
   "metadata": {},
   "outputs": [],
   "source": [
    "emotion_classifier = EmotionClassifier(model, num_classes, class_labels, test)"
   ]
  },
  {
   "cell_type": "code",
   "execution_count": null,
   "id": "d8f6ef51",
   "metadata": {},
   "outputs": [],
   "source": [
    "emotion_classifier.predict_sample(X_test_scaled)"
   ]
  },
  {
   "cell_type": "code",
   "execution_count": null,
   "id": "671c2b37",
   "metadata": {},
   "outputs": [],
   "source": [
    "emotion_classifier.evaluate(X_test_scaled, y_test_categorical)"
   ]
  },
  {
   "cell_type": "code",
   "execution_count": null,
   "id": "6503d672",
   "metadata": {},
   "outputs": [],
   "source": [
    "emotion_classifier.plot_confusion_matrix(X_test_scaled, y_test_categorical, class_labels)"
   ]
  },
  {
   "cell_type": "code",
   "execution_count": null,
   "id": "ab79d917",
   "metadata": {},
   "outputs": [],
   "source": [
    "emotion_classifier.plot_metrics(history)"
   ]
  },
  {
   "cell_type": "markdown",
   "id": "0cce6ec3",
   "metadata": {},
   "source": [
    "## Transfer learning\n"
   ]
  },
  {
   "cell_type": "markdown",
   "id": "f9ba1dbc",
   "metadata": {},
   "source": [
    "### Creating and sorting images to training, validation, test directories and to the 7 unique classes. "
   ]
  },
  {
   "cell_type": "code",
   "execution_count": 8,
   "id": "3452934e",
   "metadata": {},
   "outputs": [],
   "source": [
    "# Modify the data directory name\n",
    "data_directory = 'spectrogram_images_96x64'    #   'spectrogram_images'\n",
    "\n",
    "train_dir = os.path.join(data_directory, 'train\\\\')\n",
    "val_dir = os.path.join(data_directory, 'validation\\\\')\n",
    "test_dir = os.path.join(data_directory, 'test\\\\')\n",
    "\n",
    "os.makedirs(train_dir, exist_ok=True)\n",
    "os.makedirs(val_dir, exist_ok=True)\n",
    "os.makedirs(test_dir, exist_ok=True)"
   ]
  },
  {
   "cell_type": "code",
   "execution_count": 9,
   "id": "b8b472b8",
   "metadata": {},
   "outputs": [],
   "source": [
    "# List all image files\n",
    "image_files = [f for f in os.listdir(data_directory) if f.endswith('.png')]\n",
    "\n",
    "# Shuffle the image files randomly\n",
    "random.shuffle(image_files)\n",
    "\n",
    "# Split ratio (adjust as needed)\n",
    "train_ratio = 0.7\n",
    "val_ratio = 0.15\n",
    "test_ratio = 0.15"
   ]
  },
  {
   "cell_type": "code",
   "execution_count": 10,
   "metadata": {},
   "outputs": [],
   "source": [
    "# Calculate the number of images for each split\n",
    "num_train = int(train_ratio * len(image_files))\n",
    "num_val = int(val_ratio * len(image_files))"
   ]
  },
  {
   "cell_type": "code",
   "execution_count": 11,
   "metadata": {},
   "outputs": [],
   "source": [
    "# Move images to the train directory\n",
    "for file in image_files[:num_train]:\n",
    "    src = os.path.join(data_directory, file)\n",
    "    dst = os.path.join(train_dir, file)\n",
    "    move(src, dst)"
   ]
  },
  {
   "cell_type": "code",
   "execution_count": 12,
   "id": "a091831d",
   "metadata": {},
   "outputs": [],
   "source": [
    "# Move images to the validation directory\n",
    "for file in image_files[num_train:num_train+num_val]:\n",
    "    src = os.path.join(data_directory, file)\n",
    "    dst = os.path.join(val_dir, file)\n",
    "    move(src, dst)"
   ]
  },
  {
   "cell_type": "code",
   "execution_count": 13,
   "id": "81ad3d48",
   "metadata": {},
   "outputs": [],
   "source": [
    "# Move images to the test directory\n",
    "for file in image_files[num_train+num_val:]:\n",
    "    src = os.path.join(data_directory, file)\n",
    "    dst = os.path.join(test_dir, file)\n",
    "    move(src, dst)"
   ]
  },
  {
   "cell_type": "code",
   "execution_count": 14,
   "id": "41c8d239",
   "metadata": {},
   "outputs": [],
   "source": [
    "# List of emotions\n",
    "emotions = [\"angry\", \"disgust\", \"fear\", \"happy\", \"neutral\", \"sad\", \"surprised\"]\n"
   ]
  },
  {
   "cell_type": "code",
   "execution_count": 15,
   "id": "710a488d",
   "metadata": {},
   "outputs": [],
   "source": [
    "# Create subdirectories for each emotion in the train and validation directories\n",
    "train_dir = os.path.join(data_directory, \"train\")\n",
    "val_dir = os.path.join(data_directory, \"validation\")\n",
    "test_dir = os.path.join(data_directory, \"test\")\n",
    "for emotion in emotions:\n",
    "    train_emotion_dir = os.path.join(train_dir, emotion)\n",
    "    val_emotion_dir = os.path.join(val_dir, emotion)\n",
    "    test_emotion_dir = os.path.join(test_dir, emotion)\n",
    "    os.makedirs(train_emotion_dir, exist_ok=True)\n",
    "    os.makedirs(val_emotion_dir, exist_ok=True)\n",
    "    os.makedirs(test_emotion_dir, exist_ok=True)"
   ]
  },
  {
   "cell_type": "code",
   "execution_count": 16,
   "id": "5de102e3",
   "metadata": {},
   "outputs": [],
   "source": [
    "def organize_images(directory, emotions):\n",
    "    for subdir in directory:\n",
    "        subdir_path = os.path.join(data_directory, subdir)\n",
    "        for emotion in emotions:\n",
    "            destination_dir = os.path.join(subdir_path, emotion)\n",
    "            os.makedirs(destination_dir, exist_ok=True)\n",
    "\n",
    "        search_pattern = os.path.join(subdir_path, '*.png')\n",
    "        image_files = glob.glob(search_pattern)\n",
    "\n",
    "        for image_path in image_files:\n",
    "            filename = os.path.basename(image_path)\n",
    "            emotion = filename.split('.')[0].split('_')[-1]\n",
    "            if emotion in emotions:\n",
    "                destination_dir = os.path.join(subdir_path, emotion)\n",
    "                shutil.move(image_path, destination_dir)\n",
    "\n",
    "\n",
    "organize_images(['train', 'validation', 'test'], emotions)"
   ]
  },
  {
   "cell_type": "code",
   "execution_count": null,
   "id": "e39819aa",
   "metadata": {},
   "outputs": [],
   "source": []
  },
  {
   "cell_type": "markdown",
   "id": "42799041",
   "metadata": {},
   "source": [
    "### Creating the data generation "
   ]
  },
  {
   "cell_type": "code",
   "execution_count": 171,
   "id": "f8a79147",
   "metadata": {},
   "outputs": [
    {
     "name": "stdout",
     "output_type": "stream",
     "text": [
      "Found 10705 images belonging to 7 classes.\n",
      "Found 2293 images belonging to 7 classes.\n"
     ]
    }
   ],
   "source": [
    "# Image data generator for training data\n",
    "train_datagen = ImageDataGenerator(rescale=1.0/255.0)\n",
    "train_generator = train_datagen.flow_from_directory(\n",
    "    train_dir,\n",
    "    target_size=(224, 224),\n",
    "    batch_size=32,\n",
    "    class_mode='categorical'\n",
    ")\n",
    "\n",
    "# Image data generator for validation data\n",
    "val_datagen = ImageDataGenerator(rescale=1.0/255.0)\n",
    "val_generator = val_datagen.flow_from_directory(\n",
    "    val_dir,\n",
    "    target_size=(224, 224),\n",
    "    batch_size=32,\n",
    "    class_mode='categorical'\n",
    ")"
   ]
  },
  {
   "cell_type": "code",
   "execution_count": 172,
   "id": "a84a00a2",
   "metadata": {},
   "outputs": [
    {
     "name": "stdout",
     "output_type": "stream",
     "text": [
      "Found 2295 images belonging to 7 classes.\n"
     ]
    }
   ],
   "source": [
    "# Image data generator for validation data\n",
    "test_datagen = ImageDataGenerator(rescale=1.0/255.0)\n",
    "test_generator = test_datagen.flow_from_directory(\n",
    "    test_dir,\n",
    "    target_size=(224, 224),\n",
    "    batch_size=32,\n",
    "    class_mode='categorical',\n",
    "    shuffle=False\n",
    ")"
   ]
  },
  {
   "cell_type": "markdown",
   "id": "fdce642a",
   "metadata": {},
   "source": [
    "### MobileNetV2 transfer learning"
   ]
  },
  {
   "cell_type": "code",
   "execution_count": 173,
   "id": "8194ba08",
   "metadata": {},
   "outputs": [],
   "source": [
    "def build_model(input_shape, num_classes):\n",
    "    base_model = MobileNetV2(input_shape=input_shape, include_top=False, weights='imagenet')\n",
    "\n",
    "    # Freeze the pre-trained layers\n",
    "    # fine_tune_layers = 2  # Choose the number of layers to fine-tune\n",
    "    for layer in base_model.layers:     #[:-fine_tune_layers]:\n",
    "        layer.trainable = False\n",
    "\n",
    "    x = base_model.output\n",
    "    x = Flatten()(x)\n",
    "    # x = GlobalAveragePooling2D()(x)\n",
    "    x = Dense(1024, activation='relu')(x)\n",
    "    x = Dropout(0.6)(x)\n",
    "    # x = Dense(512, activation='relu')(x)\n",
    "    # x = Dropout(0.3)(x)\n",
    "    outputs = Dense(num_classes, activation='softmax')(x)\n",
    "    model = Model(inputs=base_model.input, outputs=outputs)\n",
    "    return model\n",
    "\n",
    "def compile_model(model, learning_rate=0.001):\n",
    "    optimizer = Adam(learning_rate=learning_rate)\n",
    "    model.compile(optimizer=optimizer, loss='categorical_crossentropy', metrics=['accuracy'])\n",
    "\n",
    "input_shape = (224, 224, 3)  # Shape of your spectrogram images\n",
    "num_classes = 7  # Number of emotion classes"
   ]
  },
  {
   "cell_type": "code",
   "execution_count": 174,
   "id": "c62222f0",
   "metadata": {},
   "outputs": [],
   "source": [
    "callbacks = [\n",
    "    create_early_stopping_callback(),\n",
    "    create_model_checkpoint_callback(\"transferLearning_mobilenet_melspec.h5\"),\n",
    "    create_reduce_lr_callback()\n",
    "]"
   ]
  },
  {
   "cell_type": "code",
   "execution_count": 175,
   "id": "f0ed596a",
   "metadata": {},
   "outputs": [
    {
     "name": "stdout",
     "output_type": "stream",
     "text": [
      "Model: \"model_19\"\n",
      "__________________________________________________________________________________________________\n",
      " Layer (type)                Output Shape                 Param #   Connected to                  \n",
      "==================================================================================================\n",
      " input_41 (InputLayer)       [(None, 224, 224, 3)]        0         []                            \n",
      "                                                                                                  \n",
      " Conv1 (Conv2D)              (None, 112, 112, 32)         864       ['input_41[0][0]']            \n",
      "                                                                                                  \n",
      " bn_Conv1 (BatchNormalizati  (None, 112, 112, 32)         128       ['Conv1[0][0]']               \n",
      " on)                                                                                              \n",
      "                                                                                                  \n",
      " Conv1_relu (ReLU)           (None, 112, 112, 32)         0         ['bn_Conv1[0][0]']            \n",
      "                                                                                                  \n",
      " expanded_conv_depthwise (D  (None, 112, 112, 32)         288       ['Conv1_relu[0][0]']          \n",
      " epthwiseConv2D)                                                                                  \n",
      "                                                                                                  \n",
      " expanded_conv_depthwise_BN  (None, 112, 112, 32)         128       ['expanded_conv_depthwise[0][0\n",
      "  (BatchNormalization)                                              ]']                           \n",
      "                                                                                                  \n",
      " expanded_conv_depthwise_re  (None, 112, 112, 32)         0         ['expanded_conv_depthwise_BN[0\n",
      " lu (ReLU)                                                          ][0]']                        \n",
      "                                                                                                  \n",
      " expanded_conv_project (Con  (None, 112, 112, 16)         512       ['expanded_conv_depthwise_relu\n",
      " v2D)                                                               [0][0]']                      \n",
      "                                                                                                  \n",
      " expanded_conv_project_BN (  (None, 112, 112, 16)         64        ['expanded_conv_project[0][0]'\n",
      " BatchNormalization)                                                ]                             \n",
      "                                                                                                  \n",
      " block_1_expand (Conv2D)     (None, 112, 112, 96)         1536      ['expanded_conv_project_BN[0][\n",
      "                                                                    0]']                          \n",
      "                                                                                                  \n",
      " block_1_expand_BN (BatchNo  (None, 112, 112, 96)         384       ['block_1_expand[0][0]']      \n",
      " rmalization)                                                                                     \n",
      "                                                                                                  \n",
      " block_1_expand_relu (ReLU)  (None, 112, 112, 96)         0         ['block_1_expand_BN[0][0]']   \n",
      "                                                                                                  \n",
      " block_1_pad (ZeroPadding2D  (None, 113, 113, 96)         0         ['block_1_expand_relu[0][0]'] \n",
      " )                                                                                                \n",
      "                                                                                                  \n",
      " block_1_depthwise (Depthwi  (None, 56, 56, 96)           864       ['block_1_pad[0][0]']         \n",
      " seConv2D)                                                                                        \n",
      "                                                                                                  \n",
      " block_1_depthwise_BN (Batc  (None, 56, 56, 96)           384       ['block_1_depthwise[0][0]']   \n",
      " hNormalization)                                                                                  \n",
      "                                                                                                  \n",
      " block_1_depthwise_relu (Re  (None, 56, 56, 96)           0         ['block_1_depthwise_BN[0][0]']\n",
      " LU)                                                                                              \n",
      "                                                                                                  \n",
      " block_1_project (Conv2D)    (None, 56, 56, 24)           2304      ['block_1_depthwise_relu[0][0]\n",
      "                                                                    ']                            \n",
      "                                                                                                  \n",
      " block_1_project_BN (BatchN  (None, 56, 56, 24)           96        ['block_1_project[0][0]']     \n",
      " ormalization)                                                                                    \n",
      "                                                                                                  \n",
      " block_2_expand (Conv2D)     (None, 56, 56, 144)          3456      ['block_1_project_BN[0][0]']  \n",
      "                                                                                                  \n",
      " block_2_expand_BN (BatchNo  (None, 56, 56, 144)          576       ['block_2_expand[0][0]']      \n",
      " rmalization)                                                                                     \n",
      "                                                                                                  \n",
      " block_2_expand_relu (ReLU)  (None, 56, 56, 144)          0         ['block_2_expand_BN[0][0]']   \n",
      "                                                                                                  \n",
      " block_2_depthwise (Depthwi  (None, 56, 56, 144)          1296      ['block_2_expand_relu[0][0]'] \n",
      " seConv2D)                                                                                        \n",
      "                                                                                                  \n",
      " block_2_depthwise_BN (Batc  (None, 56, 56, 144)          576       ['block_2_depthwise[0][0]']   \n",
      " hNormalization)                                                                                  \n",
      "                                                                                                  \n",
      " block_2_depthwise_relu (Re  (None, 56, 56, 144)          0         ['block_2_depthwise_BN[0][0]']\n",
      " LU)                                                                                              \n",
      "                                                                                                  \n",
      " block_2_project (Conv2D)    (None, 56, 56, 24)           3456      ['block_2_depthwise_relu[0][0]\n",
      "                                                                    ']                            \n",
      "                                                                                                  \n",
      " block_2_project_BN (BatchN  (None, 56, 56, 24)           96        ['block_2_project[0][0]']     \n",
      " ormalization)                                                                                    \n",
      "                                                                                                  \n",
      " block_2_add (Add)           (None, 56, 56, 24)           0         ['block_1_project_BN[0][0]',  \n",
      "                                                                     'block_2_project_BN[0][0]']  \n",
      "                                                                                                  \n",
      " block_3_expand (Conv2D)     (None, 56, 56, 144)          3456      ['block_2_add[0][0]']         \n",
      "                                                                                                  \n",
      " block_3_expand_BN (BatchNo  (None, 56, 56, 144)          576       ['block_3_expand[0][0]']      \n",
      " rmalization)                                                                                     \n",
      "                                                                                                  \n",
      " block_3_expand_relu (ReLU)  (None, 56, 56, 144)          0         ['block_3_expand_BN[0][0]']   \n",
      "                                                                                                  \n",
      " block_3_pad (ZeroPadding2D  (None, 57, 57, 144)          0         ['block_3_expand_relu[0][0]'] \n",
      " )                                                                                                \n",
      "                                                                                                  \n",
      " block_3_depthwise (Depthwi  (None, 28, 28, 144)          1296      ['block_3_pad[0][0]']         \n",
      " seConv2D)                                                                                        \n",
      "                                                                                                  \n",
      " block_3_depthwise_BN (Batc  (None, 28, 28, 144)          576       ['block_3_depthwise[0][0]']   \n",
      " hNormalization)                                                                                  \n",
      "                                                                                                  \n",
      " block_3_depthwise_relu (Re  (None, 28, 28, 144)          0         ['block_3_depthwise_BN[0][0]']\n",
      " LU)                                                                                              \n",
      "                                                                                                  \n",
      " block_3_project (Conv2D)    (None, 28, 28, 32)           4608      ['block_3_depthwise_relu[0][0]\n",
      "                                                                    ']                            \n",
      "                                                                                                  \n",
      " block_3_project_BN (BatchN  (None, 28, 28, 32)           128       ['block_3_project[0][0]']     \n",
      " ormalization)                                                                                    \n",
      "                                                                                                  \n",
      " block_4_expand (Conv2D)     (None, 28, 28, 192)          6144      ['block_3_project_BN[0][0]']  \n",
      "                                                                                                  \n",
      " block_4_expand_BN (BatchNo  (None, 28, 28, 192)          768       ['block_4_expand[0][0]']      \n",
      " rmalization)                                                                                     \n",
      "                                                                                                  \n",
      " block_4_expand_relu (ReLU)  (None, 28, 28, 192)          0         ['block_4_expand_BN[0][0]']   \n",
      "                                                                                                  \n",
      " block_4_depthwise (Depthwi  (None, 28, 28, 192)          1728      ['block_4_expand_relu[0][0]'] \n",
      " seConv2D)                                                                                        \n",
      "                                                                                                  \n",
      " block_4_depthwise_BN (Batc  (None, 28, 28, 192)          768       ['block_4_depthwise[0][0]']   \n",
      " hNormalization)                                                                                  \n",
      "                                                                                                  \n",
      " block_4_depthwise_relu (Re  (None, 28, 28, 192)          0         ['block_4_depthwise_BN[0][0]']\n",
      " LU)                                                                                              \n",
      "                                                                                                  \n",
      " block_4_project (Conv2D)    (None, 28, 28, 32)           6144      ['block_4_depthwise_relu[0][0]\n",
      "                                                                    ']                            \n",
      "                                                                                                  \n",
      " block_4_project_BN (BatchN  (None, 28, 28, 32)           128       ['block_4_project[0][0]']     \n",
      " ormalization)                                                                                    \n",
      "                                                                                                  \n",
      " block_4_add (Add)           (None, 28, 28, 32)           0         ['block_3_project_BN[0][0]',  \n",
      "                                                                     'block_4_project_BN[0][0]']  \n",
      "                                                                                                  \n",
      " block_5_expand (Conv2D)     (None, 28, 28, 192)          6144      ['block_4_add[0][0]']         \n",
      "                                                                                                  \n",
      " block_5_expand_BN (BatchNo  (None, 28, 28, 192)          768       ['block_5_expand[0][0]']      \n",
      " rmalization)                                                                                     \n",
      "                                                                                                  \n",
      " block_5_expand_relu (ReLU)  (None, 28, 28, 192)          0         ['block_5_expand_BN[0][0]']   \n",
      "                                                                                                  \n",
      " block_5_depthwise (Depthwi  (None, 28, 28, 192)          1728      ['block_5_expand_relu[0][0]'] \n",
      " seConv2D)                                                                                        \n",
      "                                                                                                  \n",
      " block_5_depthwise_BN (Batc  (None, 28, 28, 192)          768       ['block_5_depthwise[0][0]']   \n",
      " hNormalization)                                                                                  \n",
      "                                                                                                  \n",
      " block_5_depthwise_relu (Re  (None, 28, 28, 192)          0         ['block_5_depthwise_BN[0][0]']\n",
      " LU)                                                                                              \n",
      "                                                                                                  \n",
      " block_5_project (Conv2D)    (None, 28, 28, 32)           6144      ['block_5_depthwise_relu[0][0]\n",
      "                                                                    ']                            \n",
      "                                                                                                  \n",
      " block_5_project_BN (BatchN  (None, 28, 28, 32)           128       ['block_5_project[0][0]']     \n",
      " ormalization)                                                                                    \n",
      "                                                                                                  \n",
      " block_5_add (Add)           (None, 28, 28, 32)           0         ['block_4_add[0][0]',         \n",
      "                                                                     'block_5_project_BN[0][0]']  \n",
      "                                                                                                  \n",
      " block_6_expand (Conv2D)     (None, 28, 28, 192)          6144      ['block_5_add[0][0]']         \n",
      "                                                                                                  \n",
      " block_6_expand_BN (BatchNo  (None, 28, 28, 192)          768       ['block_6_expand[0][0]']      \n",
      " rmalization)                                                                                     \n",
      "                                                                                                  \n",
      " block_6_expand_relu (ReLU)  (None, 28, 28, 192)          0         ['block_6_expand_BN[0][0]']   \n",
      "                                                                                                  \n",
      " block_6_pad (ZeroPadding2D  (None, 29, 29, 192)          0         ['block_6_expand_relu[0][0]'] \n",
      " )                                                                                                \n",
      "                                                                                                  \n",
      " block_6_depthwise (Depthwi  (None, 14, 14, 192)          1728      ['block_6_pad[0][0]']         \n",
      " seConv2D)                                                                                        \n",
      "                                                                                                  \n",
      " block_6_depthwise_BN (Batc  (None, 14, 14, 192)          768       ['block_6_depthwise[0][0]']   \n",
      " hNormalization)                                                                                  \n",
      "                                                                                                  \n",
      " block_6_depthwise_relu (Re  (None, 14, 14, 192)          0         ['block_6_depthwise_BN[0][0]']\n",
      " LU)                                                                                              \n",
      "                                                                                                  \n",
      " block_6_project (Conv2D)    (None, 14, 14, 64)           12288     ['block_6_depthwise_relu[0][0]\n",
      "                                                                    ']                            \n",
      "                                                                                                  \n",
      " block_6_project_BN (BatchN  (None, 14, 14, 64)           256       ['block_6_project[0][0]']     \n",
      " ormalization)                                                                                    \n",
      "                                                                                                  \n",
      " block_7_expand (Conv2D)     (None, 14, 14, 384)          24576     ['block_6_project_BN[0][0]']  \n",
      "                                                                                                  \n",
      " block_7_expand_BN (BatchNo  (None, 14, 14, 384)          1536      ['block_7_expand[0][0]']      \n",
      " rmalization)                                                                                     \n",
      "                                                                                                  \n",
      " block_7_expand_relu (ReLU)  (None, 14, 14, 384)          0         ['block_7_expand_BN[0][0]']   \n",
      "                                                                                                  \n",
      " block_7_depthwise (Depthwi  (None, 14, 14, 384)          3456      ['block_7_expand_relu[0][0]'] \n",
      " seConv2D)                                                                                        \n",
      "                                                                                                  \n",
      " block_7_depthwise_BN (Batc  (None, 14, 14, 384)          1536      ['block_7_depthwise[0][0]']   \n",
      " hNormalization)                                                                                  \n",
      "                                                                                                  \n",
      " block_7_depthwise_relu (Re  (None, 14, 14, 384)          0         ['block_7_depthwise_BN[0][0]']\n",
      " LU)                                                                                              \n",
      "                                                                                                  \n",
      " block_7_project (Conv2D)    (None, 14, 14, 64)           24576     ['block_7_depthwise_relu[0][0]\n",
      "                                                                    ']                            \n",
      "                                                                                                  \n",
      " block_7_project_BN (BatchN  (None, 14, 14, 64)           256       ['block_7_project[0][0]']     \n",
      " ormalization)                                                                                    \n",
      "                                                                                                  \n",
      " block_7_add (Add)           (None, 14, 14, 64)           0         ['block_6_project_BN[0][0]',  \n",
      "                                                                     'block_7_project_BN[0][0]']  \n",
      "                                                                                                  \n",
      " block_8_expand (Conv2D)     (None, 14, 14, 384)          24576     ['block_7_add[0][0]']         \n",
      "                                                                                                  \n",
      " block_8_expand_BN (BatchNo  (None, 14, 14, 384)          1536      ['block_8_expand[0][0]']      \n",
      " rmalization)                                                                                     \n",
      "                                                                                                  \n",
      " block_8_expand_relu (ReLU)  (None, 14, 14, 384)          0         ['block_8_expand_BN[0][0]']   \n",
      "                                                                                                  \n",
      " block_8_depthwise (Depthwi  (None, 14, 14, 384)          3456      ['block_8_expand_relu[0][0]'] \n",
      " seConv2D)                                                                                        \n",
      "                                                                                                  \n",
      " block_8_depthwise_BN (Batc  (None, 14, 14, 384)          1536      ['block_8_depthwise[0][0]']   \n",
      " hNormalization)                                                                                  \n",
      "                                                                                                  \n",
      " block_8_depthwise_relu (Re  (None, 14, 14, 384)          0         ['block_8_depthwise_BN[0][0]']\n",
      " LU)                                                                                              \n",
      "                                                                                                  \n",
      " block_8_project (Conv2D)    (None, 14, 14, 64)           24576     ['block_8_depthwise_relu[0][0]\n",
      "                                                                    ']                            \n",
      "                                                                                                  \n",
      " block_8_project_BN (BatchN  (None, 14, 14, 64)           256       ['block_8_project[0][0]']     \n",
      " ormalization)                                                                                    \n",
      "                                                                                                  \n",
      " block_8_add (Add)           (None, 14, 14, 64)           0         ['block_7_add[0][0]',         \n",
      "                                                                     'block_8_project_BN[0][0]']  \n",
      "                                                                                                  \n",
      " block_9_expand (Conv2D)     (None, 14, 14, 384)          24576     ['block_8_add[0][0]']         \n",
      "                                                                                                  \n",
      " block_9_expand_BN (BatchNo  (None, 14, 14, 384)          1536      ['block_9_expand[0][0]']      \n",
      " rmalization)                                                                                     \n",
      "                                                                                                  \n",
      " block_9_expand_relu (ReLU)  (None, 14, 14, 384)          0         ['block_9_expand_BN[0][0]']   \n",
      "                                                                                                  \n",
      " block_9_depthwise (Depthwi  (None, 14, 14, 384)          3456      ['block_9_expand_relu[0][0]'] \n",
      " seConv2D)                                                                                        \n",
      "                                                                                                  \n",
      " block_9_depthwise_BN (Batc  (None, 14, 14, 384)          1536      ['block_9_depthwise[0][0]']   \n",
      " hNormalization)                                                                                  \n",
      "                                                                                                  \n",
      " block_9_depthwise_relu (Re  (None, 14, 14, 384)          0         ['block_9_depthwise_BN[0][0]']\n",
      " LU)                                                                                              \n",
      "                                                                                                  \n",
      " block_9_project (Conv2D)    (None, 14, 14, 64)           24576     ['block_9_depthwise_relu[0][0]\n",
      "                                                                    ']                            \n",
      "                                                                                                  \n",
      " block_9_project_BN (BatchN  (None, 14, 14, 64)           256       ['block_9_project[0][0]']     \n",
      " ormalization)                                                                                    \n",
      "                                                                                                  \n",
      " block_9_add (Add)           (None, 14, 14, 64)           0         ['block_8_add[0][0]',         \n",
      "                                                                     'block_9_project_BN[0][0]']  \n",
      "                                                                                                  \n",
      " block_10_expand (Conv2D)    (None, 14, 14, 384)          24576     ['block_9_add[0][0]']         \n",
      "                                                                                                  \n",
      " block_10_expand_BN (BatchN  (None, 14, 14, 384)          1536      ['block_10_expand[0][0]']     \n",
      " ormalization)                                                                                    \n",
      "                                                                                                  \n",
      " block_10_expand_relu (ReLU  (None, 14, 14, 384)          0         ['block_10_expand_BN[0][0]']  \n",
      " )                                                                                                \n",
      "                                                                                                  \n",
      " block_10_depthwise (Depthw  (None, 14, 14, 384)          3456      ['block_10_expand_relu[0][0]']\n",
      " iseConv2D)                                                                                       \n",
      "                                                                                                  \n",
      " block_10_depthwise_BN (Bat  (None, 14, 14, 384)          1536      ['block_10_depthwise[0][0]']  \n",
      " chNormalization)                                                                                 \n",
      "                                                                                                  \n",
      " block_10_depthwise_relu (R  (None, 14, 14, 384)          0         ['block_10_depthwise_BN[0][0]'\n",
      " eLU)                                                               ]                             \n",
      "                                                                                                  \n",
      " block_10_project (Conv2D)   (None, 14, 14, 96)           36864     ['block_10_depthwise_relu[0][0\n",
      "                                                                    ]']                           \n",
      "                                                                                                  \n",
      " block_10_project_BN (Batch  (None, 14, 14, 96)           384       ['block_10_project[0][0]']    \n",
      " Normalization)                                                                                   \n",
      "                                                                                                  \n",
      " block_11_expand (Conv2D)    (None, 14, 14, 576)          55296     ['block_10_project_BN[0][0]'] \n",
      "                                                                                                  \n",
      " block_11_expand_BN (BatchN  (None, 14, 14, 576)          2304      ['block_11_expand[0][0]']     \n",
      " ormalization)                                                                                    \n",
      "                                                                                                  \n",
      " block_11_expand_relu (ReLU  (None, 14, 14, 576)          0         ['block_11_expand_BN[0][0]']  \n",
      " )                                                                                                \n",
      "                                                                                                  \n",
      " block_11_depthwise (Depthw  (None, 14, 14, 576)          5184      ['block_11_expand_relu[0][0]']\n",
      " iseConv2D)                                                                                       \n",
      "                                                                                                  \n",
      " block_11_depthwise_BN (Bat  (None, 14, 14, 576)          2304      ['block_11_depthwise[0][0]']  \n",
      " chNormalization)                                                                                 \n",
      "                                                                                                  \n",
      " block_11_depthwise_relu (R  (None, 14, 14, 576)          0         ['block_11_depthwise_BN[0][0]'\n",
      " eLU)                                                               ]                             \n",
      "                                                                                                  \n",
      " block_11_project (Conv2D)   (None, 14, 14, 96)           55296     ['block_11_depthwise_relu[0][0\n",
      "                                                                    ]']                           \n",
      "                                                                                                  \n",
      " block_11_project_BN (Batch  (None, 14, 14, 96)           384       ['block_11_project[0][0]']    \n",
      " Normalization)                                                                                   \n",
      "                                                                                                  \n",
      " block_11_add (Add)          (None, 14, 14, 96)           0         ['block_10_project_BN[0][0]', \n",
      "                                                                     'block_11_project_BN[0][0]'] \n",
      "                                                                                                  \n",
      " block_12_expand (Conv2D)    (None, 14, 14, 576)          55296     ['block_11_add[0][0]']        \n",
      "                                                                                                  \n",
      " block_12_expand_BN (BatchN  (None, 14, 14, 576)          2304      ['block_12_expand[0][0]']     \n",
      " ormalization)                                                                                    \n",
      "                                                                                                  \n",
      " block_12_expand_relu (ReLU  (None, 14, 14, 576)          0         ['block_12_expand_BN[0][0]']  \n",
      " )                                                                                                \n",
      "                                                                                                  \n",
      " block_12_depthwise (Depthw  (None, 14, 14, 576)          5184      ['block_12_expand_relu[0][0]']\n",
      " iseConv2D)                                                                                       \n",
      "                                                                                                  \n",
      " block_12_depthwise_BN (Bat  (None, 14, 14, 576)          2304      ['block_12_depthwise[0][0]']  \n",
      " chNormalization)                                                                                 \n",
      "                                                                                                  \n",
      " block_12_depthwise_relu (R  (None, 14, 14, 576)          0         ['block_12_depthwise_BN[0][0]'\n",
      " eLU)                                                               ]                             \n",
      "                                                                                                  \n",
      " block_12_project (Conv2D)   (None, 14, 14, 96)           55296     ['block_12_depthwise_relu[0][0\n",
      "                                                                    ]']                           \n",
      "                                                                                                  \n",
      " block_12_project_BN (Batch  (None, 14, 14, 96)           384       ['block_12_project[0][0]']    \n",
      " Normalization)                                                                                   \n",
      "                                                                                                  \n",
      " block_12_add (Add)          (None, 14, 14, 96)           0         ['block_11_add[0][0]',        \n",
      "                                                                     'block_12_project_BN[0][0]'] \n",
      "                                                                                                  \n",
      " block_13_expand (Conv2D)    (None, 14, 14, 576)          55296     ['block_12_add[0][0]']        \n",
      "                                                                                                  \n",
      " block_13_expand_BN (BatchN  (None, 14, 14, 576)          2304      ['block_13_expand[0][0]']     \n",
      " ormalization)                                                                                    \n",
      "                                                                                                  \n",
      " block_13_expand_relu (ReLU  (None, 14, 14, 576)          0         ['block_13_expand_BN[0][0]']  \n",
      " )                                                                                                \n",
      "                                                                                                  \n",
      " block_13_pad (ZeroPadding2  (None, 15, 15, 576)          0         ['block_13_expand_relu[0][0]']\n",
      " D)                                                                                               \n",
      "                                                                                                  \n",
      " block_13_depthwise (Depthw  (None, 7, 7, 576)            5184      ['block_13_pad[0][0]']        \n",
      " iseConv2D)                                                                                       \n",
      "                                                                                                  \n",
      " block_13_depthwise_BN (Bat  (None, 7, 7, 576)            2304      ['block_13_depthwise[0][0]']  \n",
      " chNormalization)                                                                                 \n",
      "                                                                                                  \n",
      " block_13_depthwise_relu (R  (None, 7, 7, 576)            0         ['block_13_depthwise_BN[0][0]'\n",
      " eLU)                                                               ]                             \n",
      "                                                                                                  \n",
      " block_13_project (Conv2D)   (None, 7, 7, 160)            92160     ['block_13_depthwise_relu[0][0\n",
      "                                                                    ]']                           \n",
      "                                                                                                  \n",
      " block_13_project_BN (Batch  (None, 7, 7, 160)            640       ['block_13_project[0][0]']    \n",
      " Normalization)                                                                                   \n",
      "                                                                                                  \n",
      " block_14_expand (Conv2D)    (None, 7, 7, 960)            153600    ['block_13_project_BN[0][0]'] \n",
      "                                                                                                  \n",
      " block_14_expand_BN (BatchN  (None, 7, 7, 960)            3840      ['block_14_expand[0][0]']     \n",
      " ormalization)                                                                                    \n",
      "                                                                                                  \n",
      " block_14_expand_relu (ReLU  (None, 7, 7, 960)            0         ['block_14_expand_BN[0][0]']  \n",
      " )                                                                                                \n",
      "                                                                                                  \n",
      " block_14_depthwise (Depthw  (None, 7, 7, 960)            8640      ['block_14_expand_relu[0][0]']\n",
      " iseConv2D)                                                                                       \n",
      "                                                                                                  \n",
      " block_14_depthwise_BN (Bat  (None, 7, 7, 960)            3840      ['block_14_depthwise[0][0]']  \n",
      " chNormalization)                                                                                 \n",
      "                                                                                                  \n",
      " block_14_depthwise_relu (R  (None, 7, 7, 960)            0         ['block_14_depthwise_BN[0][0]'\n",
      " eLU)                                                               ]                             \n",
      "                                                                                                  \n",
      " block_14_project (Conv2D)   (None, 7, 7, 160)            153600    ['block_14_depthwise_relu[0][0\n",
      "                                                                    ]']                           \n",
      "                                                                                                  \n",
      " block_14_project_BN (Batch  (None, 7, 7, 160)            640       ['block_14_project[0][0]']    \n",
      " Normalization)                                                                                   \n",
      "                                                                                                  \n",
      " block_14_add (Add)          (None, 7, 7, 160)            0         ['block_13_project_BN[0][0]', \n",
      "                                                                     'block_14_project_BN[0][0]'] \n",
      "                                                                                                  \n",
      " block_15_expand (Conv2D)    (None, 7, 7, 960)            153600    ['block_14_add[0][0]']        \n",
      "                                                                                                  \n",
      " block_15_expand_BN (BatchN  (None, 7, 7, 960)            3840      ['block_15_expand[0][0]']     \n",
      " ormalization)                                                                                    \n",
      "                                                                                                  \n",
      " block_15_expand_relu (ReLU  (None, 7, 7, 960)            0         ['block_15_expand_BN[0][0]']  \n",
      " )                                                                                                \n",
      "                                                                                                  \n",
      " block_15_depthwise (Depthw  (None, 7, 7, 960)            8640      ['block_15_expand_relu[0][0]']\n",
      " iseConv2D)                                                                                       \n",
      "                                                                                                  \n",
      " block_15_depthwise_BN (Bat  (None, 7, 7, 960)            3840      ['block_15_depthwise[0][0]']  \n",
      " chNormalization)                                                                                 \n",
      "                                                                                                  \n",
      " block_15_depthwise_relu (R  (None, 7, 7, 960)            0         ['block_15_depthwise_BN[0][0]'\n",
      " eLU)                                                               ]                             \n",
      "                                                                                                  \n",
      " block_15_project (Conv2D)   (None, 7, 7, 160)            153600    ['block_15_depthwise_relu[0][0\n",
      "                                                                    ]']                           \n",
      "                                                                                                  \n",
      " block_15_project_BN (Batch  (None, 7, 7, 160)            640       ['block_15_project[0][0]']    \n",
      " Normalization)                                                                                   \n",
      "                                                                                                  \n",
      " block_15_add (Add)          (None, 7, 7, 160)            0         ['block_14_add[0][0]',        \n",
      "                                                                     'block_15_project_BN[0][0]'] \n",
      "                                                                                                  \n",
      " block_16_expand (Conv2D)    (None, 7, 7, 960)            153600    ['block_15_add[0][0]']        \n",
      "                                                                                                  \n",
      " block_16_expand_BN (BatchN  (None, 7, 7, 960)            3840      ['block_16_expand[0][0]']     \n",
      " ormalization)                                                                                    \n",
      "                                                                                                  \n",
      " block_16_expand_relu (ReLU  (None, 7, 7, 960)            0         ['block_16_expand_BN[0][0]']  \n",
      " )                                                                                                \n",
      "                                                                                                  \n",
      " block_16_depthwise (Depthw  (None, 7, 7, 960)            8640      ['block_16_expand_relu[0][0]']\n",
      " iseConv2D)                                                                                       \n",
      "                                                                                                  \n",
      " block_16_depthwise_BN (Bat  (None, 7, 7, 960)            3840      ['block_16_depthwise[0][0]']  \n",
      " chNormalization)                                                                                 \n",
      "                                                                                                  \n",
      " block_16_depthwise_relu (R  (None, 7, 7, 960)            0         ['block_16_depthwise_BN[0][0]'\n",
      " eLU)                                                               ]                             \n",
      "                                                                                                  \n",
      " block_16_project (Conv2D)   (None, 7, 7, 320)            307200    ['block_16_depthwise_relu[0][0\n",
      "                                                                    ]']                           \n",
      "                                                                                                  \n",
      " block_16_project_BN (Batch  (None, 7, 7, 320)            1280      ['block_16_project[0][0]']    \n",
      " Normalization)                                                                                   \n",
      "                                                                                                  \n",
      " Conv_1 (Conv2D)             (None, 7, 7, 1280)           409600    ['block_16_project_BN[0][0]'] \n",
      "                                                                                                  \n",
      " Conv_1_bn (BatchNormalizat  (None, 7, 7, 1280)           5120      ['Conv_1[0][0]']              \n",
      " ion)                                                                                             \n",
      "                                                                                                  \n",
      " out_relu (ReLU)             (None, 7, 7, 1280)           0         ['Conv_1_bn[0][0]']           \n",
      "                                                                                                  \n",
      " flatten_11 (Flatten)        (None, 62720)                0         ['out_relu[0][0]']            \n",
      "                                                                                                  \n",
      " dense_42 (Dense)            (None, 1024)                 6422630   ['flatten_11[0][0]']          \n",
      "                                                          4                                       \n",
      "                                                                                                  \n",
      " dropout_15 (Dropout)        (None, 1024)                 0         ['dense_42[0][0]']            \n",
      "                                                                                                  \n",
      " dense_43 (Dense)            (None, 7)                    7175      ['dropout_15[0][0]']          \n",
      "                                                                                                  \n",
      "==================================================================================================\n",
      "Total params: 66491463 (253.64 MB)\n",
      "Trainable params: 64233479 (245.03 MB)\n",
      "Non-trainable params: 2257984 (8.61 MB)\n",
      "__________________________________________________________________________________________________\n"
     ]
    }
   ],
   "source": [
    "# Build and compile the model\n",
    "model = build_model(input_shape, num_classes)\n",
    "compile_model(model)\n",
    "model.summary()\n",
    "\n"
   ]
  },
  {
   "cell_type": "code",
   "execution_count": null,
   "id": "fa77680f",
   "metadata": {},
   "outputs": [],
   "source": []
  },
  {
   "cell_type": "code",
   "execution_count": 176,
   "id": "51c9dd16",
   "metadata": {},
   "outputs": [
    {
     "name": "stdout",
     "output_type": "stream",
     "text": [
      "Epoch 1/30\n",
      "335/335 [==============================] - 796s 2s/step - loss: 5.4208 - accuracy: 0.3538 - val_loss: 1.2522 - val_accuracy: 0.4741 - lr: 0.0010\n",
      "Epoch 2/30\n",
      "335/335 [==============================] - 776s 2s/step - loss: 1.4510 - accuracy: 0.4062 - val_loss: 1.1939 - val_accuracy: 0.5111 - lr: 0.0010\n",
      "Epoch 3/30\n",
      "335/335 [==============================] - 751s 2s/step - loss: 1.3922 - accuracy: 0.4280 - val_loss: 1.1754 - val_accuracy: 0.5150 - lr: 0.0010\n",
      "Epoch 4/30\n",
      "335/335 [==============================] - 703s 2s/step - loss: 1.3546 - accuracy: 0.4457 - val_loss: 1.1458 - val_accuracy: 0.5312 - lr: 0.0010\n",
      "Epoch 5/30\n",
      "335/335 [==============================] - 641s 2s/step - loss: 1.3388 - accuracy: 0.4459 - val_loss: 1.1912 - val_accuracy: 0.5294 - lr: 0.0010\n",
      "Epoch 6/30\n",
      "335/335 [==============================] - 646s 2s/step - loss: 1.3201 - accuracy: 0.4523 - val_loss: 1.1898 - val_accuracy: 0.5325 - lr: 0.0010\n",
      "Epoch 7/30\n",
      "188/335 [===============>..............] - ETA: 4:14 - loss: 1.3046 - accuracy: 0.4556"
     ]
    }
   ],
   "source": [
    "# Train the model using the data generator\n",
    "history = model.fit(train_generator, validation_data=val_generator, batch_size=32, callbacks=callbacks, epochs=30, shuffle=True)"
   ]
  },
  {
   "cell_type": "code",
   "execution_count": null,
   "id": "bdf18964",
   "metadata": {},
   "outputs": [
    {
     "ename": "KeyboardInterrupt",
     "evalue": "",
     "output_type": "error",
     "traceback": [
      "\u001b[1;31m---------------------------------------------------------------------------\u001b[0m",
      "\u001b[1;31mKeyboardInterrupt\u001b[0m                         Traceback (most recent call last)",
      "Cell \u001b[1;32mIn[81], line 1\u001b[0m\n\u001b[1;32m----> 1\u001b[0m model\u001b[39m.\u001b[39;49msave(\u001b[39m'\u001b[39;49m\u001b[39msaved_model\u001b[39;49m\u001b[39m'\u001b[39;49m)\n",
      "File \u001b[1;32m~\\AppData\\Roaming\\Python\\Python311\\site-packages\\keras\\src\\utils\\traceback_utils.py:65\u001b[0m, in \u001b[0;36mfilter_traceback.<locals>.error_handler\u001b[1;34m(*args, **kwargs)\u001b[0m\n\u001b[0;32m     63\u001b[0m filtered_tb \u001b[39m=\u001b[39m \u001b[39mNone\u001b[39;00m\n\u001b[0;32m     64\u001b[0m \u001b[39mtry\u001b[39;00m:\n\u001b[1;32m---> 65\u001b[0m     \u001b[39mreturn\u001b[39;00m fn(\u001b[39m*\u001b[39;49margs, \u001b[39m*\u001b[39;49m\u001b[39m*\u001b[39;49mkwargs)\n\u001b[0;32m     66\u001b[0m \u001b[39mexcept\u001b[39;00m \u001b[39mException\u001b[39;00m \u001b[39mas\u001b[39;00m e:\n\u001b[0;32m     67\u001b[0m     filtered_tb \u001b[39m=\u001b[39m _process_traceback_frames(e\u001b[39m.\u001b[39m__traceback__)\n",
      "File \u001b[1;32m~\\AppData\\Roaming\\Python\\Python311\\site-packages\\keras\\src\\engine\\training.py:3000\u001b[0m, in \u001b[0;36mModel.save\u001b[1;34m(self, filepath, overwrite, save_format, **kwargs)\u001b[0m\n\u001b[0;32m   2946\u001b[0m \u001b[39m@traceback_utils\u001b[39m\u001b[39m.\u001b[39mfilter_traceback\n\u001b[0;32m   2947\u001b[0m \u001b[39mdef\u001b[39;00m \u001b[39msave\u001b[39m(\u001b[39mself\u001b[39m, filepath, overwrite\u001b[39m=\u001b[39m\u001b[39mTrue\u001b[39;00m, save_format\u001b[39m=\u001b[39m\u001b[39mNone\u001b[39;00m, \u001b[39m*\u001b[39m\u001b[39m*\u001b[39mkwargs):\n\u001b[0;32m   2948\u001b[0m \u001b[39m    \u001b[39m\u001b[39m\"\"\"Saves a model as a TensorFlow SavedModel or HDF5 file.\u001b[39;00m\n\u001b[0;32m   2949\u001b[0m \n\u001b[0;32m   2950\u001b[0m \u001b[39m    See the [Serialization and Saving guide](\u001b[39;00m\n\u001b[1;32m   (...)\u001b[0m\n\u001b[0;32m   2998\u001b[0m \u001b[39m    Note that `model.save()` is an alias for `tf.keras.models.save_model()`.\u001b[39;00m\n\u001b[0;32m   2999\u001b[0m \u001b[39m    \"\"\"\u001b[39;00m\n\u001b[1;32m-> 3000\u001b[0m     saving_api\u001b[39m.\u001b[39;49msave_model(\n\u001b[0;32m   3001\u001b[0m         \u001b[39mself\u001b[39;49m,\n\u001b[0;32m   3002\u001b[0m         filepath\u001b[39m=\u001b[39;49mfilepath,\n\u001b[0;32m   3003\u001b[0m         overwrite\u001b[39m=\u001b[39;49moverwrite,\n\u001b[0;32m   3004\u001b[0m         save_format\u001b[39m=\u001b[39;49msave_format,\n\u001b[0;32m   3005\u001b[0m         \u001b[39m*\u001b[39;49m\u001b[39m*\u001b[39;49mkwargs,\n\u001b[0;32m   3006\u001b[0m     )\n",
      "File \u001b[1;32m~\\AppData\\Roaming\\Python\\Python311\\site-packages\\keras\\src\\saving\\saving_api.py:149\u001b[0m, in \u001b[0;36msave_model\u001b[1;34m(model, filepath, overwrite, save_format, **kwargs)\u001b[0m\n\u001b[0;32m    146\u001b[0m     saving_lib\u001b[39m.\u001b[39msave_model(model, filepath)\n\u001b[0;32m    147\u001b[0m \u001b[39melse\u001b[39;00m:\n\u001b[0;32m    148\u001b[0m     \u001b[39m# Legacy case\u001b[39;00m\n\u001b[1;32m--> 149\u001b[0m     \u001b[39mreturn\u001b[39;00m legacy_sm_saving_lib\u001b[39m.\u001b[39;49msave_model(\n\u001b[0;32m    150\u001b[0m         model,\n\u001b[0;32m    151\u001b[0m         filepath,\n\u001b[0;32m    152\u001b[0m         overwrite\u001b[39m=\u001b[39;49moverwrite,\n\u001b[0;32m    153\u001b[0m         save_format\u001b[39m=\u001b[39;49msave_format,\n\u001b[0;32m    154\u001b[0m         \u001b[39m*\u001b[39;49m\u001b[39m*\u001b[39;49mkwargs,\n\u001b[0;32m    155\u001b[0m     )\n",
      "File \u001b[1;32m~\\AppData\\Roaming\\Python\\Python311\\site-packages\\keras\\src\\utils\\traceback_utils.py:65\u001b[0m, in \u001b[0;36mfilter_traceback.<locals>.error_handler\u001b[1;34m(*args, **kwargs)\u001b[0m\n\u001b[0;32m     63\u001b[0m filtered_tb \u001b[39m=\u001b[39m \u001b[39mNone\u001b[39;00m\n\u001b[0;32m     64\u001b[0m \u001b[39mtry\u001b[39;00m:\n\u001b[1;32m---> 65\u001b[0m     \u001b[39mreturn\u001b[39;00m fn(\u001b[39m*\u001b[39;49margs, \u001b[39m*\u001b[39;49m\u001b[39m*\u001b[39;49mkwargs)\n\u001b[0;32m     66\u001b[0m \u001b[39mexcept\u001b[39;00m \u001b[39mException\u001b[39;00m \u001b[39mas\u001b[39;00m e:\n\u001b[0;32m     67\u001b[0m     filtered_tb \u001b[39m=\u001b[39m _process_traceback_frames(e\u001b[39m.\u001b[39m__traceback__)\n",
      "File \u001b[1;32m~\\AppData\\Roaming\\Python\\Python311\\site-packages\\keras\\src\\saving\\legacy\\save.py:168\u001b[0m, in \u001b[0;36msave_model\u001b[1;34m(model, filepath, overwrite, include_optimizer, save_format, signatures, options, save_traces)\u001b[0m\n\u001b[0;32m    164\u001b[0m \u001b[39mwith\u001b[39;00m serialization\u001b[39m.\u001b[39mSharedObjectSavingScope():\n\u001b[0;32m    165\u001b[0m     \u001b[39mwith\u001b[39;00m keras_option_scope(\n\u001b[0;32m    166\u001b[0m         save_traces\u001b[39m=\u001b[39msave_traces, in_tf_saved_model_scope\u001b[39m=\u001b[39m\u001b[39mTrue\u001b[39;00m\n\u001b[0;32m    167\u001b[0m     ):\n\u001b[1;32m--> 168\u001b[0m         saved_model_save\u001b[39m.\u001b[39;49msave(\n\u001b[0;32m    169\u001b[0m             model,\n\u001b[0;32m    170\u001b[0m             filepath,\n\u001b[0;32m    171\u001b[0m             overwrite,\n\u001b[0;32m    172\u001b[0m             include_optimizer,\n\u001b[0;32m    173\u001b[0m             signatures,\n\u001b[0;32m    174\u001b[0m             options,\n\u001b[0;32m    175\u001b[0m             save_traces,\n\u001b[0;32m    176\u001b[0m         )\n",
      "File \u001b[1;32m~\\AppData\\Roaming\\Python\\Python311\\site-packages\\keras\\src\\saving\\legacy\\saved_model\\save.py:98\u001b[0m, in \u001b[0;36msave\u001b[1;34m(model, filepath, overwrite, include_optimizer, signatures, options, save_traces)\u001b[0m\n\u001b[0;32m     96\u001b[0m \u001b[39mwith\u001b[39;00m backend\u001b[39m.\u001b[39mdeprecated_internal_learning_phase_scope(\u001b[39m0\u001b[39m):\n\u001b[0;32m     97\u001b[0m     \u001b[39mwith\u001b[39;00m utils\u001b[39m.\u001b[39mkeras_option_scope(save_traces):\n\u001b[1;32m---> 98\u001b[0m         saved_nodes, node_paths \u001b[39m=\u001b[39m save_lib\u001b[39m.\u001b[39;49msave_and_return_nodes(\n\u001b[0;32m     99\u001b[0m             model, filepath, signatures, options\n\u001b[0;32m    100\u001b[0m         )\n\u001b[0;32m    102\u001b[0m     \u001b[39m# Save all metadata to a separate file in the SavedModel directory.\u001b[39;00m\n\u001b[0;32m    103\u001b[0m     metadata \u001b[39m=\u001b[39m generate_keras_metadata(saved_nodes, node_paths)\n",
      "File \u001b[1;32m~\\AppData\\Roaming\\Python\\Python311\\site-packages\\tensorflow\\python\\saved_model\\save.py:1313\u001b[0m, in \u001b[0;36msave_and_return_nodes\u001b[1;34m(obj, export_dir, signatures, options, experimental_skip_checkpoint)\u001b[0m\n\u001b[0;32m   1309\u001b[0m saved_model \u001b[39m=\u001b[39m saved_model_pb2\u001b[39m.\u001b[39mSavedModel()\n\u001b[0;32m   1310\u001b[0m meta_graph_def \u001b[39m=\u001b[39m saved_model\u001b[39m.\u001b[39mmeta_graphs\u001b[39m.\u001b[39madd()\n\u001b[0;32m   1312\u001b[0m _, exported_graph, object_saver, asset_info, saved_nodes, node_paths \u001b[39m=\u001b[39m (\n\u001b[1;32m-> 1313\u001b[0m     _build_meta_graph(obj, signatures, options, meta_graph_def))\n\u001b[0;32m   1314\u001b[0m saved_model\u001b[39m.\u001b[39msaved_model_schema_version \u001b[39m=\u001b[39m (\n\u001b[0;32m   1315\u001b[0m     constants\u001b[39m.\u001b[39mSAVED_MODEL_SCHEMA_VERSION)\n\u001b[0;32m   1317\u001b[0m \u001b[39m# Write the checkpoint, copy assets into the assets directory, and write out\u001b[39;00m\n\u001b[0;32m   1318\u001b[0m \u001b[39m# the SavedModel proto itself.\u001b[39;00m\n",
      "File \u001b[1;32m~\\AppData\\Roaming\\Python\\Python311\\site-packages\\tensorflow\\python\\saved_model\\save.py:1493\u001b[0m, in \u001b[0;36m_build_meta_graph\u001b[1;34m(obj, signatures, options, meta_graph_def)\u001b[0m\n\u001b[0;32m   1466\u001b[0m \u001b[39m\u001b[39m\u001b[39m\"\"\"Creates a MetaGraph under a save context.\u001b[39;00m\n\u001b[0;32m   1467\u001b[0m \n\u001b[0;32m   1468\u001b[0m \u001b[39mArgs:\u001b[39;00m\n\u001b[1;32m   (...)\u001b[0m\n\u001b[0;32m   1489\u001b[0m \u001b[39m  saveable_view.node_paths: _SaveableView paths.\u001b[39;00m\n\u001b[0;32m   1490\u001b[0m \u001b[39m\"\"\"\u001b[39;00m\n\u001b[0;32m   1492\u001b[0m \u001b[39mwith\u001b[39;00m save_context\u001b[39m.\u001b[39msave_context(options):\n\u001b[1;32m-> 1493\u001b[0m   \u001b[39mreturn\u001b[39;00m _build_meta_graph_impl(obj, signatures, options, meta_graph_def)\n",
      "File \u001b[1;32m~\\AppData\\Roaming\\Python\\Python311\\site-packages\\tensorflow\\python\\saved_model\\save.py:1424\u001b[0m, in \u001b[0;36m_build_meta_graph_impl\u001b[1;34m(obj, signatures, options, meta_graph_def)\u001b[0m\n\u001b[0;32m   1422\u001b[0m augmented_graph_view \u001b[39m=\u001b[39m _AugmentedGraphView(obj)\n\u001b[0;32m   1423\u001b[0m \u001b[39mif\u001b[39;00m signatures \u001b[39mis\u001b[39;00m \u001b[39mNone\u001b[39;00m:\n\u001b[1;32m-> 1424\u001b[0m   signatures \u001b[39m=\u001b[39m signature_serialization\u001b[39m.\u001b[39;49mfind_function_to_export(\n\u001b[0;32m   1425\u001b[0m       augmented_graph_view)\n\u001b[0;32m   1427\u001b[0m signatures, wrapped_functions, defaults \u001b[39m=\u001b[39m (\n\u001b[0;32m   1428\u001b[0m     signature_serialization\u001b[39m.\u001b[39mcanonicalize_signatures(signatures)\n\u001b[0;32m   1429\u001b[0m )\n\u001b[0;32m   1430\u001b[0m signature_serialization\u001b[39m.\u001b[39mvalidate_augmented_graph_view(augmented_graph_view)\n",
      "File \u001b[1;32m~\\AppData\\Roaming\\Python\\Python311\\site-packages\\tensorflow\\python\\saved_model\\signature_serialization.py:104\u001b[0m, in \u001b[0;36mfind_function_to_export\u001b[1;34m(saveable_view)\u001b[0m\n\u001b[0;32m    100\u001b[0m \u001b[39m# TODO(b/205014194): Discuss removing this behaviour. It can lead to WTFs when\u001b[39;00m\n\u001b[0;32m    101\u001b[0m \u001b[39m# a user decides to annotate more functions with tf.function and suddenly\u001b[39;00m\n\u001b[0;32m    102\u001b[0m \u001b[39m# serving that model way later in the process stops working.\u001b[39;00m\n\u001b[0;32m    103\u001b[0m possible_signatures \u001b[39m=\u001b[39m []\n\u001b[1;32m--> 104\u001b[0m \u001b[39mfor\u001b[39;00m name, child \u001b[39min\u001b[39;00m children:\n\u001b[0;32m    105\u001b[0m   \u001b[39mif\u001b[39;00m \u001b[39mnot\u001b[39;00m \u001b[39misinstance\u001b[39m(child, (def_function\u001b[39m.\u001b[39mFunction, defun\u001b[39m.\u001b[39mConcreteFunction)):\n\u001b[0;32m    106\u001b[0m     \u001b[39mcontinue\u001b[39;00m\n",
      "File \u001b[1;32m~\\AppData\\Roaming\\Python\\Python311\\site-packages\\tensorflow\\python\\saved_model\\save.py:180\u001b[0m, in \u001b[0;36m_AugmentedGraphView.list_children\u001b[1;34m(self, obj)\u001b[0m\n\u001b[0;32m    177\u001b[0m \u001b[39mif\u001b[39;00m obj \u001b[39mnot\u001b[39;00m \u001b[39min\u001b[39;00m \u001b[39mself\u001b[39m\u001b[39m.\u001b[39m_children_cache:\n\u001b[0;32m    178\u001b[0m   children \u001b[39m=\u001b[39m \u001b[39mself\u001b[39m\u001b[39m.\u001b[39m_children_cache[obj] \u001b[39m=\u001b[39m {}\n\u001b[1;32m--> 180\u001b[0m   \u001b[39mfor\u001b[39;00m name, child \u001b[39min\u001b[39;00m \u001b[39msuper\u001b[39;49m(_AugmentedGraphView, \u001b[39mself\u001b[39;49m)\u001b[39m.\u001b[39;49mlist_children(\n\u001b[0;32m    181\u001b[0m       obj,\n\u001b[0;32m    182\u001b[0m       save_type\u001b[39m=\u001b[39;49mbase\u001b[39m.\u001b[39;49mSaveType\u001b[39m.\u001b[39;49mSAVEDMODEL,\n\u001b[0;32m    183\u001b[0m       cache\u001b[39m=\u001b[39;49m\u001b[39mself\u001b[39;49m\u001b[39m.\u001b[39;49m_serialization_cache):\n\u001b[0;32m    184\u001b[0m     \u001b[39mif\u001b[39;00m \u001b[39misinstance\u001b[39m(child, defun\u001b[39m.\u001b[39mConcreteFunction):\n\u001b[0;32m    185\u001b[0m       child \u001b[39m=\u001b[39m \u001b[39mself\u001b[39m\u001b[39m.\u001b[39m_maybe_uncache_variable_captures(child)\n",
      "File \u001b[1;32m~\\AppData\\Roaming\\Python\\Python311\\site-packages\\tensorflow\\python\\checkpoint\\graph_view.py:75\u001b[0m, in \u001b[0;36mObjectGraphView.list_children\u001b[1;34m(self, obj, save_type, **kwargs)\u001b[0m\n\u001b[0;32m     64\u001b[0m \u001b[39m\u001b[39m\u001b[39m\"\"\"Returns list of all child trackables attached to obj.\u001b[39;00m\n\u001b[0;32m     65\u001b[0m \n\u001b[0;32m     66\u001b[0m \u001b[39mArgs:\u001b[39;00m\n\u001b[1;32m   (...)\u001b[0m\n\u001b[0;32m     72\u001b[0m \u001b[39m  List of all children attached to the object.\u001b[39;00m\n\u001b[0;32m     73\u001b[0m \u001b[39m\"\"\"\u001b[39;00m\n\u001b[0;32m     74\u001b[0m children \u001b[39m=\u001b[39m []\n\u001b[1;32m---> 75\u001b[0m \u001b[39mfor\u001b[39;00m name, ref \u001b[39min\u001b[39;00m \u001b[39msuper\u001b[39;49m(ObjectGraphView,\n\u001b[0;32m     76\u001b[0m                        \u001b[39mself\u001b[39;49m)\u001b[39m.\u001b[39;49mchildren(obj, save_type, \u001b[39m*\u001b[39;49m\u001b[39m*\u001b[39;49mkwargs)\u001b[39m.\u001b[39mitems():\n\u001b[0;32m     77\u001b[0m   children\u001b[39m.\u001b[39mappend(base\u001b[39m.\u001b[39mTrackableReference(name, ref))\n\u001b[0;32m     79\u001b[0m \u001b[39m# GraphView objects may define children of the root object that are not\u001b[39;00m\n\u001b[0;32m     80\u001b[0m \u001b[39m# actually attached, e.g. a Checkpoint object's save_counter.\u001b[39;00m\n",
      "File \u001b[1;32m~\\AppData\\Roaming\\Python\\Python311\\site-packages\\tensorflow\\python\\checkpoint\\trackable_view.py:84\u001b[0m, in \u001b[0;36mTrackableView.children\u001b[1;34m(cls, obj, save_type, **kwargs)\u001b[0m\n\u001b[0;32m     82\u001b[0m obj\u001b[39m.\u001b[39m_maybe_initialize_trackable()\n\u001b[0;32m     83\u001b[0m children \u001b[39m=\u001b[39m {}\n\u001b[1;32m---> 84\u001b[0m \u001b[39mfor\u001b[39;00m name, ref \u001b[39min\u001b[39;00m obj\u001b[39m.\u001b[39;49m_trackable_children(save_type, \u001b[39m*\u001b[39;49m\u001b[39m*\u001b[39;49mkwargs)\u001b[39m.\u001b[39mitems():\n\u001b[0;32m     85\u001b[0m   ref \u001b[39m=\u001b[39m converter\u001b[39m.\u001b[39mconvert_to_trackable(ref, parent\u001b[39m=\u001b[39mobj)\n\u001b[0;32m     86\u001b[0m   children[name] \u001b[39m=\u001b[39m ref\n",
      "File \u001b[1;32m~\\AppData\\Roaming\\Python\\Python311\\site-packages\\keras\\src\\engine\\functional.py:461\u001b[0m, in \u001b[0;36mFunctional._trackable_children\u001b[1;34m(self, save_type, **kwargs)\u001b[0m\n\u001b[0;32m    459\u001b[0m \u001b[39mdef\u001b[39;00m \u001b[39m_trackable_children\u001b[39m(\u001b[39mself\u001b[39m, save_type\u001b[39m=\u001b[39m\u001b[39m\"\u001b[39m\u001b[39mcheckpoint\u001b[39m\u001b[39m\"\u001b[39m, \u001b[39m*\u001b[39m\u001b[39m*\u001b[39mkwargs):\n\u001b[0;32m    460\u001b[0m     dependencies \u001b[39m=\u001b[39m \u001b[39mself\u001b[39m\u001b[39m.\u001b[39m_layer_checkpoint_dependencies\n\u001b[1;32m--> 461\u001b[0m     dependencies\u001b[39m.\u001b[39mupdate(\u001b[39msuper\u001b[39;49m()\u001b[39m.\u001b[39;49m_trackable_children(save_type, \u001b[39m*\u001b[39;49m\u001b[39m*\u001b[39;49mkwargs))\n\u001b[0;32m    462\u001b[0m     \u001b[39mreturn\u001b[39;00m dependencies\n",
      "File \u001b[1;32m~\\AppData\\Roaming\\Python\\Python311\\site-packages\\keras\\src\\engine\\training.py:3923\u001b[0m, in \u001b[0;36mModel._trackable_children\u001b[1;34m(self, save_type, **kwargs)\u001b[0m\n\u001b[0;32m   3920\u001b[0m     \u001b[39mself\u001b[39m\u001b[39m.\u001b[39mpredict_function \u001b[39m=\u001b[39m \u001b[39mNone\u001b[39;00m\n\u001b[0;32m   3921\u001b[0m     \u001b[39mself\u001b[39m\u001b[39m.\u001b[39mtrain_tf_function \u001b[39m=\u001b[39m \u001b[39mNone\u001b[39;00m\n\u001b[1;32m-> 3923\u001b[0m children \u001b[39m=\u001b[39m \u001b[39msuper\u001b[39;49m()\u001b[39m.\u001b[39;49m_trackable_children(save_type, \u001b[39m*\u001b[39;49m\u001b[39m*\u001b[39;49mkwargs)\n\u001b[0;32m   3925\u001b[0m \u001b[39mif\u001b[39;00m save_type \u001b[39m==\u001b[39m \u001b[39m\"\u001b[39m\u001b[39msavedmodel\u001b[39m\u001b[39m\"\u001b[39m:\n\u001b[0;32m   3926\u001b[0m     \u001b[39mself\u001b[39m\u001b[39m.\u001b[39mtrain_function \u001b[39m=\u001b[39m train_function\n",
      "File \u001b[1;32m~\\AppData\\Roaming\\Python\\Python311\\site-packages\\keras\\src\\engine\\base_layer.py:3478\u001b[0m, in \u001b[0;36mLayer._trackable_children\u001b[1;34m(self, save_type, **kwargs)\u001b[0m\n\u001b[0;32m   3474\u001b[0m     cache \u001b[39m=\u001b[39m kwargs[\u001b[39m\"\u001b[39m\u001b[39mcache\u001b[39m\u001b[39m\"\u001b[39m]\n\u001b[0;32m   3475\u001b[0m     \u001b[39m# TODO(b/213628533): This must be called before super() to ensure\u001b[39;00m\n\u001b[0;32m   3476\u001b[0m     \u001b[39m# that any input shape changes are applied before getting the config\u001b[39;00m\n\u001b[0;32m   3477\u001b[0m     \u001b[39m# of the model.\u001b[39;00m\n\u001b[1;32m-> 3478\u001b[0m     children \u001b[39m=\u001b[39m \u001b[39mself\u001b[39;49m\u001b[39m.\u001b[39;49m_trackable_saved_model_saver\u001b[39m.\u001b[39;49mtrackable_children(\n\u001b[0;32m   3479\u001b[0m         cache\n\u001b[0;32m   3480\u001b[0m     )\n\u001b[0;32m   3481\u001b[0m \u001b[39melse\u001b[39;00m:\n\u001b[0;32m   3482\u001b[0m     children \u001b[39m=\u001b[39m {}\n",
      "File \u001b[1;32m~\\AppData\\Roaming\\Python\\Python311\\site-packages\\keras\\src\\saving\\legacy\\saved_model\\base_serialization.py:61\u001b[0m, in \u001b[0;36mSavedModelSaver.trackable_children\u001b[1;34m(self, serialization_cache)\u001b[0m\n\u001b[0;32m     58\u001b[0m \u001b[39mif\u001b[39;00m \u001b[39mnot\u001b[39;00m utils\u001b[39m.\u001b[39mshould_save_traces():\n\u001b[0;32m     59\u001b[0m     \u001b[39mreturn\u001b[39;00m {}\n\u001b[1;32m---> 61\u001b[0m children \u001b[39m=\u001b[39m \u001b[39mself\u001b[39;49m\u001b[39m.\u001b[39;49mobjects_to_serialize(serialization_cache)\n\u001b[0;32m     62\u001b[0m children\u001b[39m.\u001b[39mupdate(\u001b[39mself\u001b[39m\u001b[39m.\u001b[39mfunctions_to_serialize(serialization_cache))\n\u001b[0;32m     63\u001b[0m \u001b[39mreturn\u001b[39;00m children\n",
      "File \u001b[1;32m~\\AppData\\Roaming\\Python\\Python311\\site-packages\\keras\\src\\saving\\legacy\\saved_model\\layer_serialization.py:79\u001b[0m, in \u001b[0;36mLayerSavedModelSaver.objects_to_serialize\u001b[1;34m(self, serialization_cache)\u001b[0m\n\u001b[0;32m     78\u001b[0m \u001b[39mdef\u001b[39;00m \u001b[39mobjects_to_serialize\u001b[39m(\u001b[39mself\u001b[39m, serialization_cache):\n\u001b[1;32m---> 79\u001b[0m     \u001b[39mreturn\u001b[39;00m \u001b[39mself\u001b[39;49m\u001b[39m.\u001b[39;49m_get_serialized_attributes(\n\u001b[0;32m     80\u001b[0m         serialization_cache\n\u001b[0;32m     81\u001b[0m     )\u001b[39m.\u001b[39mobjects_to_serialize\n",
      "File \u001b[1;32m~\\AppData\\Roaming\\Python\\Python311\\site-packages\\keras\\src\\saving\\legacy\\saved_model\\layer_serialization.py:106\u001b[0m, in \u001b[0;36mLayerSavedModelSaver._get_serialized_attributes\u001b[1;34m(self, serialization_cache)\u001b[0m\n\u001b[0;32m    100\u001b[0m \u001b[39mif\u001b[39;00m (\n\u001b[0;32m    101\u001b[0m     save_impl\u001b[39m.\u001b[39mshould_skip_serialization(\u001b[39mself\u001b[39m\u001b[39m.\u001b[39mobj)\n\u001b[0;32m    102\u001b[0m     \u001b[39mor\u001b[39;00m \u001b[39mself\u001b[39m\u001b[39m.\u001b[39mobj\u001b[39m.\u001b[39m_must_restore_from_config\n\u001b[0;32m    103\u001b[0m ):\n\u001b[0;32m    104\u001b[0m     \u001b[39mreturn\u001b[39;00m serialized_attr\n\u001b[1;32m--> 106\u001b[0m object_dict, function_dict \u001b[39m=\u001b[39m \u001b[39mself\u001b[39;49m\u001b[39m.\u001b[39;49m_get_serialized_attributes_internal(\n\u001b[0;32m    107\u001b[0m     serialization_cache\n\u001b[0;32m    108\u001b[0m )\n\u001b[0;32m    110\u001b[0m serialized_attr\u001b[39m.\u001b[39mset_and_validate_objects(object_dict)\n\u001b[0;32m    111\u001b[0m serialized_attr\u001b[39m.\u001b[39mset_and_validate_functions(function_dict)\n",
      "File \u001b[1;32m~\\AppData\\Roaming\\Python\\Python311\\site-packages\\keras\\src\\saving\\legacy\\saved_model\\model_serialization.py:57\u001b[0m, in \u001b[0;36mModelSavedModelSaver._get_serialized_attributes_internal\u001b[1;34m(self, serialization_cache)\u001b[0m\n\u001b[0;32m     53\u001b[0m     default_signature \u001b[39m=\u001b[39m save_impl\u001b[39m.\u001b[39mdefault_save_signature(\u001b[39mself\u001b[39m\u001b[39m.\u001b[39mobj)\n\u001b[0;32m     55\u001b[0m \u001b[39m# Other than the default signature function, all other attributes match\u001b[39;00m\n\u001b[0;32m     56\u001b[0m \u001b[39m# with the ones serialized by Layer.\u001b[39;00m\n\u001b[1;32m---> 57\u001b[0m objects, functions \u001b[39m=\u001b[39m \u001b[39msuper\u001b[39;49m()\u001b[39m.\u001b[39;49m_get_serialized_attributes_internal(\n\u001b[0;32m     58\u001b[0m     serialization_cache\n\u001b[0;32m     59\u001b[0m )\n\u001b[0;32m     60\u001b[0m functions[\u001b[39m\"\u001b[39m\u001b[39m_default_save_signature\u001b[39m\u001b[39m\"\u001b[39m] \u001b[39m=\u001b[39m default_signature\n\u001b[0;32m     61\u001b[0m \u001b[39mreturn\u001b[39;00m objects, functions\n",
      "File \u001b[1;32m~\\AppData\\Roaming\\Python\\Python311\\site-packages\\keras\\src\\saving\\legacy\\saved_model\\layer_serialization.py:117\u001b[0m, in \u001b[0;36mLayerSavedModelSaver._get_serialized_attributes_internal\u001b[1;34m(self, serialization_cache)\u001b[0m\n\u001b[0;32m    115\u001b[0m \u001b[39m\u001b[39m\u001b[39m\"\"\"Returns dictionary of serialized attributes.\"\"\"\u001b[39;00m\n\u001b[0;32m    116\u001b[0m objects \u001b[39m=\u001b[39m save_impl\u001b[39m.\u001b[39mwrap_layer_objects(\u001b[39mself\u001b[39m\u001b[39m.\u001b[39mobj, serialization_cache)\n\u001b[1;32m--> 117\u001b[0m functions \u001b[39m=\u001b[39m save_impl\u001b[39m.\u001b[39;49mwrap_layer_functions(\n\u001b[0;32m    118\u001b[0m     \u001b[39mself\u001b[39;49m\u001b[39m.\u001b[39;49mobj, serialization_cache\n\u001b[0;32m    119\u001b[0m )\n\u001b[0;32m    120\u001b[0m \u001b[39m# Attribute validator requires that the default save signature is added\u001b[39;00m\n\u001b[0;32m    121\u001b[0m \u001b[39m# to function dict, even if the value is None.\u001b[39;00m\n\u001b[0;32m    122\u001b[0m functions[\u001b[39m\"\u001b[39m\u001b[39m_default_save_signature\u001b[39m\u001b[39m\"\u001b[39m] \u001b[39m=\u001b[39m \u001b[39mNone\u001b[39;00m\n",
      "File \u001b[1;32m~\\AppData\\Roaming\\Python\\Python311\\site-packages\\keras\\src\\saving\\legacy\\saved_model\\save_impl.py:168\u001b[0m, in \u001b[0;36mwrap_layer_functions\u001b[1;34m(layer, serialization_cache)\u001b[0m\n\u001b[0;32m    161\u001b[0m     \u001b[39mreturn\u001b[39;00m {\n\u001b[0;32m    162\u001b[0m         fn_name: \u001b[39mgetattr\u001b[39m(layer\u001b[39m.\u001b[39mkeras_api, fn_name, \u001b[39mNone\u001b[39;00m)\n\u001b[0;32m    163\u001b[0m         \u001b[39mfor\u001b[39;00m fn_name \u001b[39min\u001b[39;00m serialized_attributes\u001b[39m.\u001b[39mLayerAttributes\u001b[39m.\u001b[39mall_functions\n\u001b[0;32m    164\u001b[0m     }\n\u001b[0;32m    166\u001b[0m \u001b[39m# Reset the losses of the layer and its children. The call function in each\u001b[39;00m\n\u001b[0;32m    167\u001b[0m \u001b[39m# child layer is replaced with tf.functions.\u001b[39;00m\n\u001b[1;32m--> 168\u001b[0m original_fns \u001b[39m=\u001b[39m _replace_child_layer_functions(layer, serialization_cache)\n\u001b[0;32m    169\u001b[0m original_losses \u001b[39m=\u001b[39m _reset_layer_losses(layer)\n\u001b[0;32m    171\u001b[0m \u001b[39m# Wrap all the layer call and activity regularizer functions.\u001b[39;00m\n\u001b[0;32m    172\u001b[0m \n\u001b[0;32m    173\u001b[0m \u001b[39m# Use LayerCallCollection to ensure that all layer call functions (__call__,\u001b[39;00m\n\u001b[0;32m    174\u001b[0m \u001b[39m# call with losses) are traced with the same inputs.\u001b[39;00m\n",
      "File \u001b[1;32m~\\AppData\\Roaming\\Python\\Python311\\site-packages\\keras\\src\\saving\\legacy\\saved_model\\save_impl.py:305\u001b[0m, in \u001b[0;36m_replace_child_layer_functions\u001b[1;34m(layer, serialization_cache)\u001b[0m\n\u001b[0;32m    302\u001b[0m     \u001b[39mcontinue\u001b[39;00m\n\u001b[0;32m    304\u001b[0m \u001b[39mif\u001b[39;00m child_layer \u001b[39mnot\u001b[39;00m \u001b[39min\u001b[39;00m serialization_cache[constants\u001b[39m.\u001b[39mKERAS_CACHE_KEY]:\n\u001b[1;32m--> 305\u001b[0m     serialized_functions \u001b[39m=\u001b[39m child_layer\u001b[39m.\u001b[39;49m_trackable_saved_model_saver\u001b[39m.\u001b[39;49m_get_serialized_attributes(  \u001b[39m# noqa: E501\u001b[39;49;00m\n\u001b[0;32m    306\u001b[0m         serialization_cache\n\u001b[0;32m    307\u001b[0m     )\u001b[39m.\u001b[39mfunctions\n\u001b[0;32m    308\u001b[0m \u001b[39melse\u001b[39;00m:\n\u001b[0;32m    309\u001b[0m     serialized_functions \u001b[39m=\u001b[39m serialization_cache[\n\u001b[0;32m    310\u001b[0m         constants\u001b[39m.\u001b[39mKERAS_CACHE_KEY\n\u001b[0;32m    311\u001b[0m     ][child_layer]\u001b[39m.\u001b[39mfunctions\n",
      "File \u001b[1;32m~\\AppData\\Roaming\\Python\\Python311\\site-packages\\keras\\src\\saving\\legacy\\saved_model\\layer_serialization.py:106\u001b[0m, in \u001b[0;36mLayerSavedModelSaver._get_serialized_attributes\u001b[1;34m(self, serialization_cache)\u001b[0m\n\u001b[0;32m    100\u001b[0m \u001b[39mif\u001b[39;00m (\n\u001b[0;32m    101\u001b[0m     save_impl\u001b[39m.\u001b[39mshould_skip_serialization(\u001b[39mself\u001b[39m\u001b[39m.\u001b[39mobj)\n\u001b[0;32m    102\u001b[0m     \u001b[39mor\u001b[39;00m \u001b[39mself\u001b[39m\u001b[39m.\u001b[39mobj\u001b[39m.\u001b[39m_must_restore_from_config\n\u001b[0;32m    103\u001b[0m ):\n\u001b[0;32m    104\u001b[0m     \u001b[39mreturn\u001b[39;00m serialized_attr\n\u001b[1;32m--> 106\u001b[0m object_dict, function_dict \u001b[39m=\u001b[39m \u001b[39mself\u001b[39;49m\u001b[39m.\u001b[39;49m_get_serialized_attributes_internal(\n\u001b[0;32m    107\u001b[0m     serialization_cache\n\u001b[0;32m    108\u001b[0m )\n\u001b[0;32m    110\u001b[0m serialized_attr\u001b[39m.\u001b[39mset_and_validate_objects(object_dict)\n\u001b[0;32m    111\u001b[0m serialized_attr\u001b[39m.\u001b[39mset_and_validate_functions(function_dict)\n",
      "File \u001b[1;32m~\\AppData\\Roaming\\Python\\Python311\\site-packages\\keras\\src\\saving\\legacy\\saved_model\\layer_serialization.py:117\u001b[0m, in \u001b[0;36mLayerSavedModelSaver._get_serialized_attributes_internal\u001b[1;34m(self, serialization_cache)\u001b[0m\n\u001b[0;32m    115\u001b[0m \u001b[39m\u001b[39m\u001b[39m\"\"\"Returns dictionary of serialized attributes.\"\"\"\u001b[39;00m\n\u001b[0;32m    116\u001b[0m objects \u001b[39m=\u001b[39m save_impl\u001b[39m.\u001b[39mwrap_layer_objects(\u001b[39mself\u001b[39m\u001b[39m.\u001b[39mobj, serialization_cache)\n\u001b[1;32m--> 117\u001b[0m functions \u001b[39m=\u001b[39m save_impl\u001b[39m.\u001b[39;49mwrap_layer_functions(\n\u001b[0;32m    118\u001b[0m     \u001b[39mself\u001b[39;49m\u001b[39m.\u001b[39;49mobj, serialization_cache\n\u001b[0;32m    119\u001b[0m )\n\u001b[0;32m    120\u001b[0m \u001b[39m# Attribute validator requires that the default save signature is added\u001b[39;00m\n\u001b[0;32m    121\u001b[0m \u001b[39m# to function dict, even if the value is None.\u001b[39;00m\n\u001b[0;32m    122\u001b[0m functions[\u001b[39m\"\u001b[39m\u001b[39m_default_save_signature\u001b[39m\u001b[39m\"\u001b[39m] \u001b[39m=\u001b[39m \u001b[39mNone\u001b[39;00m\n",
      "File \u001b[1;32m~\\AppData\\Roaming\\Python\\Python311\\site-packages\\keras\\src\\saving\\legacy\\saved_model\\save_impl.py:216\u001b[0m, in \u001b[0;36mwrap_layer_functions\u001b[1;34m(layer, serialization_cache)\u001b[0m\n\u001b[0;32m    211\u001b[0m     fns[\u001b[39m\"\u001b[39m\u001b[39mcall_and_return_all_conditional_losses\u001b[39m\u001b[39m\"\u001b[39m] \u001b[39m=\u001b[39m call_fn_with_losses\n\u001b[0;32m    213\u001b[0m \u001b[39m# Manually trigger traces before restoring the overwritten functions. The\u001b[39;00m\n\u001b[0;32m    214\u001b[0m \u001b[39m# functions are traced within the layer call context to ensure that layer\u001b[39;00m\n\u001b[0;32m    215\u001b[0m \u001b[39m# functions (e.g. add_loss) behave as though running in graph mode.\u001b[39;00m\n\u001b[1;32m--> 216\u001b[0m \u001b[39mwith\u001b[39;49;00m tracing_scope():\n\u001b[0;32m    217\u001b[0m     call_collection\u001b[39m.\u001b[39;49mtrace_with_input_signature()\n\u001b[0;32m    218\u001b[0m     \u001b[39mwith\u001b[39;49;00m base_layer_utils\u001b[39m.\u001b[39;49mcall_context()\u001b[39m.\u001b[39;49menter(\n\u001b[0;32m    219\u001b[0m         layer, inputs\u001b[39m=\u001b[39;49m\u001b[39mNone\u001b[39;49;00m, build_graph\u001b[39m=\u001b[39;49m\u001b[39mTrue\u001b[39;49;00m, training\u001b[39m=\u001b[39;49m\u001b[39mNone\u001b[39;49;00m, saving\u001b[39m=\u001b[39;49m\u001b[39mTrue\u001b[39;49;00m\n\u001b[0;32m    220\u001b[0m     ):\n",
      "File \u001b[1;32mc:\\Program Files\\Python311\\Lib\\contextlib.py:144\u001b[0m, in \u001b[0;36m_GeneratorContextManager.__exit__\u001b[1;34m(self, typ, value, traceback)\u001b[0m\n\u001b[0;32m    142\u001b[0m \u001b[39mif\u001b[39;00m typ \u001b[39mis\u001b[39;00m \u001b[39mNone\u001b[39;00m:\n\u001b[0;32m    143\u001b[0m     \u001b[39mtry\u001b[39;00m:\n\u001b[1;32m--> 144\u001b[0m         \u001b[39mnext\u001b[39;49m(\u001b[39mself\u001b[39;49m\u001b[39m.\u001b[39;49mgen)\n\u001b[0;32m    145\u001b[0m     \u001b[39mexcept\u001b[39;00m \u001b[39mStopIteration\u001b[39;00m:\n\u001b[0;32m    146\u001b[0m         \u001b[39mreturn\u001b[39;00m \u001b[39mFalse\u001b[39;00m\n",
      "File \u001b[1;32m~\\AppData\\Roaming\\Python\\Python311\\site-packages\\keras\\src\\saving\\legacy\\saved_model\\save_impl.py:390\u001b[0m, in \u001b[0;36mtracing_scope\u001b[1;34m()\u001b[0m\n\u001b[0;32m    388\u001b[0m \u001b[39mif\u001b[39;00m training \u001b[39mis\u001b[39;00m \u001b[39mnot\u001b[39;00m \u001b[39mNone\u001b[39;00m:\n\u001b[0;32m    389\u001b[0m     \u001b[39mwith\u001b[39;00m backend\u001b[39m.\u001b[39mdeprecated_internal_learning_phase_scope(training):\n\u001b[1;32m--> 390\u001b[0m         fn\u001b[39m.\u001b[39;49mget_concrete_function(\u001b[39m*\u001b[39;49margs, \u001b[39m*\u001b[39;49m\u001b[39m*\u001b[39;49mkwargs)\n\u001b[0;32m    391\u001b[0m \u001b[39melse\u001b[39;00m:\n\u001b[0;32m    392\u001b[0m     fn\u001b[39m.\u001b[39mget_concrete_function(\u001b[39m*\u001b[39margs, \u001b[39m*\u001b[39m\u001b[39m*\u001b[39mkwargs)\n",
      "File \u001b[1;32m~\\AppData\\Roaming\\Python\\Python311\\site-packages\\tensorflow\\python\\eager\\polymorphic_function\\polymorphic_function.py:1189\u001b[0m, in \u001b[0;36mFunction.get_concrete_function\u001b[1;34m(self, *args, **kwargs)\u001b[0m\n\u001b[0;32m   1187\u001b[0m \u001b[39mdef\u001b[39;00m \u001b[39mget_concrete_function\u001b[39m(\u001b[39mself\u001b[39m, \u001b[39m*\u001b[39margs, \u001b[39m*\u001b[39m\u001b[39m*\u001b[39mkwargs):\n\u001b[0;32m   1188\u001b[0m   \u001b[39m# Implements GenericFunction.get_concrete_function.\u001b[39;00m\n\u001b[1;32m-> 1189\u001b[0m   concrete \u001b[39m=\u001b[39m \u001b[39mself\u001b[39;49m\u001b[39m.\u001b[39;49m_get_concrete_function_garbage_collected(\u001b[39m*\u001b[39;49margs, \u001b[39m*\u001b[39;49m\u001b[39m*\u001b[39;49mkwargs)\n\u001b[0;32m   1190\u001b[0m   concrete\u001b[39m.\u001b[39m_garbage_collector\u001b[39m.\u001b[39mrelease()  \u001b[39m# pylint: disable=protected-access\u001b[39;00m\n\u001b[0;32m   1191\u001b[0m   \u001b[39mreturn\u001b[39;00m concrete\n",
      "File \u001b[1;32m~\\AppData\\Roaming\\Python\\Python311\\site-packages\\tensorflow\\python\\eager\\polymorphic_function\\polymorphic_function.py:1169\u001b[0m, in \u001b[0;36mFunction._get_concrete_function_garbage_collected\u001b[1;34m(self, *args, **kwargs)\u001b[0m\n\u001b[0;32m   1167\u001b[0m   \u001b[39mif\u001b[39;00m \u001b[39mself\u001b[39m\u001b[39m.\u001b[39m_variable_creation_fn \u001b[39mis\u001b[39;00m \u001b[39mNone\u001b[39;00m:\n\u001b[0;32m   1168\u001b[0m     initializers \u001b[39m=\u001b[39m []\n\u001b[1;32m-> 1169\u001b[0m     \u001b[39mself\u001b[39;49m\u001b[39m.\u001b[39;49m_initialize(args, kwargs, add_initializers_to\u001b[39m=\u001b[39;49minitializers)\n\u001b[0;32m   1170\u001b[0m     \u001b[39mself\u001b[39m\u001b[39m.\u001b[39m_initialize_uninitialized_variables(initializers)\n\u001b[0;32m   1172\u001b[0m \u001b[39mif\u001b[39;00m \u001b[39mself\u001b[39m\u001b[39m.\u001b[39m_created_variables:\n\u001b[0;32m   1173\u001b[0m   \u001b[39m# In this case we have created variables on the first call, so we run the\u001b[39;00m\n\u001b[0;32m   1174\u001b[0m   \u001b[39m# version which is guaranteed to never create variables.\u001b[39;00m\n",
      "File \u001b[1;32m~\\AppData\\Roaming\\Python\\Python311\\site-packages\\tensorflow\\python\\eager\\polymorphic_function\\polymorphic_function.py:694\u001b[0m, in \u001b[0;36mFunction._initialize\u001b[1;34m(self, args, kwds, add_initializers_to)\u001b[0m\n\u001b[0;32m    691\u001b[0m \u001b[39mself\u001b[39m\u001b[39m.\u001b[39m_variable_creation_fn\u001b[39m.\u001b[39m_name \u001b[39m=\u001b[39m \u001b[39mself\u001b[39m\u001b[39m.\u001b[39m_name  \u001b[39m# pylint: disable=protected-access\u001b[39;00m\n\u001b[0;32m    692\u001b[0m \u001b[39m# Force the definition of the function for these arguments\u001b[39;00m\n\u001b[0;32m    693\u001b[0m \u001b[39mself\u001b[39m\u001b[39m.\u001b[39m_concrete_variable_creation_fn \u001b[39m=\u001b[39m (\n\u001b[1;32m--> 694\u001b[0m     \u001b[39mself\u001b[39;49m\u001b[39m.\u001b[39;49m_variable_creation_fn    \u001b[39m# pylint: disable=protected-access\u001b[39;49;00m\n\u001b[0;32m    695\u001b[0m     \u001b[39m.\u001b[39;49m_get_concrete_function_internal_garbage_collected(\n\u001b[0;32m    696\u001b[0m         \u001b[39m*\u001b[39;49margs, \u001b[39m*\u001b[39;49m\u001b[39m*\u001b[39;49mkwds))\n\u001b[0;32m    698\u001b[0m \u001b[39mdef\u001b[39;00m \u001b[39minvalid_creator_scope\u001b[39m(\u001b[39m*\u001b[39munused_args, \u001b[39m*\u001b[39m\u001b[39m*\u001b[39munused_kwds):\n\u001b[0;32m    699\u001b[0m \u001b[39m  \u001b[39m\u001b[39m\"\"\"Disables variable creation.\"\"\"\u001b[39;00m\n",
      "File \u001b[1;32m~\\AppData\\Roaming\\Python\\Python311\\site-packages\\tensorflow\\python\\eager\\polymorphic_function\\tracing_compiler.py:176\u001b[0m, in \u001b[0;36mTracingCompiler._get_concrete_function_internal_garbage_collected\u001b[1;34m(self, *args, **kwargs)\u001b[0m\n\u001b[0;32m    174\u001b[0m \u001b[39m\u001b[39m\u001b[39m\"\"\"Returns a concrete function which cleans up its graph function.\"\"\"\u001b[39;00m\n\u001b[0;32m    175\u001b[0m \u001b[39mwith\u001b[39;00m \u001b[39mself\u001b[39m\u001b[39m.\u001b[39m_lock:\n\u001b[1;32m--> 176\u001b[0m   concrete_function, _ \u001b[39m=\u001b[39m \u001b[39mself\u001b[39;49m\u001b[39m.\u001b[39;49m_maybe_define_concrete_function(args, kwargs)\n\u001b[0;32m    177\u001b[0m \u001b[39mreturn\u001b[39;00m concrete_function\n",
      "File \u001b[1;32m~\\AppData\\Roaming\\Python\\Python311\\site-packages\\tensorflow\\python\\eager\\polymorphic_function\\tracing_compiler.py:171\u001b[0m, in \u001b[0;36mTracingCompiler._maybe_define_concrete_function\u001b[1;34m(self, args, kwargs)\u001b[0m\n\u001b[0;32m    168\u001b[0m   args \u001b[39m=\u001b[39m \u001b[39mself\u001b[39m\u001b[39m.\u001b[39minput_signature\n\u001b[0;32m    169\u001b[0m   kwargs \u001b[39m=\u001b[39m {}\n\u001b[1;32m--> 171\u001b[0m \u001b[39mreturn\u001b[39;00m \u001b[39mself\u001b[39;49m\u001b[39m.\u001b[39;49m_maybe_define_function(args, kwargs)\n",
      "File \u001b[1;32m~\\AppData\\Roaming\\Python\\Python311\\site-packages\\tensorflow\\python\\eager\\polymorphic_function\\tracing_compiler.py:398\u001b[0m, in \u001b[0;36mTracingCompiler._maybe_define_function\u001b[1;34m(self, args, kwargs)\u001b[0m\n\u001b[0;32m    395\u001b[0m args \u001b[39m=\u001b[39m placeholder_bound_args\u001b[39m.\u001b[39margs\n\u001b[0;32m    396\u001b[0m kwargs \u001b[39m=\u001b[39m placeholder_bound_args\u001b[39m.\u001b[39mkwargs\n\u001b[1;32m--> 398\u001b[0m concrete_function \u001b[39m=\u001b[39m \u001b[39mself\u001b[39;49m\u001b[39m.\u001b[39;49m_create_concrete_function(\n\u001b[0;32m    399\u001b[0m     args, kwargs, func_graph)\n\u001b[0;32m    401\u001b[0m \u001b[39m# TODO(b/263520817): Remove access to private attribute.\u001b[39;00m\n\u001b[0;32m    402\u001b[0m graph_capture_container \u001b[39m=\u001b[39m concrete_function\u001b[39m.\u001b[39mgraph\u001b[39m.\u001b[39mfunction_captures\n",
      "File \u001b[1;32m~\\AppData\\Roaming\\Python\\Python311\\site-packages\\tensorflow\\python\\eager\\polymorphic_function\\tracing_compiler.py:304\u001b[0m, in \u001b[0;36mTracingCompiler._create_concrete_function\u001b[1;34m(self, args, kwargs, func_graph)\u001b[0m\n\u001b[0;32m    301\u001b[0m \u001b[39melse\u001b[39;00m:\n\u001b[0;32m    302\u001b[0m   arg_names \u001b[39m=\u001b[39m base_arg_names\n\u001b[1;32m--> 304\u001b[0m concrete_function \u001b[39m=\u001b[39m monomorphic_function\u001b[39m.\u001b[39;49mConcreteFunction(\n\u001b[0;32m    305\u001b[0m     func_graph_module\u001b[39m.\u001b[39;49mfunc_graph_from_py_func(\n\u001b[0;32m    306\u001b[0m         \u001b[39mself\u001b[39;49m\u001b[39m.\u001b[39;49m_name,\n\u001b[0;32m    307\u001b[0m         \u001b[39mself\u001b[39;49m\u001b[39m.\u001b[39;49m_python_function,\n\u001b[0;32m    308\u001b[0m         args,\n\u001b[0;32m    309\u001b[0m         kwargs,\n\u001b[0;32m    310\u001b[0m         \u001b[39mNone\u001b[39;49;00m,\n\u001b[0;32m    311\u001b[0m         func_graph\u001b[39m=\u001b[39;49mfunc_graph,\n\u001b[0;32m    312\u001b[0m         arg_names\u001b[39m=\u001b[39;49marg_names,\n\u001b[0;32m    313\u001b[0m         capture_by_value\u001b[39m=\u001b[39;49m\u001b[39mself\u001b[39;49m\u001b[39m.\u001b[39;49m_capture_by_value,\n\u001b[0;32m    314\u001b[0m         create_placeholders\u001b[39m=\u001b[39;49m\u001b[39mFalse\u001b[39;49;00m),\n\u001b[0;32m    315\u001b[0m     \u001b[39mself\u001b[39;49m\u001b[39m.\u001b[39;49m_function_attributes,\n\u001b[0;32m    316\u001b[0m     spec\u001b[39m=\u001b[39;49m\u001b[39mself\u001b[39;49m\u001b[39m.\u001b[39;49mfunction_spec,\n\u001b[0;32m    317\u001b[0m     \u001b[39m# Tell the ConcreteFunction to clean up its graph once it goes out of\u001b[39;49;00m\n\u001b[0;32m    318\u001b[0m     \u001b[39m# scope. This is not the default behavior since it gets used in some\u001b[39;49;00m\n\u001b[0;32m    319\u001b[0m     \u001b[39m# places (like Keras) where the FuncGraph lives longer than the\u001b[39;49;00m\n\u001b[0;32m    320\u001b[0m     \u001b[39m# ConcreteFunction.\u001b[39;49;00m\n\u001b[0;32m    321\u001b[0m     shared_func_graph\u001b[39m=\u001b[39;49m\u001b[39mFalse\u001b[39;49;00m)\n\u001b[0;32m    322\u001b[0m \u001b[39mreturn\u001b[39;00m concrete_function\n",
      "File \u001b[1;32m~\\AppData\\Roaming\\Python\\Python311\\site-packages\\tensorflow\\python\\eager\\polymorphic_function\\monomorphic_function.py:1066\u001b[0m, in \u001b[0;36mConcreteFunction.__init__\u001b[1;34m(self, func_graph, attrs, shared_func_graph, spec)\u001b[0m\n\u001b[0;32m   1060\u001b[0m   \u001b[39mself\u001b[39m\u001b[39m.\u001b[39m_garbage_collector \u001b[39m=\u001b[39m ConcreteFunctionGarbageCollector(func_graph)\n\u001b[0;32m   1062\u001b[0m \u001b[39m# Pairs of forward and backward functions used for computing gradients.\u001b[39;00m\n\u001b[0;32m   1063\u001b[0m \u001b[39m#\u001b[39;00m\n\u001b[0;32m   1064\u001b[0m \u001b[39m# These each get a reference to the FuncGraph deleter since they use the\u001b[39;00m\n\u001b[0;32m   1065\u001b[0m \u001b[39m# FuncGraph directly.\u001b[39;00m\n\u001b[1;32m-> 1066\u001b[0m \u001b[39mself\u001b[39m\u001b[39m.\u001b[39m_delayed_rewrite_functions \u001b[39m=\u001b[39m _DelayedRewriteGradientFunctions(\n\u001b[0;32m   1067\u001b[0m     func_graph, \u001b[39mself\u001b[39;49m\u001b[39m.\u001b[39;49m_attrs, \u001b[39mself\u001b[39;49m\u001b[39m.\u001b[39;49m_garbage_collector)\n\u001b[0;32m   1068\u001b[0m \u001b[39mself\u001b[39m\u001b[39m.\u001b[39m_first_order_tape_functions \u001b[39m=\u001b[39m {}\n\u001b[0;32m   1069\u001b[0m \u001b[39mself\u001b[39m\u001b[39m.\u001b[39m_higher_order_tape_functions \u001b[39m=\u001b[39m {}\n",
      "File \u001b[1;32m~\\AppData\\Roaming\\Python\\Python311\\site-packages\\tensorflow\\python\\eager\\polymorphic_function\\monomorphic_function.py:155\u001b[0m, in \u001b[0;36m_DelayedRewriteGradientFunctions.__init__\u001b[1;34m(self, func_graph, attrs, func_graph_deleter)\u001b[0m\n\u001b[0;32m    153\u001b[0m \u001b[39mself\u001b[39m\u001b[39m.\u001b[39m_cached_function_pairs \u001b[39m=\u001b[39m {}\n\u001b[0;32m    154\u001b[0m \u001b[39mself\u001b[39m\u001b[39m.\u001b[39m_func_graph \u001b[39m=\u001b[39m func_graph\n\u001b[1;32m--> 155\u001b[0m \u001b[39mself\u001b[39m\u001b[39m.\u001b[39m_inference_function \u001b[39m=\u001b[39m atomic_function\u001b[39m.\u001b[39;49mfrom_func_graph(\n\u001b[0;32m    156\u001b[0m     _inference_name(\u001b[39mself\u001b[39;49m\u001b[39m.\u001b[39;49m_func_graph\u001b[39m.\u001b[39;49mname), \u001b[39mself\u001b[39;49m\u001b[39m.\u001b[39;49m_func_graph,\n\u001b[0;32m    157\u001b[0m     \u001b[39mself\u001b[39;49m\u001b[39m.\u001b[39;49m_func_graph\u001b[39m.\u001b[39;49minputs, \u001b[39mself\u001b[39;49m\u001b[39m.\u001b[39;49m_func_graph\u001b[39m.\u001b[39;49moutputs, attrs)\n\u001b[0;32m    158\u001b[0m \u001b[39mself\u001b[39m\u001b[39m.\u001b[39m_attrs \u001b[39m=\u001b[39m attrs\n\u001b[0;32m    159\u001b[0m \u001b[39mself\u001b[39m\u001b[39m.\u001b[39m_gradient_name \u001b[39m=\u001b[39m \u001b[39mNone\u001b[39;00m\n",
      "File \u001b[1;32m~\\AppData\\Roaming\\Python\\Python311\\site-packages\\tensorflow\\python\\eager\\polymorphic_function\\atomic_function.py:357\u001b[0m, in \u001b[0;36mfrom_func_graph\u001b[1;34m(name, graph, inputs, outputs, attrs)\u001b[0m\n\u001b[0;32m    354\u001b[0m \u001b[39mdef\u001b[39;00m \u001b[39mfrom_func_graph\u001b[39m(name, graph, inputs, outputs, attrs):\n\u001b[0;32m    355\u001b[0m \u001b[39m  \u001b[39m\u001b[39m\"\"\"Initializes an AtomicFunction from FuncGraph with transforms.\"\"\"\u001b[39;00m\n\u001b[1;32m--> 357\u001b[0m   atomic \u001b[39m=\u001b[39m from_func_graph_no_transforms(name, graph, inputs, outputs, attrs)\n\u001b[0;32m    358\u001b[0m   \u001b[39mfor\u001b[39;00m transform \u001b[39min\u001b[39;00m FUNCTION_TRANSFORMS:\n\u001b[0;32m    359\u001b[0m     atomic \u001b[39m=\u001b[39m transform(atomic)\n",
      "File \u001b[1;32m~\\AppData\\Roaming\\Python\\Python311\\site-packages\\tensorflow\\python\\eager\\polymorphic_function\\atomic_function.py:401\u001b[0m, in \u001b[0;36mfrom_func_graph_no_transforms\u001b[1;34m(name, graph, inputs, outputs, attrs, overwrite)\u001b[0m\n\u001b[0;32m    399\u001b[0m   output_names \u001b[39m=\u001b[39m []\n\u001b[0;32m    400\u001b[0m \u001b[39mwith\u001b[39;00m graph\u001b[39m.\u001b[39m_c_graph\u001b[39m.\u001b[39mget() \u001b[39mas\u001b[39;00m c_graph:  \u001b[39m# pylint: disable=protected-access\u001b[39;00m\n\u001b[1;32m--> 401\u001b[0m   fn \u001b[39m=\u001b[39m pywrap_tf_session\u001b[39m.\u001b[39;49mTF_GraphToFunction_wrapper(\n\u001b[0;32m    402\u001b[0m       c_graph,\n\u001b[0;32m    403\u001b[0m       compat\u001b[39m.\u001b[39;49mas_str(name),\n\u001b[0;32m    404\u001b[0m       \u001b[39mFalse\u001b[39;49;00m,\n\u001b[0;32m    405\u001b[0m       [o\u001b[39m.\u001b[39;49m_c_op \u001b[39mfor\u001b[39;49;00m o \u001b[39min\u001b[39;49;00m operations],  \u001b[39m# pylint: disable=protected-access\u001b[39;49;00m\n\u001b[0;32m    406\u001b[0m       [t\u001b[39m.\u001b[39;49m_as_tf_output() \u001b[39mfor\u001b[39;49;00m t \u001b[39min\u001b[39;49;00m inputs],  \u001b[39m# pylint: disable=protected-access\u001b[39;49;00m\n\u001b[0;32m    407\u001b[0m       [t\u001b[39m.\u001b[39;49m_as_tf_output() \u001b[39mfor\u001b[39;49;00m t \u001b[39min\u001b[39;49;00m outputs],  \u001b[39m# pylint: disable=protected-access\u001b[39;49;00m\n\u001b[0;32m    408\u001b[0m       output_names,\n\u001b[0;32m    409\u001b[0m       [o\u001b[39m.\u001b[39;49m_c_op \u001b[39mfor\u001b[39;49;00m o \u001b[39min\u001b[39;49;00m graph\u001b[39m.\u001b[39;49mcontrol_outputs],  \u001b[39m# pylint: disable=protected-access\u001b[39;49;00m\n\u001b[0;32m    410\u001b[0m       [],  \u001b[39m# control_output_names\u001b[39;49;00m\n\u001b[0;32m    411\u001b[0m       \u001b[39mNone\u001b[39;49;00m,\n\u001b[0;32m    412\u001b[0m       compat\u001b[39m.\u001b[39;49mas_str(\u001b[39m\"\u001b[39;49m\u001b[39m\"\u001b[39;49m),\n\u001b[0;32m    413\u001b[0m   )\n\u001b[0;32m    415\u001b[0m \u001b[39mfor\u001b[39;00m attr_name, attr_value \u001b[39min\u001b[39;00m attrs\u001b[39m.\u001b[39mitems():\n\u001b[0;32m    416\u001b[0m   serialized \u001b[39m=\u001b[39m attr_value\u001b[39m.\u001b[39mSerializeToString()\n",
      "\u001b[1;31mKeyboardInterrupt\u001b[0m: "
     ]
    }
   ],
   "source": [
    "model.save('mobilenet_model')"
   ]
  },
  {
   "cell_type": "code",
   "execution_count": null,
   "id": "6bbdbbdc",
   "metadata": {},
   "outputs": [
    {
     "data": {
      "text/plain": [
       "[]"
      ]
     },
     "execution_count": 82,
     "metadata": {},
     "output_type": "execute_result"
    },
    {
     "data": {
      "image/png": "[encoded data removed]",
      "text/plain": [
       "<Figure size 640x480 with 1 Axes>"
      ]
     },
     "metadata": {},
     "output_type": "display_data"
    }
   ],
   "source": [
    "acc = history.history['accuracy']\n",
    "val_acc = history.history['val_accuracy']\n",
    "epochs = range(1, len(acc) + 1)\n",
    "\n",
    "plt.plot(epochs, acc, '-', label='Training Accuracy')\n",
    "plt.plot(epochs, val_acc, ':', label='Validation Accuracy')\n",
    "plt.title('Training and Validation Accuracy')\n",
    "plt.xlabel('Epoch')\n",
    "plt.ylabel('Accuracy')\n",
    "plt.legend(loc='lower right')\n",
    "plt.plot()"
   ]
  },
  {
   "cell_type": "code",
   "execution_count": null,
   "id": "f6772b23",
   "metadata": {},
   "outputs": [
    {
     "name": "stdout",
     "output_type": "stream",
     "text": [
      "Found 1324 images belonging to 7 classes.\n"
     ]
    }
   ],
   "source": []
  },
  {
   "cell_type": "code",
   "execution_count": null,
   "id": "deb3c167",
   "metadata": {},
   "outputs": [
    {
     "name": "stdout",
     "output_type": "stream",
     "text": [
      "42/42 [==============================] - 26s 545ms/step\n"
     ]
    },
    {
     "data": {
      "text/plain": [
       "Text(110.44999999999997, 0.5, 'Actual label')"
      ]
     },
     "execution_count": 84,
     "metadata": {},
     "output_type": "execute_result"
    },
    {
     "data": {
      "image/png": "[encoded data removed]",
      "text/plain": [
       "<Figure size 640x480 with 1 Axes>"
      ]
     },
     "metadata": {},
     "output_type": "display_data"
    }
   ],
   "source": [
    "predictions = model.predict(test_generator)\n",
    "y_predicted = np.argmax(predictions, axis=1)\n",
    "true_labels = test_generator.classes\n",
    "\n",
    "mat = confusion_matrix(true_labels, y_predicted)\n",
    "\n",
    "sns.heatmap(mat, square=True, annot=True, fmt='d', cbar=False, cmap='Blues',\n",
    "            xticklabels=emotions,\n",
    "            yticklabels=emotions)\n",
    "\n",
    "plt.xlabel('Predicted label')\n",
    "plt.ylabel('Actual label')"
   ]
  },
  {
   "cell_type": "markdown",
   "id": "cb5dabc6",
   "metadata": {},
   "source": [
    "### VGGISH transfer learning"
   ]
  },
  {
   "cell_type": "code",
   "execution_count": 25,
   "id": "ea852b89",
   "metadata": {},
   "outputs": [
    {
     "name": "stdout",
     "output_type": "stream",
     "text": [
      "Found 4213 images belonging to 7 classes.\n",
      "Found 902 images belonging to 7 classes.\n"
     ]
    }
   ],
   "source": [
    "# Image data generator for training data\n",
    "train_datagen = ImageDataGenerator(rescale=1.0/255.0)\n",
    "train_generator = train_datagen.flow_from_directory(\n",
    "    train_dir,\n",
    "    target_size=(96, 64),\n",
    "    batch_size=10,\n",
    "    class_mode='categorical',\n",
    "    color_mode='grayscale'\n",
    ")\n",
    "\n",
    "# Image data generator for validation data\n",
    "val_datagen = ImageDataGenerator(rescale=1.0/255.0)\n",
    "val_generator = val_datagen.flow_from_directory(\n",
    "    val_dir,\n",
    "    target_size=(96, 64),\n",
    "    batch_size=10,\n",
    "    class_mode='categorical',\n",
    "    color_mode='grayscale'\n",
    ")"
   ]
  },
  {
   "cell_type": "code",
   "execution_count": 19,
   "id": "913487cd",
   "metadata": {},
   "outputs": [],
   "source": [
    "def build_vggish_model(input_shape, weights_path=None):\n",
    "    input_layer = Input(shape=input_shape)\n",
    "\n",
    "    # VGGish Convolutional Blocks\n",
    "    # Block 1\n",
    "    x = Conv2D(64, (3, 3), strides=(1, 1), activation='relu', padding='same', name='conv1')(input_layer)\n",
    "    x = MaxPooling2D((2, 2), strides=(2, 2), padding='same', name='pool1')(x)\n",
    "\n",
    "    # Block 2\n",
    "    x = Conv2D(128, (3, 3), strides=(1, 1), activation='relu', padding='same', name='conv2')(x)\n",
    "    x = MaxPooling2D((2, 2), strides=(2, 2), padding='same', name='pool2')(x)\n",
    "\n",
    "    # Block 3\n",
    "    x = Conv2D(256, (3, 3), strides=(1, 1), activation='relu', padding='same', name='conv3/conv3_1')(x)\n",
    "    x = Conv2D(256, (3, 3), strides=(1, 1), activation='relu', padding='same', name='conv3/conv3_2')(x)\n",
    "    x = MaxPooling2D((2, 2), strides=(2, 2), padding='same', name='pool3')(x)\n",
    "\n",
    "    # Block 4\n",
    "    x = Conv2D(512, (3, 3), strides=(1, 1), activation='relu', padding='same', name='conv4/conv4_1')(x)\n",
    "    x = Conv2D(512, (3, 3), strides=(1, 1), activation='relu', padding='same', name='conv4/conv4_2')(x)\n",
    "    x = MaxPooling2D((2, 2), strides=(2, 2), padding='same', name='pool4')(x)\n",
    "\n",
    "    \n",
    "    model = Model(inputs=input_layer, outputs=x, name='vggish')\n",
    "\n",
    "    # Load pre-trained weights (if available)\n",
    "    if weights_path is not None:\n",
    "        model.load_weights(weights_path, by_name=True)\n",
    "\n",
    "    return model\n"
   ]
  },
  {
   "cell_type": "code",
   "execution_count": 120,
   "id": "9d94ba12",
   "metadata": {},
   "outputs": [],
   "source": [
    "from keras.layers import Reshape"
   ]
  },
  {
   "cell_type": "code",
   "execution_count": 21,
   "id": "445b2fc8",
   "metadata": {},
   "outputs": [],
   "source": [
    "def build_custom_model(input_shape, num_classes, weights_path=None):\n",
    "    # Build the VGGish model\n",
    "    vggish_model = build_vggish_model(input_shape, weights_path)\n",
    "\n",
    "    # Add your dense layers\n",
    "    x = Flatten()(vggish_model.output)\n",
    "    x = Dense(512, activation='relu')(x)\n",
    "    x = Dense(256, activation='relu')(x)\n",
    "\n",
    "    # Add the output dense layer for classification (number of classes)\n",
    "    output_layer = Dense(num_classes, activation='softmax')(x)\n",
    "\n",
    "    # Create the custom model with VGGish base and your dense layers\n",
    "    custom_model = Model(inputs=vggish_model.input, outputs=output_layer)\n",
    "\n",
    "    return custom_model"
   ]
  },
  {
   "cell_type": "code",
   "execution_count": 136,
   "id": "cb1462cd",
   "metadata": {},
   "outputs": [],
   "source": [
    "# import cv2\n",
    "\n",
    "# def preprocess_image(image):\n",
    "#     # Convert image to grayscale\n",
    "#     gray_image = np.mean(image, axis=-1, keepdims=True)\n",
    "\n",
    "#     # Resize image to (96, 64)\n",
    "#     resized_image = cv2.resize(gray_image, (64, 96), interpolation=cv2.INTER_LINEAR)\n",
    "\n",
    "#     # Expand dimensions to match the input shape of VGGish\n",
    "#     preprocessed_image = np.expand_dims(resized_image, axis=-1)\n",
    "\n",
    "#     return preprocessed_image\n"
   ]
  },
  {
   "cell_type": "code",
   "execution_count": 153,
   "id": "d02bf1d5",
   "metadata": {},
   "outputs": [],
   "source": [
    "# class CustomImageDataGenerator(ImageDataGenerator):\n",
    "#     def __init__(self, *args, **kwargs):\n",
    "#         super(CustomImageDataGenerator, self).__init__(*args, **kwargs)\n",
    "\n",
    "#     def preprocess_func(self, image):\n",
    "#         return preprocess_image(image, target_size=(96, 64))\n",
    "\n",
    "#     def __getitem__(self, index):\n",
    "#         x, y = super(CustomImageDataGenerator, self).__getitem__(index)\n",
    "#         x = self.preprocess_func(x)\n",
    "#         return x, y\n",
    "\n",
    "# # Image data generator for training data with custom preprocessing\n",
    "# train_datagen_custom = CustomImageDataGenerator(rescale=1.0/255.0)\n",
    "# train_generator_custom = train_datagen_custom.flow_from_directory(\n",
    "#     train_dir,\n",
    "#     target_size=(224, 224),\n",
    "#     batch_size=32,\n",
    "#     class_mode='categorical'\n",
    "# )\n",
    "\n",
    "# # Image data generator for validation data with custom preprocessing\n",
    "# val_datagen_custom = CustomImageDataGenerator(rescale=1.0/255.0)\n",
    "# val_generator_custom = val_datagen_custom.flow_from_directory(\n",
    "#     val_dir,\n",
    "#     target_size=(224, 224),\n",
    "#     batch_size=32,\n",
    "#     class_mode='categorical'\n",
    "# )"
   ]
  },
  {
   "cell_type": "code",
   "execution_count": 26,
   "id": "19b2cff5",
   "metadata": {},
   "outputs": [
    {
     "name": "stdout",
     "output_type": "stream",
     "text": [
      "Sample Image Shape: (96, 64, 1)\n"
     ]
    }
   ],
   "source": [
    "# Manually load an image from the train generator\n",
    "batch_X, batch_y = next(train_generator)\n",
    "sample_image = batch_X[0]  # Take the first image from the batch\n",
    "\n",
    "# Check the shape of the sample image\n",
    "print(\"Sample Image Shape:\", sample_image.shape)\n"
   ]
  },
  {
   "cell_type": "code",
   "execution_count": 27,
   "id": "ddeb1b79",
   "metadata": {},
   "outputs": [],
   "source": [
    "# Input shape for spectrogram images (224, 224, 3)\n",
    "input_shape = (96, 64, 1) #(224, 224, 3)\n",
    "\n",
    "num_classes = 7\n",
    "\n",
    "# Path to the downloaded pre-trained VGGish weights\n",
    "vggish_weights_path = 'vggish_audioset_weights_without_fc2.h5'\n",
    "\n",
    "# Build the custom model with VGGish base and dense layers for classification\n",
    "custom_model = build_custom_model(input_shape, num_classes, weights_path=vggish_weights_path)"
   ]
  },
  {
   "cell_type": "code",
   "execution_count": 28,
   "id": "425c61f7",
   "metadata": {},
   "outputs": [
    {
     "name": "stdout",
     "output_type": "stream",
     "text": [
      "Model: \"vggish\"\n",
      "_________________________________________________________________\n",
      " Layer (type)                Output Shape              Param #   \n",
      "=================================================================\n",
      " input_3 (InputLayer)        [(None, 96, 64, 1)]       0         \n",
      "                                                                 \n",
      " conv1 (Conv2D)              (None, 96, 64, 64)        640       \n",
      "                                                                 \n",
      " pool1 (MaxPooling2D)        (None, 48, 32, 64)        0         \n",
      "                                                                 \n",
      " conv2 (Conv2D)              (None, 48, 32, 128)       73856     \n",
      "                                                                 \n",
      " pool2 (MaxPooling2D)        (None, 24, 16, 128)       0         \n",
      "                                                                 \n",
      " conv3/conv3_1 (Conv2D)      (None, 24, 16, 256)       295168    \n",
      "                                                                 \n",
      " conv3/conv3_2 (Conv2D)      (None, 24, 16, 256)       590080    \n",
      "                                                                 \n",
      " pool3 (MaxPooling2D)        (None, 12, 8, 256)        0         \n",
      "                                                                 \n",
      " conv4/conv4_1 (Conv2D)      (None, 12, 8, 512)        1180160   \n",
      "                                                                 \n",
      " conv4/conv4_2 (Conv2D)      (None, 12, 8, 512)        2359808   \n",
      "                                                                 \n",
      " pool4 (MaxPooling2D)        (None, 6, 4, 512)         0         \n",
      "                                                                 \n",
      "=================================================================\n",
      "Total params: 4499712 (17.17 MB)\n",
      "Trainable params: 4499712 (17.17 MB)\n",
      "Non-trainable params: 0 (0.00 Byte)\n",
      "_________________________________________________________________\n"
     ]
    }
   ],
   "source": [
    "chch = build_vggish_model(input_shape, weights_path=None)\n",
    "chch.summary()"
   ]
  },
  {
   "cell_type": "code",
   "execution_count": 151,
   "id": "e5e3a7b9",
   "metadata": {},
   "outputs": [
    {
     "name": "stdout",
     "output_type": "stream",
     "text": [
      "Model: \"model_17\"\n",
      "_________________________________________________________________\n",
      " Layer (type)                Output Shape              Param #   \n",
      "=================================================================\n",
      " input_39 (InputLayer)       [(None, 96, 64, 1)]       0         \n",
      "                                                                 \n",
      " conv1 (Conv2D)              (None, 96, 64, 64)        640       \n",
      "                                                                 \n",
      " pool1 (MaxPooling2D)        (None, 48, 32, 64)        0         \n",
      "                                                                 \n",
      " conv2 (Conv2D)              (None, 48, 32, 128)       73856     \n",
      "                                                                 \n",
      " pool2 (MaxPooling2D)        (None, 24, 16, 128)       0         \n",
      "                                                                 \n",
      " conv3/conv3_1 (Conv2D)      (None, 24, 16, 256)       295168    \n",
      "                                                                 \n",
      " conv3/conv3_2 (Conv2D)      (None, 24, 16, 256)       590080    \n",
      "                                                                 \n",
      " pool3 (MaxPooling2D)        (None, 12, 8, 256)        0         \n",
      "                                                                 \n",
      " conv4/conv4_1 (Conv2D)      (None, 12, 8, 512)        1180160   \n",
      "                                                                 \n",
      " conv4/conv4_2 (Conv2D)      (None, 12, 8, 512)        2359808   \n",
      "                                                                 \n",
      " pool4 (MaxPooling2D)        (None, 6, 4, 512)         0         \n",
      "                                                                 \n",
      " flatten_9 (Flatten)         (None, 12288)             0         \n",
      "                                                                 \n",
      " dense_37 (Dense)            (None, 512)               6291968   \n",
      "                                                                 \n",
      " dense_38 (Dense)            (None, 256)               131328    \n",
      "                                                                 \n",
      " dense_39 (Dense)            (None, 7)                 1799      \n",
      "                                                                 \n",
      "=================================================================\n",
      "Total params: 10924807 (41.67 MB)\n",
      "Trainable params: 10924807 (41.67 MB)\n",
      "Non-trainable params: 0 (0.00 Byte)\n",
      "_________________________________________________________________\n",
      "Model is using pre-trained weights.\n"
     ]
    }
   ],
   "source": [
    "custom_model.summary()\n",
    "\n",
    "# Get the weights of the model\n",
    "weights = custom_model.get_weights()\n",
    "\n",
    "# Check if the weights are not empty\n",
    "if len(weights) > 0:\n",
    "    print(\"Model is using pre-trained weights.\")\n",
    "else:\n",
    "    print(\"Model is NOT using pre-trained weights.\")\n"
   ]
  },
  {
   "cell_type": "code",
   "execution_count": 31,
   "id": "164a0416",
   "metadata": {},
   "outputs": [],
   "source": [
    "callbacks = [\n",
    "    create_early_stopping_callback(),\n",
    "    create_model_checkpoint_callback(\"transferLearning_vggish_melspec.h5\"),\n",
    "    create_reduce_lr_callback()\n",
    "]"
   ]
  },
  {
   "cell_type": "code",
   "execution_count": 32,
   "id": "e933ce76",
   "metadata": {},
   "outputs": [
    {
     "name": "stdout",
     "output_type": "stream",
     "text": [
      "Epoch 1/10\n",
      "104/421 [======>.......................] - ETA: 19:55 - loss: 1.8299 - accuracy: 0.2135"
     ]
    }
   ],
   "source": [
    "custom_model.compile(optimizer=Adam(0.001), loss='categorical_crossentropy', metrics=['accuracy'])\n",
    "\n",
    "custom_model.fit(\n",
    "    train_generator,\n",
    "    steps_per_epoch=train_generator.samples // train_generator.batch_size,\n",
    "    epochs=10,\n",
    "    validation_data=val_generator,\n",
    "    validation_steps=val_generator.samples // val_generator.batch_size,\n",
    "    callbacks=callbacks,\n",
    "    shuffle=True\n",
    ")\n"
   ]
  },
  {
   "cell_type": "code",
   "execution_count": null,
   "id": "60887ec8",
   "metadata": {},
   "outputs": [],
   "source": [
    "custom_model.save('saved_model')"
   ]
  },
  {
   "cell_type": "code",
   "execution_count": null,
   "id": "d249a7f2",
   "metadata": {},
   "outputs": [],
   "source": [
    "loss, accuracy = model.evaluate_generator(test_generator, steps=test_generator.samples // test_generator.batch_size)\n",
    "print(f\"Test loss: {loss:.4f}, Test accuracy: {accuracy:.4f}\")\n"
   ]
  }
 ],
 "metadata": {
  "kernelspec": {
   "display_name": "Python 3 (ipykernel)",
   "language": "python",
   "name": "python3"
  },
  "language_info": {
   "codemirror_mode": {
    "name": "ipython",
    "version": 3
   },
   "file_extension": ".py",
   "mimetype": "text/x-python",
   "name": "python",
   "nbconvert_exporter": "python",
   "pygments_lexer": "ipython3",
   "version": "3.11.2"
  }
 },
 "nbformat": 4,
 "nbformat_minor": 5
}
