{
 "cells": [
  {
   "cell_type": "markdown",
   "id": "fe9d62f9-500f-42a4-be40-481e2b1bfcd0",
   "metadata": {
    "tags": []
   },
   "source": [
    "# 1. Imports"
   ]
  },
  {
   "cell_type": "code",
   "execution_count": 1,
   "id": "d16245d3-8a8a-4d97-b1e4-7845ac5a789f",
   "metadata": {
    "tags": []
   },
   "outputs": [],
   "source": [
    "import os\n",
    "import pandas as pd\n",
    "import numpy as np"
   ]
  },
  {
   "cell_type": "markdown",
   "id": "ae651683-fc37-4077-8fed-f076fa8cdcda",
   "metadata": {},
   "source": [
    "# 2. Data Collection"
   ]
  },
  {
   "cell_type": "code",
   "execution_count": 2,
   "id": "7782d9d5-b4d1-4460-a716-1ddda02e5b3c",
   "metadata": {
    "tags": []
   },
   "outputs": [],
   "source": [
    "RAVDESS = \"./data/ravdess-emotional-speech-audio/\"\n",
    "CREMA = \"./data/cremad/\"\n",
    "TESS = \"./data/toronto-emotional-speech-set-tess/\"\n",
    "SAVEE = \"./data/surrey-audiovisual-expressed-emotion-savee/\""
   ]
  },
  {
   "cell_type": "markdown",
   "id": "68c58262",
   "metadata": {},
   "source": [
    "## 2.1. Ravdess dataframe"
   ]
  },
  {
   "cell_type": "code",
   "execution_count": 3,
   "id": "1e3ddabe",
   "metadata": {
    "tags": []
   },
   "outputs": [
    {
     "data": {
      "text/html": [
       "<div>\n",
       "<style scoped>\n",
       "    .dataframe tbody tr th:only-of-type {\n",
       "        vertical-align: middle;\n",
       "    }\n",
       "\n",
       "    .dataframe tbody tr th {\n",
       "        vertical-align: top;\n",
       "    }\n",
       "\n",
       "    .dataframe thead th {\n",
       "        text-align: right;\n",
       "    }\n",
       "</style>\n",
       "<table border=\"1\" class=\"dataframe\">\n",
       "  <thead>\n",
       "    <tr style=\"text-align: right;\">\n",
       "      <th></th>\n",
       "      <th>emotions</th>\n",
       "      <th>genders</th>\n",
       "      <th>audio_path</th>\n",
       "    </tr>\n",
       "  </thead>\n",
       "  <tbody>\n",
       "    <tr>\n",
       "      <th>0</th>\n",
       "      <td>neutral</td>\n",
       "      <td>male</td>\n",
       "      <td>./data/ravdess-emotional-speech-audio/Actor_01...</td>\n",
       "    </tr>\n",
       "    <tr>\n",
       "      <th>1</th>\n",
       "      <td>neutral</td>\n",
       "      <td>male</td>\n",
       "      <td>./data/ravdess-emotional-speech-audio/Actor_01...</td>\n",
       "    </tr>\n",
       "    <tr>\n",
       "      <th>2</th>\n",
       "      <td>neutral</td>\n",
       "      <td>male</td>\n",
       "      <td>./data/ravdess-emotional-speech-audio/Actor_01...</td>\n",
       "    </tr>\n",
       "    <tr>\n",
       "      <th>3</th>\n",
       "      <td>neutral</td>\n",
       "      <td>male</td>\n",
       "      <td>./data/ravdess-emotional-speech-audio/Actor_01...</td>\n",
       "    </tr>\n",
       "    <tr>\n",
       "      <th>4</th>\n",
       "      <td>calm</td>\n",
       "      <td>male</td>\n",
       "      <td>./data/ravdess-emotional-speech-audio/Actor_01...</td>\n",
       "    </tr>\n",
       "    <tr>\n",
       "      <th>...</th>\n",
       "      <td>...</td>\n",
       "      <td>...</td>\n",
       "      <td>...</td>\n",
       "    </tr>\n",
       "    <tr>\n",
       "      <th>1435</th>\n",
       "      <td>surprised</td>\n",
       "      <td>female</td>\n",
       "      <td>./data/ravdess-emotional-speech-audio/Actor_24...</td>\n",
       "    </tr>\n",
       "    <tr>\n",
       "      <th>1436</th>\n",
       "      <td>surprised</td>\n",
       "      <td>female</td>\n",
       "      <td>./data/ravdess-emotional-speech-audio/Actor_24...</td>\n",
       "    </tr>\n",
       "    <tr>\n",
       "      <th>1437</th>\n",
       "      <td>surprised</td>\n",
       "      <td>female</td>\n",
       "      <td>./data/ravdess-emotional-speech-audio/Actor_24...</td>\n",
       "    </tr>\n",
       "    <tr>\n",
       "      <th>1438</th>\n",
       "      <td>surprised</td>\n",
       "      <td>female</td>\n",
       "      <td>./data/ravdess-emotional-speech-audio/Actor_24...</td>\n",
       "    </tr>\n",
       "    <tr>\n",
       "      <th>1439</th>\n",
       "      <td>surprised</td>\n",
       "      <td>female</td>\n",
       "      <td>./data/ravdess-emotional-speech-audio/Actor_24...</td>\n",
       "    </tr>\n",
       "  </tbody>\n",
       "</table>\n",
       "<p>1440 rows × 3 columns</p>\n",
       "</div>"
      ],
      "text/plain": [
       "       emotions genders                                         audio_path\n",
       "0       neutral    male  ./data/ravdess-emotional-speech-audio/Actor_01...\n",
       "1       neutral    male  ./data/ravdess-emotional-speech-audio/Actor_01...\n",
       "2       neutral    male  ./data/ravdess-emotional-speech-audio/Actor_01...\n",
       "3       neutral    male  ./data/ravdess-emotional-speech-audio/Actor_01...\n",
       "4          calm    male  ./data/ravdess-emotional-speech-audio/Actor_01...\n",
       "...         ...     ...                                                ...\n",
       "1435  surprised  female  ./data/ravdess-emotional-speech-audio/Actor_24...\n",
       "1436  surprised  female  ./data/ravdess-emotional-speech-audio/Actor_24...\n",
       "1437  surprised  female  ./data/ravdess-emotional-speech-audio/Actor_24...\n",
       "1438  surprised  female  ./data/ravdess-emotional-speech-audio/Actor_24...\n",
       "1439  surprised  female  ./data/ravdess-emotional-speech-audio/Actor_24...\n",
       "\n",
       "[1440 rows x 3 columns]"
      ]
     },
     "execution_count": 3,
     "metadata": {},
     "output_type": "execute_result"
    }
   ],
   "source": [
    "ravdess_actors_list = os.listdir(RAVDESS)\n",
    "audio_emotion = []\n",
    "audio_path = []\n",
    "audio_gender = []\n",
    "for file in ravdess_actors_list:\n",
    "    actor = os.listdir(RAVDESS+file)\n",
    "    for audio in actor:\n",
    "        list_audio = audio.split('.')[0] # splitting by the into '**-**-**' . 'wav' and grab the first element\n",
    "        list_audio = list_audio.split('-') # splitting by the dash\n",
    "        gender_code = int(list_audio[6])\n",
    "        audio_emotion.append(int(list_audio[2])) # the third element describes the emotion class\n",
    "        audio_gender.append('female' if gender_code & 1 == 0 else 'male') # the third element describes the emotion class\n",
    "        audio_path.append(RAVDESS + file + '/' + audio)\n",
    "\n",
    "ravdess_df = pd.DataFrame({'emotions': audio_emotion, 'genders': audio_gender, 'audio_path': audio_path})\n",
    "\n",
    "# Mapping the values to emotions\n",
    "emotions2str = {\n",
    "    1: 'neutral',\n",
    "    2: 'calm',\n",
    "    3: 'happy',\n",
    "    4: 'sad',\n",
    "    5: 'angry',\n",
    "    6: 'fearful',\n",
    "    7: 'disgust',\n",
    "    8: 'surprised',\n",
    "}\n",
    "\n",
    "# Replace the values in the column with emotions\n",
    "ravdess_df['emotions'] = ravdess_df['emotions'] .replace(emotions2str)\n",
    "ravdess_df"
   ]
  },
  {
   "cell_type": "code",
   "execution_count": null,
   "id": "adad7441",
   "metadata": {},
   "outputs": [],
   "source": []
  }
 ],
 "metadata": {
  "kernelspec": {
   "display_name": "Python 3 (ipykernel)",
   "language": "python",
   "name": "python3"
  },
  "language_info": {
   "codemirror_mode": {
    "name": "ipython",
    "version": 3
   },
   "file_extension": ".py",
   "mimetype": "text/x-python",
   "name": "python",
   "nbconvert_exporter": "python",
   "pygments_lexer": "ipython3",
   "version": "3.11.3"
  }
 },
 "nbformat": 4,
 "nbformat_minor": 5
}
